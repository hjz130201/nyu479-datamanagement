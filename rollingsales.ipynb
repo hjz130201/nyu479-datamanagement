{
 "cells": [
  {
   "cell_type": "code",
   "execution_count": 2,
   "metadata": {},
   "outputs": [],
   "source": [
    "import pandas as pd\n"
   ]
  },
  {
   "cell_type": "code",
   "execution_count": 33,
   "metadata": {},
   "outputs": [
    {
     "output_type": "execute_result",
     "data": {
      "text/plain": [
       "  Manhattan Rolling Sales File.  All Sales From Sep 2018 - Aug 2019.  \\\n",
       "0  For sales prior to the Final, Neighborhood Nam...                   \n",
       "1  Building Class Category is based on Building C...                   \n",
       "2  Note: Condominium and cooperative sales are on...                   \n",
       "3                                            BOROUGH                   \n",
       "\n",
       "     Unnamed: 1               Unnamed: 2            Unnamed: 3 Unnamed: 4  \\\n",
       "0           NaN                      NaN                   NaN        NaN   \n",
       "1           NaN                      NaN                   NaN        NaN   \n",
       "2           NaN                      NaN                   NaN        NaN   \n",
       "3  NEIGHBORHOOD  BUILDING CLASS CATEGORY  TAX CLASS AT PRESENT      BLOCK   \n",
       "\n",
       "  Unnamed: 5 Unnamed: 6                 Unnamed: 7 Unnamed: 8  \\\n",
       "0        NaN        NaN                        NaN        NaN   \n",
       "1        NaN        NaN                        NaN        NaN   \n",
       "2        NaN        NaN                        NaN        NaN   \n",
       "3        LOT  EASE-MENT  BUILDING CLASS AT PRESENT    ADDRESS   \n",
       "\n",
       "         Unnamed: 9  ...        Unnamed: 11       Unnamed: 12  Unnamed: 13  \\\n",
       "0               NaN  ...                NaN               NaN          NaN   \n",
       "1               NaN  ...                NaN               NaN          NaN   \n",
       "2               NaN  ...                NaN               NaN          NaN   \n",
       "3  APARTMENT NUMBER  ...  RESIDENTIAL UNITS  COMMERCIAL UNITS  TOTAL UNITS   \n",
       "\n",
       "        Unnamed: 14        Unnamed: 15 Unnamed: 16                Unnamed: 17  \\\n",
       "0               NaN                NaN         NaN                        NaN   \n",
       "1               NaN                NaN         NaN                        NaN   \n",
       "2               NaN                NaN         NaN                        NaN   \n",
       "3  LAND SQUARE FEET  GROSS SQUARE FEET  YEAR BUILT  TAX CLASS AT TIME OF SALE   \n",
       "\n",
       "                      Unnamed: 18   Unnamed: 19 Unnamed: 20  \n",
       "0                             NaN           NaN         NaN  \n",
       "1                             NaN           NaN         NaN  \n",
       "2                             NaN           NaN         NaN  \n",
       "3  BUILDING CLASS AT TIME OF SALE   SALE PRICE    SALE DATE  \n",
       "\n",
       "[4 rows x 21 columns]"
      ],
      "text/html": "<div>\n<style scoped>\n    .dataframe tbody tr th:only-of-type {\n        vertical-align: middle;\n    }\n\n    .dataframe tbody tr th {\n        vertical-align: top;\n    }\n\n    .dataframe thead th {\n        text-align: right;\n    }\n</style>\n<table border=\"1\" class=\"dataframe\">\n  <thead>\n    <tr style=\"text-align: right;\">\n      <th></th>\n      <th>Manhattan Rolling Sales File.  All Sales From Sep 2018 - Aug 2019.</th>\n      <th>Unnamed: 1</th>\n      <th>Unnamed: 2</th>\n      <th>Unnamed: 3</th>\n      <th>Unnamed: 4</th>\n      <th>Unnamed: 5</th>\n      <th>Unnamed: 6</th>\n      <th>Unnamed: 7</th>\n      <th>Unnamed: 8</th>\n      <th>Unnamed: 9</th>\n      <th>...</th>\n      <th>Unnamed: 11</th>\n      <th>Unnamed: 12</th>\n      <th>Unnamed: 13</th>\n      <th>Unnamed: 14</th>\n      <th>Unnamed: 15</th>\n      <th>Unnamed: 16</th>\n      <th>Unnamed: 17</th>\n      <th>Unnamed: 18</th>\n      <th>Unnamed: 19</th>\n      <th>Unnamed: 20</th>\n    </tr>\n  </thead>\n  <tbody>\n    <tr>\n      <th>0</th>\n      <td>For sales prior to the Final, Neighborhood Nam...</td>\n      <td>NaN</td>\n      <td>NaN</td>\n      <td>NaN</td>\n      <td>NaN</td>\n      <td>NaN</td>\n      <td>NaN</td>\n      <td>NaN</td>\n      <td>NaN</td>\n      <td>NaN</td>\n      <td>...</td>\n      <td>NaN</td>\n      <td>NaN</td>\n      <td>NaN</td>\n      <td>NaN</td>\n      <td>NaN</td>\n      <td>NaN</td>\n      <td>NaN</td>\n      <td>NaN</td>\n      <td>NaN</td>\n      <td>NaN</td>\n    </tr>\n    <tr>\n      <th>1</th>\n      <td>Building Class Category is based on Building C...</td>\n      <td>NaN</td>\n      <td>NaN</td>\n      <td>NaN</td>\n      <td>NaN</td>\n      <td>NaN</td>\n      <td>NaN</td>\n      <td>NaN</td>\n      <td>NaN</td>\n      <td>NaN</td>\n      <td>...</td>\n      <td>NaN</td>\n      <td>NaN</td>\n      <td>NaN</td>\n      <td>NaN</td>\n      <td>NaN</td>\n      <td>NaN</td>\n      <td>NaN</td>\n      <td>NaN</td>\n      <td>NaN</td>\n      <td>NaN</td>\n    </tr>\n    <tr>\n      <th>2</th>\n      <td>Note: Condominium and cooperative sales are on...</td>\n      <td>NaN</td>\n      <td>NaN</td>\n      <td>NaN</td>\n      <td>NaN</td>\n      <td>NaN</td>\n      <td>NaN</td>\n      <td>NaN</td>\n      <td>NaN</td>\n      <td>NaN</td>\n      <td>...</td>\n      <td>NaN</td>\n      <td>NaN</td>\n      <td>NaN</td>\n      <td>NaN</td>\n      <td>NaN</td>\n      <td>NaN</td>\n      <td>NaN</td>\n      <td>NaN</td>\n      <td>NaN</td>\n      <td>NaN</td>\n    </tr>\n    <tr>\n      <th>3</th>\n      <td>BOROUGH</td>\n      <td>NEIGHBORHOOD</td>\n      <td>BUILDING CLASS CATEGORY</td>\n      <td>TAX CLASS AT PRESENT</td>\n      <td>BLOCK</td>\n      <td>LOT</td>\n      <td>EASE-MENT</td>\n      <td>BUILDING CLASS AT PRESENT</td>\n      <td>ADDRESS</td>\n      <td>APARTMENT NUMBER</td>\n      <td>...</td>\n      <td>RESIDENTIAL UNITS</td>\n      <td>COMMERCIAL UNITS</td>\n      <td>TOTAL UNITS</td>\n      <td>LAND SQUARE FEET</td>\n      <td>GROSS SQUARE FEET</td>\n      <td>YEAR BUILT</td>\n      <td>TAX CLASS AT TIME OF SALE</td>\n      <td>BUILDING CLASS AT TIME OF SALE</td>\n      <td>SALE PRICE</td>\n      <td>SALE DATE</td>\n    </tr>\n  </tbody>\n</table>\n<p>4 rows × 21 columns</p>\n</div>"
     },
     "metadata": {},
     "execution_count": 33
    }
   ],
   "source": [
    "df = pd.read_csv('../data/raw/rollingsales_manhattan.csv')\n",
    "df.head(4)\n"
   ]
  },
  {
   "cell_type": "code",
   "execution_count": 52,
   "metadata": {},
   "outputs": [
    {
     "output_type": "execute_result",
     "data": {
      "text/plain": [
       "   BOROUGH   NEIGHBORHOOD  BUILDING CLASS CATEGORY TAX CLASS AT PRESENT  \\\n",
       "0      1.0  ALPHABET CITY  01 ONE FAMILY DWELLINGS                    1   \n",
       "1      1.0  ALPHABET CITY  01 ONE FAMILY DWELLINGS                    1   \n",
       "2      1.0  ALPHABET CITY  02 TWO FAMILY DWELLINGS                    1   \n",
       "3      1.0  ALPHABET CITY  02 TWO FAMILY DWELLINGS                    1   \n",
       "4      1.0  ALPHABET CITY  02 TWO FAMILY DWELLINGS                    1   \n",
       "\n",
       "   BLOCK   LOT  EASE-MENT BUILDING CLASS AT PRESENT              ADDRESS  \\\n",
       "0  376.0  43.0        NaN                        S1  743 EAST 6TH STREET   \n",
       "1  400.0  19.0        NaN                        A4  526 EAST 5TH STREET   \n",
       "2  404.0   1.0        NaN                        B9         166 AVENUE A   \n",
       "3  404.0   1.0        NaN                        B9         166 AVENUE A   \n",
       "4  404.0   1.0        NaN                        B9         166 AVENUE A   \n",
       "\n",
       "  APARTMENT NUMBER  ...  RESIDENTIAL UNITS  COMMERCIAL UNITS  TOTAL UNITS  \\\n",
       "0              NaN  ...                1.0               1.0          2.0   \n",
       "1              NaN  ...                1.0               0.0          1.0   \n",
       "2              NaN  ...                2.0               0.0          2.0   \n",
       "3              NaN  ...                2.0               0.0          2.0   \n",
       "4              NaN  ...                2.0               0.0          2.0   \n",
       "\n",
       "   LAND SQUARE FEET GROSS SQUARE FEET YEAR BUILT  TAX CLASS AT TIME OF SALE  \\\n",
       "0             2,090             3,680     1940.0                        1.0   \n",
       "1             1,883             5,200     1900.0                        1.0   \n",
       "2             1,510             4,520     1900.0                        1.0   \n",
       "3             1,510             4,520     1900.0                        1.0   \n",
       "4             1,510             4,520     1900.0                        1.0   \n",
       "\n",
       "   BUILDING CLASS AT TIME OF SALE  SALE PRICE  SALE DATE  \n",
       "0                              S1    3,200,000   7/24/19  \n",
       "1                              A4    6,100,000   12/3/18  \n",
       "2                              B9            0   7/22/19  \n",
       "3                              B9            0  11/29/18  \n",
       "4                              B9            0  11/29/18  \n",
       "\n",
       "[5 rows x 21 columns]"
      ],
      "text/html": "<div>\n<style scoped>\n    .dataframe tbody tr th:only-of-type {\n        vertical-align: middle;\n    }\n\n    .dataframe tbody tr th {\n        vertical-align: top;\n    }\n\n    .dataframe thead th {\n        text-align: right;\n    }\n</style>\n<table border=\"1\" class=\"dataframe\">\n  <thead>\n    <tr style=\"text-align: right;\">\n      <th></th>\n      <th>BOROUGH</th>\n      <th>NEIGHBORHOOD</th>\n      <th>BUILDING CLASS CATEGORY</th>\n      <th>TAX CLASS AT PRESENT</th>\n      <th>BLOCK</th>\n      <th>LOT</th>\n      <th>EASE-MENT</th>\n      <th>BUILDING CLASS AT PRESENT</th>\n      <th>ADDRESS</th>\n      <th>APARTMENT NUMBER</th>\n      <th>...</th>\n      <th>RESIDENTIAL UNITS</th>\n      <th>COMMERCIAL UNITS</th>\n      <th>TOTAL UNITS</th>\n      <th>LAND SQUARE FEET</th>\n      <th>GROSS SQUARE FEET</th>\n      <th>YEAR BUILT</th>\n      <th>TAX CLASS AT TIME OF SALE</th>\n      <th>BUILDING CLASS AT TIME OF SALE</th>\n      <th>SALE PRICE</th>\n      <th>SALE DATE</th>\n    </tr>\n  </thead>\n  <tbody>\n    <tr>\n      <th>0</th>\n      <td>1.0</td>\n      <td>ALPHABET CITY</td>\n      <td>01 ONE FAMILY DWELLINGS</td>\n      <td>1</td>\n      <td>376.0</td>\n      <td>43.0</td>\n      <td>NaN</td>\n      <td>S1</td>\n      <td>743 EAST 6TH STREET</td>\n      <td>NaN</td>\n      <td>...</td>\n      <td>1.0</td>\n      <td>1.0</td>\n      <td>2.0</td>\n      <td>2,090</td>\n      <td>3,680</td>\n      <td>1940.0</td>\n      <td>1.0</td>\n      <td>S1</td>\n      <td>3,200,000</td>\n      <td>7/24/19</td>\n    </tr>\n    <tr>\n      <th>1</th>\n      <td>1.0</td>\n      <td>ALPHABET CITY</td>\n      <td>01 ONE FAMILY DWELLINGS</td>\n      <td>1</td>\n      <td>400.0</td>\n      <td>19.0</td>\n      <td>NaN</td>\n      <td>A4</td>\n      <td>526 EAST 5TH STREET</td>\n      <td>NaN</td>\n      <td>...</td>\n      <td>1.0</td>\n      <td>0.0</td>\n      <td>1.0</td>\n      <td>1,883</td>\n      <td>5,200</td>\n      <td>1900.0</td>\n      <td>1.0</td>\n      <td>A4</td>\n      <td>6,100,000</td>\n      <td>12/3/18</td>\n    </tr>\n    <tr>\n      <th>2</th>\n      <td>1.0</td>\n      <td>ALPHABET CITY</td>\n      <td>02 TWO FAMILY DWELLINGS</td>\n      <td>1</td>\n      <td>404.0</td>\n      <td>1.0</td>\n      <td>NaN</td>\n      <td>B9</td>\n      <td>166 AVENUE A</td>\n      <td>NaN</td>\n      <td>...</td>\n      <td>2.0</td>\n      <td>0.0</td>\n      <td>2.0</td>\n      <td>1,510</td>\n      <td>4,520</td>\n      <td>1900.0</td>\n      <td>1.0</td>\n      <td>B9</td>\n      <td>0</td>\n      <td>7/22/19</td>\n    </tr>\n    <tr>\n      <th>3</th>\n      <td>1.0</td>\n      <td>ALPHABET CITY</td>\n      <td>02 TWO FAMILY DWELLINGS</td>\n      <td>1</td>\n      <td>404.0</td>\n      <td>1.0</td>\n      <td>NaN</td>\n      <td>B9</td>\n      <td>166 AVENUE A</td>\n      <td>NaN</td>\n      <td>...</td>\n      <td>2.0</td>\n      <td>0.0</td>\n      <td>2.0</td>\n      <td>1,510</td>\n      <td>4,520</td>\n      <td>1900.0</td>\n      <td>1.0</td>\n      <td>B9</td>\n      <td>0</td>\n      <td>11/29/18</td>\n    </tr>\n    <tr>\n      <th>4</th>\n      <td>1.0</td>\n      <td>ALPHABET CITY</td>\n      <td>02 TWO FAMILY DWELLINGS</td>\n      <td>1</td>\n      <td>404.0</td>\n      <td>1.0</td>\n      <td>NaN</td>\n      <td>B9</td>\n      <td>166 AVENUE A</td>\n      <td>NaN</td>\n      <td>...</td>\n      <td>2.0</td>\n      <td>0.0</td>\n      <td>2.0</td>\n      <td>1,510</td>\n      <td>4,520</td>\n      <td>1900.0</td>\n      <td>1.0</td>\n      <td>B9</td>\n      <td>0</td>\n      <td>11/29/18</td>\n    </tr>\n  </tbody>\n</table>\n<p>5 rows × 21 columns</p>\n</div>"
     },
     "metadata": {},
     "execution_count": 52
    }
   ],
   "source": [
    "#the first few rows need to be skipped \n",
    "df = pd.read_csv('../data/raw/rollingsales_manhattan.csv', skiprows=4)\n",
    "df.head()"
   ]
  },
  {
   "cell_type": "code",
   "execution_count": 35,
   "metadata": {},
   "outputs": [
    {
     "output_type": "execute_result",
     "data": {
      "text/plain": [
       "Empty DataFrame\n",
       "Columns: [BOROUGH, NEIGHBORHOOD, BUILDING CLASS CATEGORY, TAX CLASS AT PRESENT, BLOCK, LOT, EASE-MENT, BUILDING CLASS AT PRESENT, ADDRESS, APARTMENT NUMBER, ZIP CODE, RESIDENTIAL UNITS, COMMERCIAL UNITS, TOTAL UNITS, LAND SQUARE FEET, GROSS SQUARE FEET, YEAR BUILT, TAX CLASS AT TIME OF SALE, BUILDING CLASS AT TIME OF SALE,  SALE PRICE , SALE DATE]\n",
       "Index: []\n",
       "\n",
       "[0 rows x 21 columns]"
      ],
      "text/html": "<div>\n<style scoped>\n    .dataframe tbody tr th:only-of-type {\n        vertical-align: middle;\n    }\n\n    .dataframe tbody tr th {\n        vertical-align: top;\n    }\n\n    .dataframe thead th {\n        text-align: right;\n    }\n</style>\n<table border=\"1\" class=\"dataframe\">\n  <thead>\n    <tr style=\"text-align: right;\">\n      <th></th>\n      <th>BOROUGH</th>\n      <th>NEIGHBORHOOD</th>\n      <th>BUILDING CLASS CATEGORY</th>\n      <th>TAX CLASS AT PRESENT</th>\n      <th>BLOCK</th>\n      <th>LOT</th>\n      <th>EASE-MENT</th>\n      <th>BUILDING CLASS AT PRESENT</th>\n      <th>ADDRESS</th>\n      <th>APARTMENT NUMBER</th>\n      <th>...</th>\n      <th>RESIDENTIAL UNITS</th>\n      <th>COMMERCIAL UNITS</th>\n      <th>TOTAL UNITS</th>\n      <th>LAND SQUARE FEET</th>\n      <th>GROSS SQUARE FEET</th>\n      <th>YEAR BUILT</th>\n      <th>TAX CLASS AT TIME OF SALE</th>\n      <th>BUILDING CLASS AT TIME OF SALE</th>\n      <th>SALE PRICE</th>\n      <th>SALE DATE</th>\n    </tr>\n  </thead>\n  <tbody>\n  </tbody>\n</table>\n<p>0 rows × 21 columns</p>\n</div>"
     },
     "metadata": {},
     "execution_count": 35
    }
   ],
   "source": [
    "#the name of columns\n",
    "df.head(0)"
   ]
  },
  {
   "cell_type": "code",
   "execution_count": 36,
   "metadata": {},
   "outputs": [
    {
     "output_type": "execute_result",
     "data": {
      "text/plain": [
       "   BOROUGH   NEIGHBORHOOD  BUILDING CLASS CATEGORY TAX CLASS AT PRESENT  \\\n",
       "0      1.0  ALPHABET CITY  01 ONE FAMILY DWELLINGS                    1   \n",
       "1      1.0  ALPHABET CITY  01 ONE FAMILY DWELLINGS                    1   \n",
       "2      1.0  ALPHABET CITY  02 TWO FAMILY DWELLINGS                    1   \n",
       "3      1.0  ALPHABET CITY  02 TWO FAMILY DWELLINGS                    1   \n",
       "4      1.0  ALPHABET CITY  02 TWO FAMILY DWELLINGS                    1   \n",
       "\n",
       "   BLOCK   LOT  EASE-MENT BUILDING CLASS AT PRESENT              ADDRESS  \\\n",
       "0  376.0  43.0        NaN                        S1  743 EAST 6TH STREET   \n",
       "1  400.0  19.0        NaN                        A4  526 EAST 5TH STREET   \n",
       "2  404.0   1.0        NaN                        B9         166 AVENUE A   \n",
       "3  404.0   1.0        NaN                        B9         166 AVENUE A   \n",
       "4  404.0   1.0        NaN                        B9         166 AVENUE A   \n",
       "\n",
       "  APARTMENT NUMBER  ...  RESIDENTIAL UNITS  COMMERCIAL UNITS  TOTAL UNITS  \\\n",
       "0              NaN  ...                1.0               1.0          2.0   \n",
       "1              NaN  ...                1.0               0.0          1.0   \n",
       "2              NaN  ...                2.0               0.0          2.0   \n",
       "3              NaN  ...                2.0               0.0          2.0   \n",
       "4              NaN  ...                2.0               0.0          2.0   \n",
       "\n",
       "   LAND SQUARE FEET GROSS SQUARE FEET YEAR BUILT  TAX CLASS AT TIME OF SALE  \\\n",
       "0             2,090             3,680     1940.0                        1.0   \n",
       "1             1,883             5,200     1900.0                        1.0   \n",
       "2             1,510             4,520     1900.0                        1.0   \n",
       "3             1,510             4,520     1900.0                        1.0   \n",
       "4             1,510             4,520     1900.0                        1.0   \n",
       "\n",
       "   BUILDING CLASS AT TIME OF SALE  SALE PRICE  SALE DATE  \n",
       "0                              S1    3,200,000   7/24/19  \n",
       "1                              A4    6,100,000   12/3/18  \n",
       "2                              B9            0   7/22/19  \n",
       "3                              B9            0  11/29/18  \n",
       "4                              B9            0  11/29/18  \n",
       "\n",
       "[5 rows x 21 columns]"
      ],
      "text/html": "<div>\n<style scoped>\n    .dataframe tbody tr th:only-of-type {\n        vertical-align: middle;\n    }\n\n    .dataframe tbody tr th {\n        vertical-align: top;\n    }\n\n    .dataframe thead th {\n        text-align: right;\n    }\n</style>\n<table border=\"1\" class=\"dataframe\">\n  <thead>\n    <tr style=\"text-align: right;\">\n      <th></th>\n      <th>BOROUGH</th>\n      <th>NEIGHBORHOOD</th>\n      <th>BUILDING CLASS CATEGORY</th>\n      <th>TAX CLASS AT PRESENT</th>\n      <th>BLOCK</th>\n      <th>LOT</th>\n      <th>EASE-MENT</th>\n      <th>BUILDING CLASS AT PRESENT</th>\n      <th>ADDRESS</th>\n      <th>APARTMENT NUMBER</th>\n      <th>...</th>\n      <th>RESIDENTIAL UNITS</th>\n      <th>COMMERCIAL UNITS</th>\n      <th>TOTAL UNITS</th>\n      <th>LAND SQUARE FEET</th>\n      <th>GROSS SQUARE FEET</th>\n      <th>YEAR BUILT</th>\n      <th>TAX CLASS AT TIME OF SALE</th>\n      <th>BUILDING CLASS AT TIME OF SALE</th>\n      <th>SALE PRICE</th>\n      <th>SALE DATE</th>\n    </tr>\n  </thead>\n  <tbody>\n    <tr>\n      <th>0</th>\n      <td>1.0</td>\n      <td>ALPHABET CITY</td>\n      <td>01 ONE FAMILY DWELLINGS</td>\n      <td>1</td>\n      <td>376.0</td>\n      <td>43.0</td>\n      <td>NaN</td>\n      <td>S1</td>\n      <td>743 EAST 6TH STREET</td>\n      <td>NaN</td>\n      <td>...</td>\n      <td>1.0</td>\n      <td>1.0</td>\n      <td>2.0</td>\n      <td>2,090</td>\n      <td>3,680</td>\n      <td>1940.0</td>\n      <td>1.0</td>\n      <td>S1</td>\n      <td>3,200,000</td>\n      <td>7/24/19</td>\n    </tr>\n    <tr>\n      <th>1</th>\n      <td>1.0</td>\n      <td>ALPHABET CITY</td>\n      <td>01 ONE FAMILY DWELLINGS</td>\n      <td>1</td>\n      <td>400.0</td>\n      <td>19.0</td>\n      <td>NaN</td>\n      <td>A4</td>\n      <td>526 EAST 5TH STREET</td>\n      <td>NaN</td>\n      <td>...</td>\n      <td>1.0</td>\n      <td>0.0</td>\n      <td>1.0</td>\n      <td>1,883</td>\n      <td>5,200</td>\n      <td>1900.0</td>\n      <td>1.0</td>\n      <td>A4</td>\n      <td>6,100,000</td>\n      <td>12/3/18</td>\n    </tr>\n    <tr>\n      <th>2</th>\n      <td>1.0</td>\n      <td>ALPHABET CITY</td>\n      <td>02 TWO FAMILY DWELLINGS</td>\n      <td>1</td>\n      <td>404.0</td>\n      <td>1.0</td>\n      <td>NaN</td>\n      <td>B9</td>\n      <td>166 AVENUE A</td>\n      <td>NaN</td>\n      <td>...</td>\n      <td>2.0</td>\n      <td>0.0</td>\n      <td>2.0</td>\n      <td>1,510</td>\n      <td>4,520</td>\n      <td>1900.0</td>\n      <td>1.0</td>\n      <td>B9</td>\n      <td>0</td>\n      <td>7/22/19</td>\n    </tr>\n    <tr>\n      <th>3</th>\n      <td>1.0</td>\n      <td>ALPHABET CITY</td>\n      <td>02 TWO FAMILY DWELLINGS</td>\n      <td>1</td>\n      <td>404.0</td>\n      <td>1.0</td>\n      <td>NaN</td>\n      <td>B9</td>\n      <td>166 AVENUE A</td>\n      <td>NaN</td>\n      <td>...</td>\n      <td>2.0</td>\n      <td>0.0</td>\n      <td>2.0</td>\n      <td>1,510</td>\n      <td>4,520</td>\n      <td>1900.0</td>\n      <td>1.0</td>\n      <td>B9</td>\n      <td>0</td>\n      <td>11/29/18</td>\n    </tr>\n    <tr>\n      <th>4</th>\n      <td>1.0</td>\n      <td>ALPHABET CITY</td>\n      <td>02 TWO FAMILY DWELLINGS</td>\n      <td>1</td>\n      <td>404.0</td>\n      <td>1.0</td>\n      <td>NaN</td>\n      <td>B9</td>\n      <td>166 AVENUE A</td>\n      <td>NaN</td>\n      <td>...</td>\n      <td>2.0</td>\n      <td>0.0</td>\n      <td>2.0</td>\n      <td>1,510</td>\n      <td>4,520</td>\n      <td>1900.0</td>\n      <td>1.0</td>\n      <td>B9</td>\n      <td>0</td>\n      <td>11/29/18</td>\n    </tr>\n  </tbody>\n</table>\n<p>5 rows × 21 columns</p>\n</div>"
     },
     "metadata": {},
     "execution_count": 36
    }
   ],
   "source": [
    "#first 5 rows\n",
    "df.head(5)"
   ]
  },
  {
   "cell_type": "code",
   "execution_count": 37,
   "metadata": {},
   "outputs": [
    {
     "output_type": "execute_result",
     "data": {
      "text/plain": [
       "       BOROUGH             NEIGHBORHOOD          BUILDING CLASS CATEGORY  \\\n",
       "1460       1.0             EAST VILLAGE  13 CONDOS - ELEVATOR APARTMENTS   \n",
       "17339      NaN                      NaN                              NaN   \n",
       "12339      1.0  UPPER EAST SIDE (79-96)          02 TWO FAMILY DWELLINGS   \n",
       "1724       1.0                FINANCIAL   10 COOPS - ELEVATOR APARTMENTS   \n",
       "12052      1.0  UPPER EAST SIDE (59-79)  13 CONDOS - ELEVATOR APARTMENTS   \n",
       "\n",
       "      TAX CLASS AT PRESENT   BLOCK     LOT  EASE-MENT  \\\n",
       "1460                     2   443.0  1411.0        NaN   \n",
       "17339                  NaN     NaN     NaN        NaN   \n",
       "12339                    1  1492.0    64.0        NaN   \n",
       "1724                     2    28.0     1.0        NaN   \n",
       "12052                    2  1470.0  1158.0        NaN   \n",
       "\n",
       "      BUILDING CLASS AT PRESENT                      ADDRESS APARTMENT NUMBER  \\\n",
       "1460                         R4              24 2 AVENUE, 4A               4A   \n",
       "17339                       NaN                          NaN              NaN   \n",
       "12339                        B1          12 EAST 81ST STREET              NaN   \n",
       "1724                         D0         3 HANOVER SQUARE, 2C              NaN   \n",
       "12052                        R4  404 EAST 76TH STREET, 25A/D            25A/D   \n",
       "\n",
       "       ...  RESIDENTIAL UNITS  COMMERCIAL UNITS  TOTAL UNITS  \\\n",
       "1460   ...                NaN               NaN          NaN   \n",
       "17339  ...                NaN               NaN          NaN   \n",
       "12339  ...                2.0               0.0          2.0   \n",
       "1724   ...                NaN               NaN          NaN   \n",
       "12052  ...                NaN               NaN          NaN   \n",
       "\n",
       "       LAND SQUARE FEET GROSS SQUARE FEET YEAR BUILT  \\\n",
       "1460                NaN             1,238     2017.0   \n",
       "17339               NaN               NaN        NaN   \n",
       "12339             2,086             6,840     1901.0   \n",
       "1724                NaN               NaN     1926.0   \n",
       "12052               NaN             2,183        0.0   \n",
       "\n",
       "       TAX CLASS AT TIME OF SALE  BUILDING CLASS AT TIME OF SALE  SALE PRICE   \\\n",
       "1460                         2.0                              R4    2,975,000   \n",
       "17339                        NaN                             NaN          NaN   \n",
       "12339                        1.0                              B1   23,000,000   \n",
       "1724                         2.0                              D0      767,500   \n",
       "12052                        2.0                              R4    3,450,000   \n",
       "\n",
       "      SALE DATE  \n",
       "1460    5/17/19  \n",
       "17339       NaN  \n",
       "12339   6/25/19  \n",
       "1724    6/12/19  \n",
       "12052    4/5/19  \n",
       "\n",
       "[5 rows x 21 columns]"
      ],
      "text/html": "<div>\n<style scoped>\n    .dataframe tbody tr th:only-of-type {\n        vertical-align: middle;\n    }\n\n    .dataframe tbody tr th {\n        vertical-align: top;\n    }\n\n    .dataframe thead th {\n        text-align: right;\n    }\n</style>\n<table border=\"1\" class=\"dataframe\">\n  <thead>\n    <tr style=\"text-align: right;\">\n      <th></th>\n      <th>BOROUGH</th>\n      <th>NEIGHBORHOOD</th>\n      <th>BUILDING CLASS CATEGORY</th>\n      <th>TAX CLASS AT PRESENT</th>\n      <th>BLOCK</th>\n      <th>LOT</th>\n      <th>EASE-MENT</th>\n      <th>BUILDING CLASS AT PRESENT</th>\n      <th>ADDRESS</th>\n      <th>APARTMENT NUMBER</th>\n      <th>...</th>\n      <th>RESIDENTIAL UNITS</th>\n      <th>COMMERCIAL UNITS</th>\n      <th>TOTAL UNITS</th>\n      <th>LAND SQUARE FEET</th>\n      <th>GROSS SQUARE FEET</th>\n      <th>YEAR BUILT</th>\n      <th>TAX CLASS AT TIME OF SALE</th>\n      <th>BUILDING CLASS AT TIME OF SALE</th>\n      <th>SALE PRICE</th>\n      <th>SALE DATE</th>\n    </tr>\n  </thead>\n  <tbody>\n    <tr>\n      <th>1460</th>\n      <td>1.0</td>\n      <td>EAST VILLAGE</td>\n      <td>13 CONDOS - ELEVATOR APARTMENTS</td>\n      <td>2</td>\n      <td>443.0</td>\n      <td>1411.0</td>\n      <td>NaN</td>\n      <td>R4</td>\n      <td>24 2 AVENUE, 4A</td>\n      <td>4A</td>\n      <td>...</td>\n      <td>NaN</td>\n      <td>NaN</td>\n      <td>NaN</td>\n      <td>NaN</td>\n      <td>1,238</td>\n      <td>2017.0</td>\n      <td>2.0</td>\n      <td>R4</td>\n      <td>2,975,000</td>\n      <td>5/17/19</td>\n    </tr>\n    <tr>\n      <th>17339</th>\n      <td>NaN</td>\n      <td>NaN</td>\n      <td>NaN</td>\n      <td>NaN</td>\n      <td>NaN</td>\n      <td>NaN</td>\n      <td>NaN</td>\n      <td>NaN</td>\n      <td>NaN</td>\n      <td>NaN</td>\n      <td>...</td>\n      <td>NaN</td>\n      <td>NaN</td>\n      <td>NaN</td>\n      <td>NaN</td>\n      <td>NaN</td>\n      <td>NaN</td>\n      <td>NaN</td>\n      <td>NaN</td>\n      <td>NaN</td>\n      <td>NaN</td>\n    </tr>\n    <tr>\n      <th>12339</th>\n      <td>1.0</td>\n      <td>UPPER EAST SIDE (79-96)</td>\n      <td>02 TWO FAMILY DWELLINGS</td>\n      <td>1</td>\n      <td>1492.0</td>\n      <td>64.0</td>\n      <td>NaN</td>\n      <td>B1</td>\n      <td>12 EAST 81ST STREET</td>\n      <td>NaN</td>\n      <td>...</td>\n      <td>2.0</td>\n      <td>0.0</td>\n      <td>2.0</td>\n      <td>2,086</td>\n      <td>6,840</td>\n      <td>1901.0</td>\n      <td>1.0</td>\n      <td>B1</td>\n      <td>23,000,000</td>\n      <td>6/25/19</td>\n    </tr>\n    <tr>\n      <th>1724</th>\n      <td>1.0</td>\n      <td>FINANCIAL</td>\n      <td>10 COOPS - ELEVATOR APARTMENTS</td>\n      <td>2</td>\n      <td>28.0</td>\n      <td>1.0</td>\n      <td>NaN</td>\n      <td>D0</td>\n      <td>3 HANOVER SQUARE, 2C</td>\n      <td>NaN</td>\n      <td>...</td>\n      <td>NaN</td>\n      <td>NaN</td>\n      <td>NaN</td>\n      <td>NaN</td>\n      <td>NaN</td>\n      <td>1926.0</td>\n      <td>2.0</td>\n      <td>D0</td>\n      <td>767,500</td>\n      <td>6/12/19</td>\n    </tr>\n    <tr>\n      <th>12052</th>\n      <td>1.0</td>\n      <td>UPPER EAST SIDE (59-79)</td>\n      <td>13 CONDOS - ELEVATOR APARTMENTS</td>\n      <td>2</td>\n      <td>1470.0</td>\n      <td>1158.0</td>\n      <td>NaN</td>\n      <td>R4</td>\n      <td>404 EAST 76TH STREET, 25A/D</td>\n      <td>25A/D</td>\n      <td>...</td>\n      <td>NaN</td>\n      <td>NaN</td>\n      <td>NaN</td>\n      <td>NaN</td>\n      <td>2,183</td>\n      <td>0.0</td>\n      <td>2.0</td>\n      <td>R4</td>\n      <td>3,450,000</td>\n      <td>4/5/19</td>\n    </tr>\n  </tbody>\n</table>\n<p>5 rows × 21 columns</p>\n</div>"
     },
     "metadata": {},
     "execution_count": 37
    }
   ],
   "source": [
    "#random 5 rows\n",
    "df.sample(5)"
   ]
  },
  {
   "cell_type": "code",
   "execution_count": 16,
   "metadata": {},
   "outputs": [
    {
     "output_type": "execute_result",
     "data": {
      "text/plain": [
       "       BOROUGH NEIGHBORHOOD BUILDING CLASS CATEGORY TAX CLASS AT PRESENT  \\\n",
       "17527      NaN          NaN                     NaN                  NaN   \n",
       "17528      NaN          NaN                     NaN                  NaN   \n",
       "17529      NaN          NaN                     NaN                  NaN   \n",
       "17530      NaN          NaN                     NaN                  NaN   \n",
       "17531      NaN          NaN                     NaN                  NaN   \n",
       "\n",
       "       BLOCK  LOT  EASE-MENT BUILDING CLASS AT PRESENT ADDRESS  \\\n",
       "17527    NaN  NaN        NaN                       NaN     NaN   \n",
       "17528    NaN  NaN        NaN                       NaN     NaN   \n",
       "17529    NaN  NaN        NaN                       NaN     NaN   \n",
       "17530    NaN  NaN        NaN                       NaN     NaN   \n",
       "17531    NaN  NaN        NaN                       NaN     NaN   \n",
       "\n",
       "      APARTMENT NUMBER  ...  RESIDENTIAL UNITS  COMMERCIAL UNITS  TOTAL UNITS  \\\n",
       "17527              NaN  ...                NaN               NaN          NaN   \n",
       "17528              NaN  ...                NaN               NaN          NaN   \n",
       "17529              NaN  ...                NaN               NaN          NaN   \n",
       "17530              NaN  ...                NaN               NaN          NaN   \n",
       "17531              NaN  ...                NaN               NaN          NaN   \n",
       "\n",
       "       LAND SQUARE FEET GROSS SQUARE FEET YEAR BUILT  \\\n",
       "17527               NaN               NaN        NaN   \n",
       "17528               NaN               NaN        NaN   \n",
       "17529               NaN               NaN        NaN   \n",
       "17530               NaN               NaN        NaN   \n",
       "17531               NaN               NaN        NaN   \n",
       "\n",
       "       TAX CLASS AT TIME OF SALE  BUILDING CLASS AT TIME OF SALE  SALE PRICE   \\\n",
       "17527                        NaN                             NaN          NaN   \n",
       "17528                        NaN                             NaN          NaN   \n",
       "17529                        NaN                             NaN          NaN   \n",
       "17530                        NaN                             NaN          NaN   \n",
       "17531                        NaN                             NaN          NaN   \n",
       "\n",
       "      SALE DATE  \n",
       "17527       NaN  \n",
       "17528       NaN  \n",
       "17529       NaN  \n",
       "17530       NaN  \n",
       "17531       NaN  \n",
       "\n",
       "[5 rows x 21 columns]"
      ],
      "text/html": "<div>\n<style scoped>\n    .dataframe tbody tr th:only-of-type {\n        vertical-align: middle;\n    }\n\n    .dataframe tbody tr th {\n        vertical-align: top;\n    }\n\n    .dataframe thead th {\n        text-align: right;\n    }\n</style>\n<table border=\"1\" class=\"dataframe\">\n  <thead>\n    <tr style=\"text-align: right;\">\n      <th></th>\n      <th>BOROUGH</th>\n      <th>NEIGHBORHOOD</th>\n      <th>BUILDING CLASS CATEGORY</th>\n      <th>TAX CLASS AT PRESENT</th>\n      <th>BLOCK</th>\n      <th>LOT</th>\n      <th>EASE-MENT</th>\n      <th>BUILDING CLASS AT PRESENT</th>\n      <th>ADDRESS</th>\n      <th>APARTMENT NUMBER</th>\n      <th>...</th>\n      <th>RESIDENTIAL UNITS</th>\n      <th>COMMERCIAL UNITS</th>\n      <th>TOTAL UNITS</th>\n      <th>LAND SQUARE FEET</th>\n      <th>GROSS SQUARE FEET</th>\n      <th>YEAR BUILT</th>\n      <th>TAX CLASS AT TIME OF SALE</th>\n      <th>BUILDING CLASS AT TIME OF SALE</th>\n      <th>SALE PRICE</th>\n      <th>SALE DATE</th>\n    </tr>\n  </thead>\n  <tbody>\n    <tr>\n      <th>17527</th>\n      <td>NaN</td>\n      <td>NaN</td>\n      <td>NaN</td>\n      <td>NaN</td>\n      <td>NaN</td>\n      <td>NaN</td>\n      <td>NaN</td>\n      <td>NaN</td>\n      <td>NaN</td>\n      <td>NaN</td>\n      <td>...</td>\n      <td>NaN</td>\n      <td>NaN</td>\n      <td>NaN</td>\n      <td>NaN</td>\n      <td>NaN</td>\n      <td>NaN</td>\n      <td>NaN</td>\n      <td>NaN</td>\n      <td>NaN</td>\n      <td>NaN</td>\n    </tr>\n    <tr>\n      <th>17528</th>\n      <td>NaN</td>\n      <td>NaN</td>\n      <td>NaN</td>\n      <td>NaN</td>\n      <td>NaN</td>\n      <td>NaN</td>\n      <td>NaN</td>\n      <td>NaN</td>\n      <td>NaN</td>\n      <td>NaN</td>\n      <td>...</td>\n      <td>NaN</td>\n      <td>NaN</td>\n      <td>NaN</td>\n      <td>NaN</td>\n      <td>NaN</td>\n      <td>NaN</td>\n      <td>NaN</td>\n      <td>NaN</td>\n      <td>NaN</td>\n      <td>NaN</td>\n    </tr>\n    <tr>\n      <th>17529</th>\n      <td>NaN</td>\n      <td>NaN</td>\n      <td>NaN</td>\n      <td>NaN</td>\n      <td>NaN</td>\n      <td>NaN</td>\n      <td>NaN</td>\n      <td>NaN</td>\n      <td>NaN</td>\n      <td>NaN</td>\n      <td>...</td>\n      <td>NaN</td>\n      <td>NaN</td>\n      <td>NaN</td>\n      <td>NaN</td>\n      <td>NaN</td>\n      <td>NaN</td>\n      <td>NaN</td>\n      <td>NaN</td>\n      <td>NaN</td>\n      <td>NaN</td>\n    </tr>\n    <tr>\n      <th>17530</th>\n      <td>NaN</td>\n      <td>NaN</td>\n      <td>NaN</td>\n      <td>NaN</td>\n      <td>NaN</td>\n      <td>NaN</td>\n      <td>NaN</td>\n      <td>NaN</td>\n      <td>NaN</td>\n      <td>NaN</td>\n      <td>...</td>\n      <td>NaN</td>\n      <td>NaN</td>\n      <td>NaN</td>\n      <td>NaN</td>\n      <td>NaN</td>\n      <td>NaN</td>\n      <td>NaN</td>\n      <td>NaN</td>\n      <td>NaN</td>\n      <td>NaN</td>\n    </tr>\n    <tr>\n      <th>17531</th>\n      <td>NaN</td>\n      <td>NaN</td>\n      <td>NaN</td>\n      <td>NaN</td>\n      <td>NaN</td>\n      <td>NaN</td>\n      <td>NaN</td>\n      <td>NaN</td>\n      <td>NaN</td>\n      <td>NaN</td>\n      <td>...</td>\n      <td>NaN</td>\n      <td>NaN</td>\n      <td>NaN</td>\n      <td>NaN</td>\n      <td>NaN</td>\n      <td>NaN</td>\n      <td>NaN</td>\n      <td>NaN</td>\n      <td>NaN</td>\n      <td>NaN</td>\n    </tr>\n  </tbody>\n</table>\n<p>5 rows × 21 columns</p>\n</div>"
     },
     "metadata": {},
     "execution_count": 16
    }
   ],
   "source": [
    "#last five rows\n",
    "df.tail(5)"
   ]
  },
  {
   "cell_type": "code",
   "execution_count": 19,
   "metadata": {},
   "outputs": [
    {
     "output_type": "execute_result",
     "data": {
      "text/plain": [
       "Index(['BOROUGH', 'NEIGHBORHOOD', 'BUILDING CLASS CATEGORY',\n",
       "       'TAX CLASS AT PRESENT', 'BLOCK', 'LOT', 'EASE-MENT',\n",
       "       'BUILDING CLASS AT PRESENT', 'ADDRESS', 'APARTMENT NUMBER', 'ZIP CODE',\n",
       "       'RESIDENTIAL UNITS', 'COMMERCIAL UNITS', 'TOTAL UNITS',\n",
       "       'LAND SQUARE FEET', 'GROSS SQUARE FEET', 'YEAR BUILT',\n",
       "       'TAX CLASS AT TIME OF SALE', 'BUILDING CLASS AT TIME OF SALE',\n",
       "       ' SALE PRICE ', 'SALE DATE'],\n",
       "      dtype='object')"
      ]
     },
     "metadata": {},
     "execution_count": 19
    }
   ],
   "source": [
    "#show the column\n",
    "df.columns"
   ]
  },
  {
   "cell_type": "code",
   "execution_count": 21,
   "metadata": {},
   "outputs": [
    {
     "output_type": "execute_result",
     "data": {
      "text/plain": [
       "BOROUGH                           float64\n",
       "NEIGHBORHOOD                       object\n",
       "BUILDING CLASS CATEGORY            object\n",
       "TAX CLASS AT PRESENT               object\n",
       "BLOCK                             float64\n",
       "LOT                               float64\n",
       "EASE-MENT                         float64\n",
       "BUILDING CLASS AT PRESENT          object\n",
       "ADDRESS                            object\n",
       "APARTMENT NUMBER                   object\n",
       "ZIP CODE                          float64\n",
       "RESIDENTIAL UNITS                 float64\n",
       "COMMERCIAL UNITS                  float64\n",
       "TOTAL UNITS                       float64\n",
       "LAND SQUARE FEET                   object\n",
       "GROSS SQUARE FEET                  object\n",
       "YEAR BUILT                        float64\n",
       "TAX CLASS AT TIME OF SALE         float64\n",
       "BUILDING CLASS AT TIME OF SALE     object\n",
       " SALE PRICE                        object\n",
       "SALE DATE                          object\n",
       "dtype: object"
      ]
     },
     "metadata": {},
     "execution_count": 21
    }
   ],
   "source": [
    "#data type of each column\n",
    "df.dtypes"
   ]
  },
  {
   "cell_type": "code",
   "execution_count": 22,
   "metadata": {},
   "outputs": [
    {
     "output_type": "execute_result",
     "data": {
      "text/plain": [
       "<bound method DataFrame.info of        BOROUGH   NEIGHBORHOOD  BUILDING CLASS CATEGORY TAX CLASS AT PRESENT  \\\n",
       "0          1.0  ALPHABET CITY  01 ONE FAMILY DWELLINGS                    1   \n",
       "1          1.0  ALPHABET CITY  01 ONE FAMILY DWELLINGS                    1   \n",
       "2          1.0  ALPHABET CITY  02 TWO FAMILY DWELLINGS                    1   \n",
       "3          1.0  ALPHABET CITY  02 TWO FAMILY DWELLINGS                    1   \n",
       "4          1.0  ALPHABET CITY  02 TWO FAMILY DWELLINGS                    1   \n",
       "...        ...            ...                      ...                  ...   \n",
       "17527      NaN            NaN                      NaN                  NaN   \n",
       "17528      NaN            NaN                      NaN                  NaN   \n",
       "17529      NaN            NaN                      NaN                  NaN   \n",
       "17530      NaN            NaN                      NaN                  NaN   \n",
       "17531      NaN            NaN                      NaN                  NaN   \n",
       "\n",
       "       BLOCK   LOT  EASE-MENT BUILDING CLASS AT PRESENT              ADDRESS  \\\n",
       "0      376.0  43.0        NaN                        S1  743 EAST 6TH STREET   \n",
       "1      400.0  19.0        NaN                        A4  526 EAST 5TH STREET   \n",
       "2      404.0   1.0        NaN                        B9         166 AVENUE A   \n",
       "3      404.0   1.0        NaN                        B9         166 AVENUE A   \n",
       "4      404.0   1.0        NaN                        B9         166 AVENUE A   \n",
       "...      ...   ...        ...                       ...                  ...   \n",
       "17527    NaN   NaN        NaN                       NaN                  NaN   \n",
       "17528    NaN   NaN        NaN                       NaN                  NaN   \n",
       "17529    NaN   NaN        NaN                       NaN                  NaN   \n",
       "17530    NaN   NaN        NaN                       NaN                  NaN   \n",
       "17531    NaN   NaN        NaN                       NaN                  NaN   \n",
       "\n",
       "      APARTMENT NUMBER  ...  RESIDENTIAL UNITS  COMMERCIAL UNITS  TOTAL UNITS  \\\n",
       "0                  NaN  ...                1.0               1.0          2.0   \n",
       "1                  NaN  ...                1.0               0.0          1.0   \n",
       "2                  NaN  ...                2.0               0.0          2.0   \n",
       "3                  NaN  ...                2.0               0.0          2.0   \n",
       "4                  NaN  ...                2.0               0.0          2.0   \n",
       "...                ...  ...                ...               ...          ...   \n",
       "17527              NaN  ...                NaN               NaN          NaN   \n",
       "17528              NaN  ...                NaN               NaN          NaN   \n",
       "17529              NaN  ...                NaN               NaN          NaN   \n",
       "17530              NaN  ...                NaN               NaN          NaN   \n",
       "17531              NaN  ...                NaN               NaN          NaN   \n",
       "\n",
       "       LAND SQUARE FEET GROSS SQUARE FEET YEAR BUILT  \\\n",
       "0                 2,090             3,680     1940.0   \n",
       "1                 1,883             5,200     1900.0   \n",
       "2                 1,510             4,520     1900.0   \n",
       "3                 1,510             4,520     1900.0   \n",
       "4                 1,510             4,520     1900.0   \n",
       "...                 ...               ...        ...   \n",
       "17527               NaN               NaN        NaN   \n",
       "17528               NaN               NaN        NaN   \n",
       "17529               NaN               NaN        NaN   \n",
       "17530               NaN               NaN        NaN   \n",
       "17531               NaN               NaN        NaN   \n",
       "\n",
       "       TAX CLASS AT TIME OF SALE  BUILDING CLASS AT TIME OF SALE  SALE PRICE   \\\n",
       "0                            1.0                              S1    3,200,000   \n",
       "1                            1.0                              A4    6,100,000   \n",
       "2                            1.0                              B9            0   \n",
       "3                            1.0                              B9            0   \n",
       "4                            1.0                              B9            0   \n",
       "...                          ...                             ...          ...   \n",
       "17527                        NaN                             NaN          NaN   \n",
       "17528                        NaN                             NaN          NaN   \n",
       "17529                        NaN                             NaN          NaN   \n",
       "17530                        NaN                             NaN          NaN   \n",
       "17531                        NaN                             NaN          NaN   \n",
       "\n",
       "      SALE DATE  \n",
       "0       7/24/19  \n",
       "1       12/3/18  \n",
       "2       7/22/19  \n",
       "3      11/29/18  \n",
       "4      11/29/18  \n",
       "...         ...  \n",
       "17527       NaN  \n",
       "17528       NaN  \n",
       "17529       NaN  \n",
       "17530       NaN  \n",
       "17531       NaN  \n",
       "\n",
       "[17532 rows x 21 columns]>"
      ]
     },
     "metadata": {},
     "execution_count": 22
    }
   ],
   "source": [
    "df.info\n",
    "#land square feet; gross square feet; sale price are all objects (why aren't they float64 or int?)"
   ]
  },
  {
   "cell_type": "code",
   "execution_count": 23,
   "metadata": {},
   "outputs": [
    {
     "output_type": "execute_result",
     "data": {
      "text/plain": [
       "BOROUGH                           17159\n",
       "NEIGHBORHOOD                      17159\n",
       "BUILDING CLASS CATEGORY           17159\n",
       "TAX CLASS AT PRESENT              17088\n",
       "BLOCK                             17159\n",
       "LOT                               17159\n",
       "EASE-MENT                             0\n",
       "BUILDING CLASS AT PRESENT         17088\n",
       "ADDRESS                           17159\n",
       "APARTMENT NUMBER                   8213\n",
       "ZIP CODE                          17088\n",
       "RESIDENTIAL UNITS                  1783\n",
       "COMMERCIAL UNITS                   1783\n",
       "TOTAL UNITS                        1783\n",
       "LAND SQUARE FEET                   1903\n",
       "GROSS SQUARE FEET                 10012\n",
       "YEAR BUILT                        17088\n",
       "TAX CLASS AT TIME OF SALE         17159\n",
       "BUILDING CLASS AT TIME OF SALE    17159\n",
       " SALE PRICE                       17159\n",
       "SALE DATE                         17159\n",
       "dtype: int64"
      ]
     },
     "metadata": {},
     "execution_count": 23
    }
   ],
   "source": [
    "#number of non-missing values in each column\n",
    "df.count(axis = 0)\n"
   ]
  },
  {
   "cell_type": "code",
   "execution_count": 53,
   "metadata": {},
   "outputs": [],
   "source": [
    "#it might be necessary to clean the all NaN rows \n",
    "df = df.dropna(how='all')"
   ]
  },
  {
   "cell_type": "code",
   "execution_count": 54,
   "metadata": {},
   "outputs": [],
   "source": [
    "#first drop the columns with all empty values: EASE-MENT there are no values hence it is not worthy of existing\n",
    "df = df.dropna(axis=1, how='all')\n",
    "#second drop address as we would not need this in future analysis\n",
    "df = df.drop(columns=['ADDRESS'])\n",
    "#third drop apartment number because we do not necessarily need this data and also the NaN data in apartment number is quite a lot hence I would like to drop this column\n",
    "df.count(axis = 0)\n",
    "df = df.drop(columns=['APARTMENT NUMBER'])"
   ]
  },
  {
   "cell_type": "code",
   "execution_count": 43,
   "metadata": {},
   "outputs": [
    {
     "output_type": "execute_result",
     "data": {
      "text/plain": [
       "       BOROUGH              NEIGHBORHOOD    BUILDING CLASS CATEGORY  \\\n",
       "0          1.0             ALPHABET CITY    01 ONE FAMILY DWELLINGS   \n",
       "1          1.0             ALPHABET CITY    01 ONE FAMILY DWELLINGS   \n",
       "2          1.0             ALPHABET CITY    02 TWO FAMILY DWELLINGS   \n",
       "3          1.0             ALPHABET CITY    02 TWO FAMILY DWELLINGS   \n",
       "4          1.0             ALPHABET CITY    02 TWO FAMILY DWELLINGS   \n",
       "...        ...                       ...                        ...   \n",
       "17154      1.0  WASHINGTON HEIGHTS UPPER  31 COMMERCIAL VACANT LAND   \n",
       "17155      1.0  WASHINGTON HEIGHTS UPPER  31 COMMERCIAL VACANT LAND   \n",
       "17156      1.0  WASHINGTON HEIGHTS UPPER  31 COMMERCIAL VACANT LAND   \n",
       "17157      1.0  WASHINGTON HEIGHTS UPPER  31 COMMERCIAL VACANT LAND   \n",
       "17158      1.0  WASHINGTON HEIGHTS UPPER           44 CONDO PARKING   \n",
       "\n",
       "      TAX CLASS AT PRESENT   BLOCK     LOT BUILDING CLASS AT PRESENT  \\\n",
       "0                        1   376.0    43.0                        S1   \n",
       "1                        1   400.0    19.0                        A4   \n",
       "2                        1   404.0     1.0                        B9   \n",
       "3                        1   404.0     1.0                        B9   \n",
       "4                        1   404.0     1.0                        B9   \n",
       "...                    ...     ...     ...                       ...   \n",
       "17154                    4  2174.0    97.0                        V1   \n",
       "17155                    4  2179.0   153.0                        V1   \n",
       "17156                    4  2179.0   154.0                        V1   \n",
       "17157                    4  2179.0   155.0                        V1   \n",
       "17158                    4  2180.0  1222.0                        RG   \n",
       "\n",
       "       ZIP CODE  RESIDENTIAL UNITS  COMMERCIAL UNITS  TOTAL UNITS  \\\n",
       "0       10009.0                1.0               1.0          2.0   \n",
       "1       10009.0                1.0               0.0          1.0   \n",
       "2       10009.0                2.0               0.0          2.0   \n",
       "3       10009.0                2.0               0.0          2.0   \n",
       "4       10009.0                2.0               0.0          2.0   \n",
       "...         ...                ...               ...          ...   \n",
       "17154       0.0                NaN               NaN          NaN   \n",
       "17155       0.0                NaN               NaN          NaN   \n",
       "17156       0.0                NaN               NaN          NaN   \n",
       "17157       0.0                NaN               NaN          NaN   \n",
       "17158   10033.0                NaN               NaN          NaN   \n",
       "\n",
       "      LAND SQUARE FEET GROSS SQUARE FEET  YEAR BUILT  \\\n",
       "0                2,090             3,680      1940.0   \n",
       "1                1,883             5,200      1900.0   \n",
       "2                1,510             4,520      1900.0   \n",
       "3                1,510             4,520      1900.0   \n",
       "4                1,510             4,520      1900.0   \n",
       "...                ...               ...         ...   \n",
       "17154            2,800               NaN         0.0   \n",
       "17155            1,928               NaN         0.0   \n",
       "17156            1,775               NaN         0.0   \n",
       "17157            1,555               NaN         0.0   \n",
       "17158              NaN               160      2003.0   \n",
       "\n",
       "       TAX CLASS AT TIME OF SALE BUILDING CLASS AT TIME OF SALE  SALE PRICE   \\\n",
       "0                            1.0                             S1    3,200,000   \n",
       "1                            1.0                             A4    6,100,000   \n",
       "2                            1.0                             B9            0   \n",
       "3                            1.0                             B9            0   \n",
       "4                            1.0                             B9            0   \n",
       "...                          ...                            ...          ...   \n",
       "17154                        4.0                             V1       15,000   \n",
       "17155                        4.0                             V1    3,000,000   \n",
       "17156                        4.0                             V1            0   \n",
       "17157                        4.0                             V1            0   \n",
       "17158                        4.0                             RG            0   \n",
       "\n",
       "      SALE DATE  \n",
       "0       7/24/19  \n",
       "1       12/3/18  \n",
       "2       7/22/19  \n",
       "3      11/29/18  \n",
       "4      11/29/18  \n",
       "...         ...  \n",
       "17154   6/12/19  \n",
       "17155    9/4/18  \n",
       "17156    9/4/18  \n",
       "17157    9/4/18  \n",
       "17158   9/13/18  \n",
       "\n",
       "[17159 rows x 18 columns]"
      ],
      "text/html": "<div>\n<style scoped>\n    .dataframe tbody tr th:only-of-type {\n        vertical-align: middle;\n    }\n\n    .dataframe tbody tr th {\n        vertical-align: top;\n    }\n\n    .dataframe thead th {\n        text-align: right;\n    }\n</style>\n<table border=\"1\" class=\"dataframe\">\n  <thead>\n    <tr style=\"text-align: right;\">\n      <th></th>\n      <th>BOROUGH</th>\n      <th>NEIGHBORHOOD</th>\n      <th>BUILDING CLASS CATEGORY</th>\n      <th>TAX CLASS AT PRESENT</th>\n      <th>BLOCK</th>\n      <th>LOT</th>\n      <th>BUILDING CLASS AT PRESENT</th>\n      <th>ZIP CODE</th>\n      <th>RESIDENTIAL UNITS</th>\n      <th>COMMERCIAL UNITS</th>\n      <th>TOTAL UNITS</th>\n      <th>LAND SQUARE FEET</th>\n      <th>GROSS SQUARE FEET</th>\n      <th>YEAR BUILT</th>\n      <th>TAX CLASS AT TIME OF SALE</th>\n      <th>BUILDING CLASS AT TIME OF SALE</th>\n      <th>SALE PRICE</th>\n      <th>SALE DATE</th>\n    </tr>\n  </thead>\n  <tbody>\n    <tr>\n      <th>0</th>\n      <td>1.0</td>\n      <td>ALPHABET CITY</td>\n      <td>01 ONE FAMILY DWELLINGS</td>\n      <td>1</td>\n      <td>376.0</td>\n      <td>43.0</td>\n      <td>S1</td>\n      <td>10009.0</td>\n      <td>1.0</td>\n      <td>1.0</td>\n      <td>2.0</td>\n      <td>2,090</td>\n      <td>3,680</td>\n      <td>1940.0</td>\n      <td>1.0</td>\n      <td>S1</td>\n      <td>3,200,000</td>\n      <td>7/24/19</td>\n    </tr>\n    <tr>\n      <th>1</th>\n      <td>1.0</td>\n      <td>ALPHABET CITY</td>\n      <td>01 ONE FAMILY DWELLINGS</td>\n      <td>1</td>\n      <td>400.0</td>\n      <td>19.0</td>\n      <td>A4</td>\n      <td>10009.0</td>\n      <td>1.0</td>\n      <td>0.0</td>\n      <td>1.0</td>\n      <td>1,883</td>\n      <td>5,200</td>\n      <td>1900.0</td>\n      <td>1.0</td>\n      <td>A4</td>\n      <td>6,100,000</td>\n      <td>12/3/18</td>\n    </tr>\n    <tr>\n      <th>2</th>\n      <td>1.0</td>\n      <td>ALPHABET CITY</td>\n      <td>02 TWO FAMILY DWELLINGS</td>\n      <td>1</td>\n      <td>404.0</td>\n      <td>1.0</td>\n      <td>B9</td>\n      <td>10009.0</td>\n      <td>2.0</td>\n      <td>0.0</td>\n      <td>2.0</td>\n      <td>1,510</td>\n      <td>4,520</td>\n      <td>1900.0</td>\n      <td>1.0</td>\n      <td>B9</td>\n      <td>0</td>\n      <td>7/22/19</td>\n    </tr>\n    <tr>\n      <th>3</th>\n      <td>1.0</td>\n      <td>ALPHABET CITY</td>\n      <td>02 TWO FAMILY DWELLINGS</td>\n      <td>1</td>\n      <td>404.0</td>\n      <td>1.0</td>\n      <td>B9</td>\n      <td>10009.0</td>\n      <td>2.0</td>\n      <td>0.0</td>\n      <td>2.0</td>\n      <td>1,510</td>\n      <td>4,520</td>\n      <td>1900.0</td>\n      <td>1.0</td>\n      <td>B9</td>\n      <td>0</td>\n      <td>11/29/18</td>\n    </tr>\n    <tr>\n      <th>4</th>\n      <td>1.0</td>\n      <td>ALPHABET CITY</td>\n      <td>02 TWO FAMILY DWELLINGS</td>\n      <td>1</td>\n      <td>404.0</td>\n      <td>1.0</td>\n      <td>B9</td>\n      <td>10009.0</td>\n      <td>2.0</td>\n      <td>0.0</td>\n      <td>2.0</td>\n      <td>1,510</td>\n      <td>4,520</td>\n      <td>1900.0</td>\n      <td>1.0</td>\n      <td>B9</td>\n      <td>0</td>\n      <td>11/29/18</td>\n    </tr>\n    <tr>\n      <th>...</th>\n      <td>...</td>\n      <td>...</td>\n      <td>...</td>\n      <td>...</td>\n      <td>...</td>\n      <td>...</td>\n      <td>...</td>\n      <td>...</td>\n      <td>...</td>\n      <td>...</td>\n      <td>...</td>\n      <td>...</td>\n      <td>...</td>\n      <td>...</td>\n      <td>...</td>\n      <td>...</td>\n      <td>...</td>\n      <td>...</td>\n    </tr>\n    <tr>\n      <th>17154</th>\n      <td>1.0</td>\n      <td>WASHINGTON HEIGHTS UPPER</td>\n      <td>31 COMMERCIAL VACANT LAND</td>\n      <td>4</td>\n      <td>2174.0</td>\n      <td>97.0</td>\n      <td>V1</td>\n      <td>0.0</td>\n      <td>NaN</td>\n      <td>NaN</td>\n      <td>NaN</td>\n      <td>2,800</td>\n      <td>NaN</td>\n      <td>0.0</td>\n      <td>4.0</td>\n      <td>V1</td>\n      <td>15,000</td>\n      <td>6/12/19</td>\n    </tr>\n    <tr>\n      <th>17155</th>\n      <td>1.0</td>\n      <td>WASHINGTON HEIGHTS UPPER</td>\n      <td>31 COMMERCIAL VACANT LAND</td>\n      <td>4</td>\n      <td>2179.0</td>\n      <td>153.0</td>\n      <td>V1</td>\n      <td>0.0</td>\n      <td>NaN</td>\n      <td>NaN</td>\n      <td>NaN</td>\n      <td>1,928</td>\n      <td>NaN</td>\n      <td>0.0</td>\n      <td>4.0</td>\n      <td>V1</td>\n      <td>3,000,000</td>\n      <td>9/4/18</td>\n    </tr>\n    <tr>\n      <th>17156</th>\n      <td>1.0</td>\n      <td>WASHINGTON HEIGHTS UPPER</td>\n      <td>31 COMMERCIAL VACANT LAND</td>\n      <td>4</td>\n      <td>2179.0</td>\n      <td>154.0</td>\n      <td>V1</td>\n      <td>0.0</td>\n      <td>NaN</td>\n      <td>NaN</td>\n      <td>NaN</td>\n      <td>1,775</td>\n      <td>NaN</td>\n      <td>0.0</td>\n      <td>4.0</td>\n      <td>V1</td>\n      <td>0</td>\n      <td>9/4/18</td>\n    </tr>\n    <tr>\n      <th>17157</th>\n      <td>1.0</td>\n      <td>WASHINGTON HEIGHTS UPPER</td>\n      <td>31 COMMERCIAL VACANT LAND</td>\n      <td>4</td>\n      <td>2179.0</td>\n      <td>155.0</td>\n      <td>V1</td>\n      <td>0.0</td>\n      <td>NaN</td>\n      <td>NaN</td>\n      <td>NaN</td>\n      <td>1,555</td>\n      <td>NaN</td>\n      <td>0.0</td>\n      <td>4.0</td>\n      <td>V1</td>\n      <td>0</td>\n      <td>9/4/18</td>\n    </tr>\n    <tr>\n      <th>17158</th>\n      <td>1.0</td>\n      <td>WASHINGTON HEIGHTS UPPER</td>\n      <td>44 CONDO PARKING</td>\n      <td>4</td>\n      <td>2180.0</td>\n      <td>1222.0</td>\n      <td>RG</td>\n      <td>10033.0</td>\n      <td>NaN</td>\n      <td>NaN</td>\n      <td>NaN</td>\n      <td>NaN</td>\n      <td>160</td>\n      <td>2003.0</td>\n      <td>4.0</td>\n      <td>RG</td>\n      <td>0</td>\n      <td>9/13/18</td>\n    </tr>\n  </tbody>\n</table>\n<p>17159 rows × 18 columns</p>\n</div>"
     },
     "metadata": {},
     "execution_count": 43
    }
   ],
   "source": [
    "df"
   ]
  },
  {
   "cell_type": "code",
   "execution_count": 55,
   "metadata": {},
   "outputs": [
    {
     "output_type": "execute_result",
     "data": {
      "text/plain": [
       "       BOROUGH              NEIGHBORHOOD    BUILDING CLASS CATEGORY  \\\n",
       "0          1.0             ALPHABET CITY    01 ONE FAMILY DWELLINGS   \n",
       "1          1.0             ALPHABET CITY    01 ONE FAMILY DWELLINGS   \n",
       "2          1.0             ALPHABET CITY    02 TWO FAMILY DWELLINGS   \n",
       "3          1.0             ALPHABET CITY    02 TWO FAMILY DWELLINGS   \n",
       "4          1.0             ALPHABET CITY    02 TWO FAMILY DWELLINGS   \n",
       "...        ...                       ...                        ...   \n",
       "17154      1.0  WASHINGTON HEIGHTS UPPER  31 COMMERCIAL VACANT LAND   \n",
       "17155      1.0  WASHINGTON HEIGHTS UPPER  31 COMMERCIAL VACANT LAND   \n",
       "17156      1.0  WASHINGTON HEIGHTS UPPER  31 COMMERCIAL VACANT LAND   \n",
       "17157      1.0  WASHINGTON HEIGHTS UPPER  31 COMMERCIAL VACANT LAND   \n",
       "17158      1.0  WASHINGTON HEIGHTS UPPER           44 CONDO PARKING   \n",
       "\n",
       "      TAX CLASS AT PRESENT   BLOCK     LOT BUILDING CLASS AT PRESENT  \\\n",
       "0                        1   376.0    43.0                        S1   \n",
       "1                        1   400.0    19.0                        A4   \n",
       "2                        1   404.0     1.0                        B9   \n",
       "3                        1   404.0     1.0                        B9   \n",
       "4                        1   404.0     1.0                        B9   \n",
       "...                    ...     ...     ...                       ...   \n",
       "17154                    4  2174.0    97.0                        V1   \n",
       "17155                    4  2179.0   153.0                        V1   \n",
       "17156                    4  2179.0   154.0                        V1   \n",
       "17157                    4  2179.0   155.0                        V1   \n",
       "17158                    4  2180.0  1222.0                        RG   \n",
       "\n",
       "       ZIP CODE  RESIDENTIAL UNITS  COMMERCIAL UNITS  TOTAL UNITS  \\\n",
       "0       10009.0                1.0               1.0          2.0   \n",
       "1       10009.0                1.0               0.0          1.0   \n",
       "2       10009.0                2.0               0.0          2.0   \n",
       "3       10009.0                2.0               0.0          2.0   \n",
       "4       10009.0                2.0               0.0          2.0   \n",
       "...         ...                ...               ...          ...   \n",
       "17154       0.0                NaN               NaN          NaN   \n",
       "17155       0.0                NaN               NaN          NaN   \n",
       "17156       0.0                NaN               NaN          NaN   \n",
       "17157       0.0                NaN               NaN          NaN   \n",
       "17158   10033.0                NaN               NaN          NaN   \n",
       "\n",
       "      LAND SQUARE FEET GROSS SQUARE FEET  YEAR BUILT  \\\n",
       "0                2,090             3,680      1940.0   \n",
       "1                1,883             5,200      1900.0   \n",
       "2                1,510             4,520      1900.0   \n",
       "3                1,510             4,520      1900.0   \n",
       "4                1,510             4,520      1900.0   \n",
       "...                ...               ...         ...   \n",
       "17154            2,800               NaN         0.0   \n",
       "17155            1,928               NaN         0.0   \n",
       "17156            1,775               NaN         0.0   \n",
       "17157            1,555               NaN         0.0   \n",
       "17158              NaN               160      2003.0   \n",
       "\n",
       "       TAX CLASS AT TIME OF SALE BUILDING CLASS AT TIME OF SALE   SALE PRICE   \\\n",
       "0                            1.0                             S1     3200000.0   \n",
       "1                            1.0                             A4     6100000.0   \n",
       "2                            1.0                             B9           0.0   \n",
       "3                            1.0                             B9           0.0   \n",
       "4                            1.0                             B9           0.0   \n",
       "...                          ...                            ...           ...   \n",
       "17154                        4.0                             V1       15000.0   \n",
       "17155                        4.0                             V1     3000000.0   \n",
       "17156                        4.0                             V1           0.0   \n",
       "17157                        4.0                             V1           0.0   \n",
       "17158                        4.0                             RG           0.0   \n",
       "\n",
       "      SALE DATE  \n",
       "0       7/24/19  \n",
       "1       12/3/18  \n",
       "2       7/22/19  \n",
       "3      11/29/18  \n",
       "4      11/29/18  \n",
       "...         ...  \n",
       "17154   6/12/19  \n",
       "17155    9/4/18  \n",
       "17156    9/4/18  \n",
       "17157    9/4/18  \n",
       "17158   9/13/18  \n",
       "\n",
       "[17159 rows x 18 columns]"
      ],
      "text/html": "<div>\n<style scoped>\n    .dataframe tbody tr th:only-of-type {\n        vertical-align: middle;\n    }\n\n    .dataframe tbody tr th {\n        vertical-align: top;\n    }\n\n    .dataframe thead th {\n        text-align: right;\n    }\n</style>\n<table border=\"1\" class=\"dataframe\">\n  <thead>\n    <tr style=\"text-align: right;\">\n      <th></th>\n      <th>BOROUGH</th>\n      <th>NEIGHBORHOOD</th>\n      <th>BUILDING CLASS CATEGORY</th>\n      <th>TAX CLASS AT PRESENT</th>\n      <th>BLOCK</th>\n      <th>LOT</th>\n      <th>BUILDING CLASS AT PRESENT</th>\n      <th>ZIP CODE</th>\n      <th>RESIDENTIAL UNITS</th>\n      <th>COMMERCIAL UNITS</th>\n      <th>TOTAL UNITS</th>\n      <th>LAND SQUARE FEET</th>\n      <th>GROSS SQUARE FEET</th>\n      <th>YEAR BUILT</th>\n      <th>TAX CLASS AT TIME OF SALE</th>\n      <th>BUILDING CLASS AT TIME OF SALE</th>\n      <th>SALE PRICE</th>\n      <th>SALE DATE</th>\n    </tr>\n  </thead>\n  <tbody>\n    <tr>\n      <th>0</th>\n      <td>1.0</td>\n      <td>ALPHABET CITY</td>\n      <td>01 ONE FAMILY DWELLINGS</td>\n      <td>1</td>\n      <td>376.0</td>\n      <td>43.0</td>\n      <td>S1</td>\n      <td>10009.0</td>\n      <td>1.0</td>\n      <td>1.0</td>\n      <td>2.0</td>\n      <td>2,090</td>\n      <td>3,680</td>\n      <td>1940.0</td>\n      <td>1.0</td>\n      <td>S1</td>\n      <td>3200000.0</td>\n      <td>7/24/19</td>\n    </tr>\n    <tr>\n      <th>1</th>\n      <td>1.0</td>\n      <td>ALPHABET CITY</td>\n      <td>01 ONE FAMILY DWELLINGS</td>\n      <td>1</td>\n      <td>400.0</td>\n      <td>19.0</td>\n      <td>A4</td>\n      <td>10009.0</td>\n      <td>1.0</td>\n      <td>0.0</td>\n      <td>1.0</td>\n      <td>1,883</td>\n      <td>5,200</td>\n      <td>1900.0</td>\n      <td>1.0</td>\n      <td>A4</td>\n      <td>6100000.0</td>\n      <td>12/3/18</td>\n    </tr>\n    <tr>\n      <th>2</th>\n      <td>1.0</td>\n      <td>ALPHABET CITY</td>\n      <td>02 TWO FAMILY DWELLINGS</td>\n      <td>1</td>\n      <td>404.0</td>\n      <td>1.0</td>\n      <td>B9</td>\n      <td>10009.0</td>\n      <td>2.0</td>\n      <td>0.0</td>\n      <td>2.0</td>\n      <td>1,510</td>\n      <td>4,520</td>\n      <td>1900.0</td>\n      <td>1.0</td>\n      <td>B9</td>\n      <td>0.0</td>\n      <td>7/22/19</td>\n    </tr>\n    <tr>\n      <th>3</th>\n      <td>1.0</td>\n      <td>ALPHABET CITY</td>\n      <td>02 TWO FAMILY DWELLINGS</td>\n      <td>1</td>\n      <td>404.0</td>\n      <td>1.0</td>\n      <td>B9</td>\n      <td>10009.0</td>\n      <td>2.0</td>\n      <td>0.0</td>\n      <td>2.0</td>\n      <td>1,510</td>\n      <td>4,520</td>\n      <td>1900.0</td>\n      <td>1.0</td>\n      <td>B9</td>\n      <td>0.0</td>\n      <td>11/29/18</td>\n    </tr>\n    <tr>\n      <th>4</th>\n      <td>1.0</td>\n      <td>ALPHABET CITY</td>\n      <td>02 TWO FAMILY DWELLINGS</td>\n      <td>1</td>\n      <td>404.0</td>\n      <td>1.0</td>\n      <td>B9</td>\n      <td>10009.0</td>\n      <td>2.0</td>\n      <td>0.0</td>\n      <td>2.0</td>\n      <td>1,510</td>\n      <td>4,520</td>\n      <td>1900.0</td>\n      <td>1.0</td>\n      <td>B9</td>\n      <td>0.0</td>\n      <td>11/29/18</td>\n    </tr>\n    <tr>\n      <th>...</th>\n      <td>...</td>\n      <td>...</td>\n      <td>...</td>\n      <td>...</td>\n      <td>...</td>\n      <td>...</td>\n      <td>...</td>\n      <td>...</td>\n      <td>...</td>\n      <td>...</td>\n      <td>...</td>\n      <td>...</td>\n      <td>...</td>\n      <td>...</td>\n      <td>...</td>\n      <td>...</td>\n      <td>...</td>\n      <td>...</td>\n    </tr>\n    <tr>\n      <th>17154</th>\n      <td>1.0</td>\n      <td>WASHINGTON HEIGHTS UPPER</td>\n      <td>31 COMMERCIAL VACANT LAND</td>\n      <td>4</td>\n      <td>2174.0</td>\n      <td>97.0</td>\n      <td>V1</td>\n      <td>0.0</td>\n      <td>NaN</td>\n      <td>NaN</td>\n      <td>NaN</td>\n      <td>2,800</td>\n      <td>NaN</td>\n      <td>0.0</td>\n      <td>4.0</td>\n      <td>V1</td>\n      <td>15000.0</td>\n      <td>6/12/19</td>\n    </tr>\n    <tr>\n      <th>17155</th>\n      <td>1.0</td>\n      <td>WASHINGTON HEIGHTS UPPER</td>\n      <td>31 COMMERCIAL VACANT LAND</td>\n      <td>4</td>\n      <td>2179.0</td>\n      <td>153.0</td>\n      <td>V1</td>\n      <td>0.0</td>\n      <td>NaN</td>\n      <td>NaN</td>\n      <td>NaN</td>\n      <td>1,928</td>\n      <td>NaN</td>\n      <td>0.0</td>\n      <td>4.0</td>\n      <td>V1</td>\n      <td>3000000.0</td>\n      <td>9/4/18</td>\n    </tr>\n    <tr>\n      <th>17156</th>\n      <td>1.0</td>\n      <td>WASHINGTON HEIGHTS UPPER</td>\n      <td>31 COMMERCIAL VACANT LAND</td>\n      <td>4</td>\n      <td>2179.0</td>\n      <td>154.0</td>\n      <td>V1</td>\n      <td>0.0</td>\n      <td>NaN</td>\n      <td>NaN</td>\n      <td>NaN</td>\n      <td>1,775</td>\n      <td>NaN</td>\n      <td>0.0</td>\n      <td>4.0</td>\n      <td>V1</td>\n      <td>0.0</td>\n      <td>9/4/18</td>\n    </tr>\n    <tr>\n      <th>17157</th>\n      <td>1.0</td>\n      <td>WASHINGTON HEIGHTS UPPER</td>\n      <td>31 COMMERCIAL VACANT LAND</td>\n      <td>4</td>\n      <td>2179.0</td>\n      <td>155.0</td>\n      <td>V1</td>\n      <td>0.0</td>\n      <td>NaN</td>\n      <td>NaN</td>\n      <td>NaN</td>\n      <td>1,555</td>\n      <td>NaN</td>\n      <td>0.0</td>\n      <td>4.0</td>\n      <td>V1</td>\n      <td>0.0</td>\n      <td>9/4/18</td>\n    </tr>\n    <tr>\n      <th>17158</th>\n      <td>1.0</td>\n      <td>WASHINGTON HEIGHTS UPPER</td>\n      <td>44 CONDO PARKING</td>\n      <td>4</td>\n      <td>2180.0</td>\n      <td>1222.0</td>\n      <td>RG</td>\n      <td>10033.0</td>\n      <td>NaN</td>\n      <td>NaN</td>\n      <td>NaN</td>\n      <td>NaN</td>\n      <td>160</td>\n      <td>2003.0</td>\n      <td>4.0</td>\n      <td>RG</td>\n      <td>0.0</td>\n      <td>9/13/18</td>\n    </tr>\n  </tbody>\n</table>\n<p>17159 rows × 18 columns</p>\n</div>"
     },
     "metadata": {},
     "execution_count": 55
    }
   ],
   "source": [
    "#transform sale price data into float or int\n",
    "df[\" SALE PRICE \"] = df[\" SALE PRICE \"].str.replace(\",\",\"\").astype(float)\n",
    "df\n",
    "# df.rename(columns={' SALE PRICE ':'SALE PRICE'}, inplace=True)"
   ]
  },
  {
   "cell_type": "code",
   "execution_count": 56,
   "metadata": {},
   "outputs": [],
   "source": [
    "#the column name should be renamed to without heading and trailing space\n",
    "df.rename(columns={' SALE PRICE ':'SALE PRICE'}, inplace=True)"
   ]
  },
  {
   "cell_type": "code",
   "execution_count": 58,
   "metadata": {},
   "outputs": [
    {
     "output_type": "execute_result",
     "data": {
      "text/plain": [
       "Index(['BOROUGH', 'NEIGHBORHOOD', 'BUILDING CLASS CATEGORY',\n",
       "       'TAX CLASS AT PRESENT', 'BLOCK', 'LOT', 'BUILDING CLASS AT PRESENT',\n",
       "       'ZIP CODE', 'RESIDENTIAL UNITS', 'COMMERCIAL UNITS', 'TOTAL UNITS',\n",
       "       'LAND SQUARE FEET', 'GROSS SQUARE FEET', 'YEAR BUILT',\n",
       "       'TAX CLASS AT TIME OF SALE', 'BUILDING CLASS AT TIME OF SALE',\n",
       "       'SALE PRICE', 'SALE DATE'],\n",
       "      dtype='object')"
      ]
     },
     "metadata": {},
     "execution_count": 58
    }
   ],
   "source": [
    "df.columns"
   ]
  },
  {
   "cell_type": "code",
   "execution_count": 64,
   "metadata": {},
   "outputs": [
    {
     "output_type": "execute_result",
     "data": {
      "text/plain": [
       "                         BOROUGH  BUILDING CLASS CATEGORY  \\\n",
       "NEIGHBORHOOD                                                \n",
       "UPPER EAST SIDE (59-79)     1696                     1696   \n",
       "UPPER EAST SIDE (79-96)     1629                     1629   \n",
       "UPPER WEST SIDE (59-79)     1499                     1499   \n",
       "MIDTOWN EAST                1006                     1006   \n",
       "\n",
       "                         TAX CLASS AT PRESENT  BLOCK   LOT  \\\n",
       "NEIGHBORHOOD                                                 \n",
       "UPPER EAST SIDE (59-79)                  1696   1696  1696   \n",
       "UPPER EAST SIDE (79-96)                  1623   1629  1629   \n",
       "UPPER WEST SIDE (59-79)                  1499   1499  1499   \n",
       "MIDTOWN EAST                             1006   1006  1006   \n",
       "\n",
       "                         BUILDING CLASS AT PRESENT  ZIP CODE  \\\n",
       "NEIGHBORHOOD                                                   \n",
       "UPPER EAST SIDE (59-79)                       1696      1696   \n",
       "UPPER EAST SIDE (79-96)                       1623      1623   \n",
       "UPPER WEST SIDE (59-79)                       1499      1499   \n",
       "MIDTOWN EAST                                  1006      1006   \n",
       "\n",
       "                         RESIDENTIAL UNITS  COMMERCIAL UNITS  TOTAL UNITS  \\\n",
       "NEIGHBORHOOD                                                                \n",
       "UPPER EAST SIDE (59-79)                122               122          122   \n",
       "UPPER EAST SIDE (79-96)                101               101          101   \n",
       "UPPER WEST SIDE (59-79)                 40                40           40   \n",
       "MIDTOWN EAST                            27                27           27   \n",
       "\n",
       "                         LAND SQUARE FEET  GROSS SQUARE FEET  YEAR BUILT  \\\n",
       "NEIGHBORHOOD                                                               \n",
       "UPPER EAST SIDE (59-79)               124                727        1696   \n",
       "UPPER EAST SIDE (79-96)               102                711        1623   \n",
       "UPPER WEST SIDE (59-79)                40                809        1499   \n",
       "MIDTOWN EAST                           27                404        1006   \n",
       "\n",
       "                         TAX CLASS AT TIME OF SALE  \\\n",
       "NEIGHBORHOOD                                         \n",
       "UPPER EAST SIDE (59-79)                       1696   \n",
       "UPPER EAST SIDE (79-96)                       1629   \n",
       "UPPER WEST SIDE (59-79)                       1499   \n",
       "MIDTOWN EAST                                  1006   \n",
       "\n",
       "                         BUILDING CLASS AT TIME OF SALE  SALE PRICE  SALE DATE  \n",
       "NEIGHBORHOOD                                                                    \n",
       "UPPER EAST SIDE (59-79)                            1696        1696       1696  \n",
       "UPPER EAST SIDE (79-96)                            1629        1629       1629  \n",
       "UPPER WEST SIDE (59-79)                            1499        1499       1499  \n",
       "MIDTOWN EAST                                       1006        1006       1006  "
      ],
      "text/html": "<div>\n<style scoped>\n    .dataframe tbody tr th:only-of-type {\n        vertical-align: middle;\n    }\n\n    .dataframe tbody tr th {\n        vertical-align: top;\n    }\n\n    .dataframe thead th {\n        text-align: right;\n    }\n</style>\n<table border=\"1\" class=\"dataframe\">\n  <thead>\n    <tr style=\"text-align: right;\">\n      <th></th>\n      <th>BOROUGH</th>\n      <th>BUILDING CLASS CATEGORY</th>\n      <th>TAX CLASS AT PRESENT</th>\n      <th>BLOCK</th>\n      <th>LOT</th>\n      <th>BUILDING CLASS AT PRESENT</th>\n      <th>ZIP CODE</th>\n      <th>RESIDENTIAL UNITS</th>\n      <th>COMMERCIAL UNITS</th>\n      <th>TOTAL UNITS</th>\n      <th>LAND SQUARE FEET</th>\n      <th>GROSS SQUARE FEET</th>\n      <th>YEAR BUILT</th>\n      <th>TAX CLASS AT TIME OF SALE</th>\n      <th>BUILDING CLASS AT TIME OF SALE</th>\n      <th>SALE PRICE</th>\n      <th>SALE DATE</th>\n    </tr>\n    <tr>\n      <th>NEIGHBORHOOD</th>\n      <th></th>\n      <th></th>\n      <th></th>\n      <th></th>\n      <th></th>\n      <th></th>\n      <th></th>\n      <th></th>\n      <th></th>\n      <th></th>\n      <th></th>\n      <th></th>\n      <th></th>\n      <th></th>\n      <th></th>\n      <th></th>\n      <th></th>\n    </tr>\n  </thead>\n  <tbody>\n    <tr>\n      <th>UPPER EAST SIDE (59-79)</th>\n      <td>1696</td>\n      <td>1696</td>\n      <td>1696</td>\n      <td>1696</td>\n      <td>1696</td>\n      <td>1696</td>\n      <td>1696</td>\n      <td>122</td>\n      <td>122</td>\n      <td>122</td>\n      <td>124</td>\n      <td>727</td>\n      <td>1696</td>\n      <td>1696</td>\n      <td>1696</td>\n      <td>1696</td>\n      <td>1696</td>\n    </tr>\n    <tr>\n      <th>UPPER EAST SIDE (79-96)</th>\n      <td>1629</td>\n      <td>1629</td>\n      <td>1623</td>\n      <td>1629</td>\n      <td>1629</td>\n      <td>1623</td>\n      <td>1623</td>\n      <td>101</td>\n      <td>101</td>\n      <td>101</td>\n      <td>102</td>\n      <td>711</td>\n      <td>1623</td>\n      <td>1629</td>\n      <td>1629</td>\n      <td>1629</td>\n      <td>1629</td>\n    </tr>\n    <tr>\n      <th>UPPER WEST SIDE (59-79)</th>\n      <td>1499</td>\n      <td>1499</td>\n      <td>1499</td>\n      <td>1499</td>\n      <td>1499</td>\n      <td>1499</td>\n      <td>1499</td>\n      <td>40</td>\n      <td>40</td>\n      <td>40</td>\n      <td>40</td>\n      <td>809</td>\n      <td>1499</td>\n      <td>1499</td>\n      <td>1499</td>\n      <td>1499</td>\n      <td>1499</td>\n    </tr>\n    <tr>\n      <th>MIDTOWN EAST</th>\n      <td>1006</td>\n      <td>1006</td>\n      <td>1006</td>\n      <td>1006</td>\n      <td>1006</td>\n      <td>1006</td>\n      <td>1006</td>\n      <td>27</td>\n      <td>27</td>\n      <td>27</td>\n      <td>27</td>\n      <td>404</td>\n      <td>1006</td>\n      <td>1006</td>\n      <td>1006</td>\n      <td>1006</td>\n      <td>1006</td>\n    </tr>\n  </tbody>\n</table>\n</div>"
     },
     "metadata": {},
     "execution_count": 64
    }
   ],
   "source": [
    "grouped_df = df.groupby([\"NEIGHBORHOOD\"]).count()\n",
    "grouped_df.sort_values('BOROUGH', ascending=False).head(4)\n",
    "# print(grouped_df)\n",
    "#we can see that through counting, upper east 59-79(1696 properties) upper east 79-96(1629 properties) upper west 59-79(1499 properties) have most properties sold"
   ]
  },
  {
   "cell_type": "code",
   "execution_count": 68,
   "metadata": {},
   "outputs": [
    {
     "output_type": "execute_result",
     "data": {
      "text/plain": [
       "                                 BOROUGH  NEIGHBORHOOD  TAX CLASS AT PRESENT  \\\n",
       "BUILDING CLASS CATEGORY                                                        \n",
       "13 CONDOS - ELEVATOR APARTMENTS     7178          7178                  7127   \n",
       "10 COOPS - ELEVATOR APARTMENTS      5414          5414                  5414   \n",
       "17 CONDO COOPS                       820           820                   820   \n",
       "09 COOPS - WALKUP APARTMENTS         722           722                   722   \n",
       "\n",
       "                                 BLOCK   LOT  BUILDING CLASS AT PRESENT  \\\n",
       "BUILDING CLASS CATEGORY                                                   \n",
       "13 CONDOS - ELEVATOR APARTMENTS   7178  7178                       7127   \n",
       "10 COOPS - ELEVATOR APARTMENTS    5414  5414                       5414   \n",
       "17 CONDO COOPS                     820   820                        820   \n",
       "09 COOPS - WALKUP APARTMENTS       722   722                        722   \n",
       "\n",
       "                                 ZIP CODE  RESIDENTIAL UNITS  \\\n",
       "BUILDING CLASS CATEGORY                                        \n",
       "13 CONDOS - ELEVATOR APARTMENTS      7127                  0   \n",
       "10 COOPS - ELEVATOR APARTMENTS       5414                  0   \n",
       "17 CONDO COOPS                        820                  0   \n",
       "09 COOPS - WALKUP APARTMENTS          722                  0   \n",
       "\n",
       "                                 COMMERCIAL UNITS  TOTAL UNITS  \\\n",
       "BUILDING CLASS CATEGORY                                          \n",
       "13 CONDOS - ELEVATOR APARTMENTS                 0            0   \n",
       "10 COOPS - ELEVATOR APARTMENTS                  0            0   \n",
       "17 CONDO COOPS                                  0            0   \n",
       "09 COOPS - WALKUP APARTMENTS                    0            0   \n",
       "\n",
       "                                 LAND SQUARE FEET  GROSS SQUARE FEET  \\\n",
       "BUILDING CLASS CATEGORY                                                \n",
       "13 CONDOS - ELEVATOR APARTMENTS                 0               7127   \n",
       "10 COOPS - ELEVATOR APARTMENTS                  0                  0   \n",
       "17 CONDO COOPS                                  0                  0   \n",
       "09 COOPS - WALKUP APARTMENTS                    0                  0   \n",
       "\n",
       "                                 YEAR BUILT  TAX CLASS AT TIME OF SALE  \\\n",
       "BUILDING CLASS CATEGORY                                                  \n",
       "13 CONDOS - ELEVATOR APARTMENTS        7127                       7178   \n",
       "10 COOPS - ELEVATOR APARTMENTS         5414                       5414   \n",
       "17 CONDO COOPS                          820                        820   \n",
       "09 COOPS - WALKUP APARTMENTS            722                        722   \n",
       "\n",
       "                                 BUILDING CLASS AT TIME OF SALE  SALE PRICE  \\\n",
       "BUILDING CLASS CATEGORY                                                       \n",
       "13 CONDOS - ELEVATOR APARTMENTS                            7178        7178   \n",
       "10 COOPS - ELEVATOR APARTMENTS                             5414        5414   \n",
       "17 CONDO COOPS                                              820         820   \n",
       "09 COOPS - WALKUP APARTMENTS                                722         722   \n",
       "\n",
       "                                 SALE DATE  \n",
       "BUILDING CLASS CATEGORY                     \n",
       "13 CONDOS - ELEVATOR APARTMENTS       7178  \n",
       "10 COOPS - ELEVATOR APARTMENTS        5414  \n",
       "17 CONDO COOPS                         820  \n",
       "09 COOPS - WALKUP APARTMENTS           722  "
      ],
      "text/html": "<div>\n<style scoped>\n    .dataframe tbody tr th:only-of-type {\n        vertical-align: middle;\n    }\n\n    .dataframe tbody tr th {\n        vertical-align: top;\n    }\n\n    .dataframe thead th {\n        text-align: right;\n    }\n</style>\n<table border=\"1\" class=\"dataframe\">\n  <thead>\n    <tr style=\"text-align: right;\">\n      <th></th>\n      <th>BOROUGH</th>\n      <th>NEIGHBORHOOD</th>\n      <th>TAX CLASS AT PRESENT</th>\n      <th>BLOCK</th>\n      <th>LOT</th>\n      <th>BUILDING CLASS AT PRESENT</th>\n      <th>ZIP CODE</th>\n      <th>RESIDENTIAL UNITS</th>\n      <th>COMMERCIAL UNITS</th>\n      <th>TOTAL UNITS</th>\n      <th>LAND SQUARE FEET</th>\n      <th>GROSS SQUARE FEET</th>\n      <th>YEAR BUILT</th>\n      <th>TAX CLASS AT TIME OF SALE</th>\n      <th>BUILDING CLASS AT TIME OF SALE</th>\n      <th>SALE PRICE</th>\n      <th>SALE DATE</th>\n    </tr>\n    <tr>\n      <th>BUILDING CLASS CATEGORY</th>\n      <th></th>\n      <th></th>\n      <th></th>\n      <th></th>\n      <th></th>\n      <th></th>\n      <th></th>\n      <th></th>\n      <th></th>\n      <th></th>\n      <th></th>\n      <th></th>\n      <th></th>\n      <th></th>\n      <th></th>\n      <th></th>\n      <th></th>\n    </tr>\n  </thead>\n  <tbody>\n    <tr>\n      <th>13 CONDOS - ELEVATOR APARTMENTS</th>\n      <td>7178</td>\n      <td>7178</td>\n      <td>7127</td>\n      <td>7178</td>\n      <td>7178</td>\n      <td>7127</td>\n      <td>7127</td>\n      <td>0</td>\n      <td>0</td>\n      <td>0</td>\n      <td>0</td>\n      <td>7127</td>\n      <td>7127</td>\n      <td>7178</td>\n      <td>7178</td>\n      <td>7178</td>\n      <td>7178</td>\n    </tr>\n    <tr>\n      <th>10 COOPS - ELEVATOR APARTMENTS</th>\n      <td>5414</td>\n      <td>5414</td>\n      <td>5414</td>\n      <td>5414</td>\n      <td>5414</td>\n      <td>5414</td>\n      <td>5414</td>\n      <td>0</td>\n      <td>0</td>\n      <td>0</td>\n      <td>0</td>\n      <td>0</td>\n      <td>5414</td>\n      <td>5414</td>\n      <td>5414</td>\n      <td>5414</td>\n      <td>5414</td>\n    </tr>\n    <tr>\n      <th>17 CONDO COOPS</th>\n      <td>820</td>\n      <td>820</td>\n      <td>820</td>\n      <td>820</td>\n      <td>820</td>\n      <td>820</td>\n      <td>820</td>\n      <td>0</td>\n      <td>0</td>\n      <td>0</td>\n      <td>0</td>\n      <td>0</td>\n      <td>820</td>\n      <td>820</td>\n      <td>820</td>\n      <td>820</td>\n      <td>820</td>\n    </tr>\n    <tr>\n      <th>09 COOPS - WALKUP APARTMENTS</th>\n      <td>722</td>\n      <td>722</td>\n      <td>722</td>\n      <td>722</td>\n      <td>722</td>\n      <td>722</td>\n      <td>722</td>\n      <td>0</td>\n      <td>0</td>\n      <td>0</td>\n      <td>0</td>\n      <td>0</td>\n      <td>722</td>\n      <td>722</td>\n      <td>722</td>\n      <td>722</td>\n      <td>722</td>\n    </tr>\n  </tbody>\n</table>\n</div>"
     },
     "metadata": {},
     "execution_count": 68
    }
   ],
   "source": [
    "df_groupwithclass = df.groupby([\"BUILDING CLASS CATEGORY\"]).count()\n",
    "df_groupwithclass.sort_values('BOROUGH', ascending=False).head(4)"
   ]
  },
  {
   "cell_type": "code",
   "execution_count": 101,
   "metadata": {},
   "outputs": [
    {
     "output_type": "execute_result",
     "data": {
      "text/plain": [
       "R    9049\n",
       "D    5646\n",
       "C    1486\n",
       "O     144\n",
       "A     132\n",
       "S     128\n",
       "K     118\n",
       "B     106\n",
       "V      84\n",
       "G      54\n",
       "H      48\n",
       "L      31\n",
       "M      16\n",
       "P      13\n",
       "W      13\n",
       "E       7\n",
       "I       4\n",
       "Z       4\n",
       "F       3\n",
       "N       2\n",
       "Name: BUILDING CLASS AT PRESENT, dtype: int64"
      ]
     },
     "metadata": {},
     "execution_count": 101
    }
   ],
   "source": [
    "df['BUILDING CLASS AT PRESENT'] = df['BUILDING CLASS AT PRESENT'].str.slice(stop=1)\n",
    "\n",
    "df_copy = df\n",
    "# df_copy = df_copy.groupby([\"BUILDING CLASS AT PRESENT\"]).count()\n",
    "df_copy['BUILDING CLASS AT PRESENT'].value_counts()\n",
    "\n",
    "\n",
    "# df_copy.loc[df_copy[\"BUILDING CLASS AT PRESENT\"] == 'A']\n",
    "# df_copy['other'] = \n",
    "# df\n",
    "# df_new.groupby([\"BUILDING CLASS AT PRESENT\"]).count()\n",
    "# df_new\n",
    "# df_count.sort_values('BUILDING CLASS AT PRESENT', ascending=False).head(4)"
   ]
  },
  {
   "cell_type": "code",
   "execution_count": 104,
   "metadata": {},
   "outputs": [
    {
     "output_type": "execute_result",
     "data": {
      "text/plain": [
       "<matplotlib.axes._subplots.AxesSubplot at 0x7fac433a9520>"
      ]
     },
     "metadata": {},
     "execution_count": 104
    },
    {
     "output_type": "display_data",
     "data": {
      "text/plain": "<Figure size 432x288 with 1 Axes>",
      "image/svg+xml": "<?xml version=\"1.0\" encoding=\"utf-8\" standalone=\"no\"?>\n<!DOCTYPE svg PUBLIC \"-//W3C//DTD SVG 1.1//EN\"\n  \"http://www.w3.org/Graphics/SVG/1.1/DTD/svg11.dtd\">\n<!-- Created with matplotlib (https://matplotlib.org/) -->\n<svg height=\"245.2025pt\" version=\"1.1\" viewBox=\"0 0 381.65 245.2025\" width=\"381.65pt\" xmlns=\"http://www.w3.org/2000/svg\" xmlns:xlink=\"http://www.w3.org/1999/xlink\">\n <defs>\n  <style type=\"text/css\">\n*{stroke-linecap:butt;stroke-linejoin:round;}\n  </style>\n </defs>\n <g id=\"figure_1\">\n  <g id=\"patch_1\">\n   <path d=\"M -0 245.2025 \nL 381.65 245.2025 \nL 381.65 0 \nL -0 0 \nz\n\" style=\"fill:none;\"/>\n  </g>\n  <g id=\"axes_1\">\n   <g id=\"patch_2\">\n    <path d=\"M 39.65 224.64 \nL 374.45 224.64 \nL 374.45 7.2 \nL 39.65 7.2 \nz\n\" style=\"fill:#ffffff;\"/>\n   </g>\n   <g id=\"patch_3\">\n    <path clip-path=\"url(#p25d09b1817)\" d=\"M 123.35 224.64 \nL 165.2 224.64 \nL 165.2 17.554286 \nL 123.35 17.554286 \nz\n\" style=\"fill:#1f77b4;\"/>\n   </g>\n   <g id=\"patch_4\">\n    <path clip-path=\"url(#p25d09b1817)\" d=\"M 165.2 224.64 \nL 207.05 224.64 \nL 207.05 221.34457 \nL 165.2 221.34457 \nz\n\" style=\"fill:#ff7f0e;\"/>\n   </g>\n   <g id=\"patch_5\">\n    <path clip-path=\"url(#p25d09b1817)\" d=\"M 207.05 224.64 \nL 248.9 224.64 \nL 248.9 221.619189 \nL 207.05 221.619189 \nz\n\" style=\"fill:#2ca02c;\"/>\n   </g>\n   <g id=\"patch_6\">\n    <path clip-path=\"url(#p25d09b1817)\" d=\"M 248.9 224.64 \nL 290.75 224.64 \nL 290.75 43.986378 \nL 248.9 43.986378 \nz\n\" style=\"fill:#d62728;\"/>\n   </g>\n   <g id=\"matplotlib.axis_1\">\n    <g id=\"xtick_1\">\n     <g id=\"line2d_1\">\n      <defs>\n       <path d=\"M 0 0 \nL 0 3.5 \n\" id=\"m4c784b3537\" style=\"stroke:#000000;stroke-width:0.8;\"/>\n      </defs>\n      <g>\n       <use style=\"stroke:#000000;stroke-width:0.8;\" x=\"207.05\" xlink:href=\"#m4c784b3537\" y=\"224.64\"/>\n      </g>\n     </g>\n     <g id=\"text_1\">\n      <!-- 0 -->\n      <defs>\n       <path d=\"M 31.78125 66.40625 \nQ 24.171875 66.40625 20.328125 58.90625 \nQ 16.5 51.421875 16.5 36.375 \nQ 16.5 21.390625 20.328125 13.890625 \nQ 24.171875 6.390625 31.78125 6.390625 \nQ 39.453125 6.390625 43.28125 13.890625 \nQ 47.125 21.390625 47.125 36.375 \nQ 47.125 51.421875 43.28125 58.90625 \nQ 39.453125 66.40625 31.78125 66.40625 \nz\nM 31.78125 74.21875 \nQ 44.046875 74.21875 50.515625 64.515625 \nQ 56.984375 54.828125 56.984375 36.375 \nQ 56.984375 17.96875 50.515625 8.265625 \nQ 44.046875 -1.421875 31.78125 -1.421875 \nQ 19.53125 -1.421875 13.0625 8.265625 \nQ 6.59375 17.96875 6.59375 36.375 \nQ 6.59375 54.828125 13.0625 64.515625 \nQ 19.53125 74.21875 31.78125 74.21875 \nz\n\" id=\"DejaVuSans-48\"/>\n      </defs>\n      <g transform=\"translate(209.809375 238.0025)rotate(-90)scale(0.1 -0.1)\">\n       <use xlink:href=\"#DejaVuSans-48\"/>\n      </g>\n     </g>\n    </g>\n   </g>\n   <g id=\"matplotlib.axis_2\">\n    <g id=\"ytick_1\">\n     <g id=\"line2d_2\">\n      <defs>\n       <path d=\"M 0 0 \nL -3.5 0 \n\" id=\"m318070a745\" style=\"stroke:#000000;stroke-width:0.8;\"/>\n      </defs>\n      <g>\n       <use style=\"stroke:#000000;stroke-width:0.8;\" x=\"39.65\" xlink:href=\"#m318070a745\" y=\"224.64\"/>\n      </g>\n     </g>\n     <g id=\"text_2\">\n      <!-- 0 -->\n      <g transform=\"translate(26.2875 228.439219)scale(0.1 -0.1)\">\n       <use xlink:href=\"#DejaVuSans-48\"/>\n      </g>\n     </g>\n    </g>\n    <g id=\"ytick_2\">\n     <g id=\"line2d_3\">\n      <g>\n       <use style=\"stroke:#000000;stroke-width:0.8;\" x=\"39.65\" xlink:href=\"#m318070a745\" y=\"178.870144\"/>\n      </g>\n     </g>\n     <g id=\"text_3\">\n      <!-- 2000 -->\n      <defs>\n       <path d=\"M 19.1875 8.296875 \nL 53.609375 8.296875 \nL 53.609375 0 \nL 7.328125 0 \nL 7.328125 8.296875 \nQ 12.9375 14.109375 22.625 23.890625 \nQ 32.328125 33.6875 34.8125 36.53125 \nQ 39.546875 41.84375 41.421875 45.53125 \nQ 43.3125 49.21875 43.3125 52.78125 \nQ 43.3125 58.59375 39.234375 62.25 \nQ 35.15625 65.921875 28.609375 65.921875 \nQ 23.96875 65.921875 18.8125 64.3125 \nQ 13.671875 62.703125 7.8125 59.421875 \nL 7.8125 69.390625 \nQ 13.765625 71.78125 18.9375 73 \nQ 24.125 74.21875 28.421875 74.21875 \nQ 39.75 74.21875 46.484375 68.546875 \nQ 53.21875 62.890625 53.21875 53.421875 \nQ 53.21875 48.921875 51.53125 44.890625 \nQ 49.859375 40.875 45.40625 35.40625 \nQ 44.1875 33.984375 37.640625 27.21875 \nQ 31.109375 20.453125 19.1875 8.296875 \nz\n\" id=\"DejaVuSans-50\"/>\n      </defs>\n      <g transform=\"translate(7.2 182.669363)scale(0.1 -0.1)\">\n       <use xlink:href=\"#DejaVuSans-50\"/>\n       <use x=\"63.623047\" xlink:href=\"#DejaVuSans-48\"/>\n       <use x=\"127.246094\" xlink:href=\"#DejaVuSans-48\"/>\n       <use x=\"190.869141\" xlink:href=\"#DejaVuSans-48\"/>\n      </g>\n     </g>\n    </g>\n    <g id=\"ytick_3\">\n     <g id=\"line2d_4\">\n      <g>\n       <use style=\"stroke:#000000;stroke-width:0.8;\" x=\"39.65\" xlink:href=\"#m318070a745\" y=\"133.100288\"/>\n      </g>\n     </g>\n     <g id=\"text_4\">\n      <!-- 4000 -->\n      <defs>\n       <path d=\"M 37.796875 64.3125 \nL 12.890625 25.390625 \nL 37.796875 25.390625 \nz\nM 35.203125 72.90625 \nL 47.609375 72.90625 \nL 47.609375 25.390625 \nL 58.015625 25.390625 \nL 58.015625 17.1875 \nL 47.609375 17.1875 \nL 47.609375 0 \nL 37.796875 0 \nL 37.796875 17.1875 \nL 4.890625 17.1875 \nL 4.890625 26.703125 \nz\n\" id=\"DejaVuSans-52\"/>\n      </defs>\n      <g transform=\"translate(7.2 136.899506)scale(0.1 -0.1)\">\n       <use xlink:href=\"#DejaVuSans-52\"/>\n       <use x=\"63.623047\" xlink:href=\"#DejaVuSans-48\"/>\n       <use x=\"127.246094\" xlink:href=\"#DejaVuSans-48\"/>\n       <use x=\"190.869141\" xlink:href=\"#DejaVuSans-48\"/>\n      </g>\n     </g>\n    </g>\n    <g id=\"ytick_4\">\n     <g id=\"line2d_5\">\n      <g>\n       <use style=\"stroke:#000000;stroke-width:0.8;\" x=\"39.65\" xlink:href=\"#m318070a745\" y=\"87.330431\"/>\n      </g>\n     </g>\n     <g id=\"text_5\">\n      <!-- 6000 -->\n      <defs>\n       <path d=\"M 33.015625 40.375 \nQ 26.375 40.375 22.484375 35.828125 \nQ 18.609375 31.296875 18.609375 23.390625 \nQ 18.609375 15.53125 22.484375 10.953125 \nQ 26.375 6.390625 33.015625 6.390625 \nQ 39.65625 6.390625 43.53125 10.953125 \nQ 47.40625 15.53125 47.40625 23.390625 \nQ 47.40625 31.296875 43.53125 35.828125 \nQ 39.65625 40.375 33.015625 40.375 \nz\nM 52.59375 71.296875 \nL 52.59375 62.3125 \nQ 48.875 64.0625 45.09375 64.984375 \nQ 41.3125 65.921875 37.59375 65.921875 \nQ 27.828125 65.921875 22.671875 59.328125 \nQ 17.53125 52.734375 16.796875 39.40625 \nQ 19.671875 43.65625 24.015625 45.921875 \nQ 28.375 48.1875 33.59375 48.1875 \nQ 44.578125 48.1875 50.953125 41.515625 \nQ 57.328125 34.859375 57.328125 23.390625 \nQ 57.328125 12.15625 50.6875 5.359375 \nQ 44.046875 -1.421875 33.015625 -1.421875 \nQ 20.359375 -1.421875 13.671875 8.265625 \nQ 6.984375 17.96875 6.984375 36.375 \nQ 6.984375 53.65625 15.1875 63.9375 \nQ 23.390625 74.21875 37.203125 74.21875 \nQ 40.921875 74.21875 44.703125 73.484375 \nQ 48.484375 72.75 52.59375 71.296875 \nz\n\" id=\"DejaVuSans-54\"/>\n      </defs>\n      <g transform=\"translate(7.2 91.12965)scale(0.1 -0.1)\">\n       <use xlink:href=\"#DejaVuSans-54\"/>\n       <use x=\"63.623047\" xlink:href=\"#DejaVuSans-48\"/>\n       <use x=\"127.246094\" xlink:href=\"#DejaVuSans-48\"/>\n       <use x=\"190.869141\" xlink:href=\"#DejaVuSans-48\"/>\n      </g>\n     </g>\n    </g>\n    <g id=\"ytick_5\">\n     <g id=\"line2d_6\">\n      <g>\n       <use style=\"stroke:#000000;stroke-width:0.8;\" x=\"39.65\" xlink:href=\"#m318070a745\" y=\"41.560575\"/>\n      </g>\n     </g>\n     <g id=\"text_6\">\n      <!-- 8000 -->\n      <defs>\n       <path d=\"M 31.78125 34.625 \nQ 24.75 34.625 20.71875 30.859375 \nQ 16.703125 27.09375 16.703125 20.515625 \nQ 16.703125 13.921875 20.71875 10.15625 \nQ 24.75 6.390625 31.78125 6.390625 \nQ 38.8125 6.390625 42.859375 10.171875 \nQ 46.921875 13.96875 46.921875 20.515625 \nQ 46.921875 27.09375 42.890625 30.859375 \nQ 38.875 34.625 31.78125 34.625 \nz\nM 21.921875 38.8125 \nQ 15.578125 40.375 12.03125 44.71875 \nQ 8.5 49.078125 8.5 55.328125 \nQ 8.5 64.0625 14.71875 69.140625 \nQ 20.953125 74.21875 31.78125 74.21875 \nQ 42.671875 74.21875 48.875 69.140625 \nQ 55.078125 64.0625 55.078125 55.328125 \nQ 55.078125 49.078125 51.53125 44.71875 \nQ 48 40.375 41.703125 38.8125 \nQ 48.828125 37.15625 52.796875 32.3125 \nQ 56.78125 27.484375 56.78125 20.515625 \nQ 56.78125 9.90625 50.3125 4.234375 \nQ 43.84375 -1.421875 31.78125 -1.421875 \nQ 19.734375 -1.421875 13.25 4.234375 \nQ 6.78125 9.90625 6.78125 20.515625 \nQ 6.78125 27.484375 10.78125 32.3125 \nQ 14.796875 37.15625 21.921875 38.8125 \nz\nM 18.3125 54.390625 \nQ 18.3125 48.734375 21.84375 45.5625 \nQ 25.390625 42.390625 31.78125 42.390625 \nQ 38.140625 42.390625 41.71875 45.5625 \nQ 45.3125 48.734375 45.3125 54.390625 \nQ 45.3125 60.0625 41.71875 63.234375 \nQ 38.140625 66.40625 31.78125 66.40625 \nQ 25.390625 66.40625 21.84375 63.234375 \nQ 18.3125 60.0625 18.3125 54.390625 \nz\n\" id=\"DejaVuSans-56\"/>\n      </defs>\n      <g transform=\"translate(7.2 45.359794)scale(0.1 -0.1)\">\n       <use xlink:href=\"#DejaVuSans-56\"/>\n       <use x=\"63.623047\" xlink:href=\"#DejaVuSans-48\"/>\n       <use x=\"127.246094\" xlink:href=\"#DejaVuSans-48\"/>\n       <use x=\"190.869141\" xlink:href=\"#DejaVuSans-48\"/>\n      </g>\n     </g>\n    </g>\n   </g>\n   <g id=\"patch_7\">\n    <path d=\"M 39.65 224.64 \nL 39.65 7.2 \n\" style=\"fill:none;stroke:#000000;stroke-linecap:square;stroke-linejoin:miter;stroke-width:0.8;\"/>\n   </g>\n   <g id=\"patch_8\">\n    <path d=\"M 374.45 224.64 \nL 374.45 7.2 \n\" style=\"fill:none;stroke:#000000;stroke-linecap:square;stroke-linejoin:miter;stroke-width:0.8;\"/>\n   </g>\n   <g id=\"patch_9\">\n    <path d=\"M 39.65 224.64 \nL 374.45 224.64 \n\" style=\"fill:none;stroke:#000000;stroke-linecap:square;stroke-linejoin:miter;stroke-width:0.8;\"/>\n   </g>\n   <g id=\"patch_10\">\n    <path d=\"M 39.65 7.2 \nL 374.45 7.2 \n\" style=\"fill:none;stroke:#000000;stroke-linecap:square;stroke-linejoin:miter;stroke-width:0.8;\"/>\n   </g>\n   <g id=\"legend_1\">\n    <g id=\"patch_11\">\n     <path d=\"M 300.682813 73.9125 \nL 367.45 73.9125 \nQ 369.45 73.9125 369.45 71.9125 \nL 369.45 14.2 \nQ 369.45 12.2 367.45 12.2 \nL 300.682813 12.2 \nQ 298.682813 12.2 298.682813 14.2 \nL 298.682813 71.9125 \nQ 298.682813 73.9125 300.682813 73.9125 \nz\n\" style=\"fill:#ffffff;opacity:0.8;stroke:#cccccc;stroke-linejoin:miter;\"/>\n    </g>\n    <g id=\"patch_12\">\n     <path d=\"M 302.682813 23.798437 \nL 322.682813 23.798437 \nL 322.682813 16.798437 \nL 302.682813 16.798437 \nz\n\" style=\"fill:#1f77b4;\"/>\n    </g>\n    <g id=\"text_7\">\n     <!-- R -->\n     <defs>\n      <path d=\"M 44.390625 34.1875 \nQ 47.5625 33.109375 50.5625 29.59375 \nQ 53.5625 26.078125 56.59375 19.921875 \nL 66.609375 0 \nL 56 0 \nL 46.6875 18.703125 \nQ 43.0625 26.03125 39.671875 28.421875 \nQ 36.28125 30.8125 30.421875 30.8125 \nL 19.671875 30.8125 \nL 19.671875 0 \nL 9.8125 0 \nL 9.8125 72.90625 \nL 32.078125 72.90625 \nQ 44.578125 72.90625 50.734375 67.671875 \nQ 56.890625 62.453125 56.890625 51.90625 \nQ 56.890625 45.015625 53.6875 40.46875 \nQ 50.484375 35.9375 44.390625 34.1875 \nz\nM 19.671875 64.796875 \nL 19.671875 38.921875 \nL 32.078125 38.921875 \nQ 39.203125 38.921875 42.84375 42.21875 \nQ 46.484375 45.515625 46.484375 51.90625 \nQ 46.484375 58.296875 42.84375 61.546875 \nQ 39.203125 64.796875 32.078125 64.796875 \nz\n\" id=\"DejaVuSans-82\"/>\n     </defs>\n     <g transform=\"translate(330.682813 23.798437)scale(0.1 -0.1)\">\n      <use xlink:href=\"#DejaVuSans-82\"/>\n     </g>\n    </g>\n    <g id=\"patch_13\">\n     <path d=\"M 302.682813 38.476562 \nL 322.682813 38.476562 \nL 322.682813 31.476562 \nL 302.682813 31.476562 \nz\n\" style=\"fill:#ff7f0e;\"/>\n    </g>\n    <g id=\"text_8\">\n     <!-- O -->\n     <defs>\n      <path d=\"M 39.40625 66.21875 \nQ 28.65625 66.21875 22.328125 58.203125 \nQ 16.015625 50.203125 16.015625 36.375 \nQ 16.015625 22.609375 22.328125 14.59375 \nQ 28.65625 6.59375 39.40625 6.59375 \nQ 50.140625 6.59375 56.421875 14.59375 \nQ 62.703125 22.609375 62.703125 36.375 \nQ 62.703125 50.203125 56.421875 58.203125 \nQ 50.140625 66.21875 39.40625 66.21875 \nz\nM 39.40625 74.21875 \nQ 54.734375 74.21875 63.90625 63.9375 \nQ 73.09375 53.65625 73.09375 36.375 \nQ 73.09375 19.140625 63.90625 8.859375 \nQ 54.734375 -1.421875 39.40625 -1.421875 \nQ 24.03125 -1.421875 14.8125 8.828125 \nQ 5.609375 19.09375 5.609375 36.375 \nQ 5.609375 53.65625 14.8125 63.9375 \nQ 24.03125 74.21875 39.40625 74.21875 \nz\n\" id=\"DejaVuSans-79\"/>\n     </defs>\n     <g transform=\"translate(330.682813 38.476562)scale(0.1 -0.1)\">\n      <use xlink:href=\"#DejaVuSans-79\"/>\n     </g>\n    </g>\n    <g id=\"patch_14\">\n     <path d=\"M 302.682813 53.154687 \nL 322.682813 53.154687 \nL 322.682813 46.154687 \nL 302.682813 46.154687 \nz\n\" style=\"fill:#2ca02c;\"/>\n    </g>\n    <g id=\"text_9\">\n     <!-- A -->\n     <defs>\n      <path d=\"M 34.1875 63.1875 \nL 20.796875 26.90625 \nL 47.609375 26.90625 \nz\nM 28.609375 72.90625 \nL 39.796875 72.90625 \nL 67.578125 0 \nL 57.328125 0 \nL 50.6875 18.703125 \nL 17.828125 18.703125 \nL 11.1875 0 \nL 0.78125 0 \nz\n\" id=\"DejaVuSans-65\"/>\n     </defs>\n     <g transform=\"translate(330.682813 53.154687)scale(0.1 -0.1)\">\n      <use xlink:href=\"#DejaVuSans-65\"/>\n     </g>\n    </g>\n    <g id=\"patch_15\">\n     <path d=\"M 302.682813 67.832812 \nL 322.682813 67.832812 \nL 322.682813 60.832812 \nL 302.682813 60.832812 \nz\n\" style=\"fill:#d62728;\"/>\n    </g>\n    <g id=\"text_10\">\n     <!-- OTHER -->\n     <defs>\n      <path d=\"M -0.296875 72.90625 \nL 61.375 72.90625 \nL 61.375 64.59375 \nL 35.5 64.59375 \nL 35.5 0 \nL 25.59375 0 \nL 25.59375 64.59375 \nL -0.296875 64.59375 \nz\n\" id=\"DejaVuSans-84\"/>\n      <path d=\"M 9.8125 72.90625 \nL 19.671875 72.90625 \nL 19.671875 43.015625 \nL 55.515625 43.015625 \nL 55.515625 72.90625 \nL 65.375 72.90625 \nL 65.375 0 \nL 55.515625 0 \nL 55.515625 34.71875 \nL 19.671875 34.71875 \nL 19.671875 0 \nL 9.8125 0 \nz\n\" id=\"DejaVuSans-72\"/>\n      <path d=\"M 9.8125 72.90625 \nL 55.90625 72.90625 \nL 55.90625 64.59375 \nL 19.671875 64.59375 \nL 19.671875 43.015625 \nL 54.390625 43.015625 \nL 54.390625 34.71875 \nL 19.671875 34.71875 \nL 19.671875 8.296875 \nL 56.78125 8.296875 \nL 56.78125 0 \nL 9.8125 0 \nz\n\" id=\"DejaVuSans-69\"/>\n     </defs>\n     <g transform=\"translate(330.682813 67.832812)scale(0.1 -0.1)\">\n      <use xlink:href=\"#DejaVuSans-79\"/>\n      <use x=\"78.710938\" xlink:href=\"#DejaVuSans-84\"/>\n      <use x=\"139.794922\" xlink:href=\"#DejaVuSans-72\"/>\n      <use x=\"214.990234\" xlink:href=\"#DejaVuSans-69\"/>\n      <use x=\"278.173828\" xlink:href=\"#DejaVuSans-82\"/>\n     </g>\n    </g>\n   </g>\n  </g>\n </g>\n <defs>\n  <clipPath id=\"p25d09b1817\">\n   <rect height=\"217.44\" width=\"334.8\" x=\"39.65\" y=\"7.2\"/>\n  </clipPath>\n </defs>\n</svg>\n",
      "image/png": "[encoded data removed]"
     },
     "metadata": {
      "needs_background": "light"
     }
    }
   ],
   "source": [
    "#thus R = 9049 O = 144 A = 132 OTHER = 17159-9049-144-132 = 7834\n",
    "import matplotlib.pyplot as plt\n",
    "import numpy as np\n",
    "df2 = pd.DataFrame(np.array([[9049, 144, 132, 7894]]), columns=[\"R\", \"O\", \"A\", \"OTHER\"])\n",
    "\n",
    "df2.plot.bar()"
   ]
  },
  {
   "cell_type": "code",
   "execution_count": 124,
   "metadata": {},
   "outputs": [
    {
     "output_type": "execute_result",
     "data": {
      "text/plain": [
       "2155000000.0"
      ]
     },
     "metadata": {},
     "execution_count": 124
    }
   ],
   "source": [
    "#mean median percentile 25-75 max min for price\n",
    "mean = df[\"SALE PRICE\"].mean()\n",
    "median = df[\"SALE PRICE\"].median()\n",
    "q1 = df[\"SALE PRICE\"].quantile(0.25)\n",
    "q3 = df[\"SALE PRICE\"].quantile(0.75)\n",
    "maxi = df[\"SALE PRICE\"].max()\n",
    "mini = df[\"SALE PRICE\"].min()\n",
    "# mean\n",
    "# median\n",
    "# q1\n",
    "# q3\n",
    "maxi\n",
    "# mini"
   ]
  },
  {
   "cell_type": "code",
   "execution_count": 112,
   "metadata": {},
   "outputs": [
    {
     "output_type": "execute_result",
     "data": {
      "text/plain": [
       "       BOROUGH             NEIGHBORHOOD          BUILDING CLASS CATEGORY  \\\n",
       "8272       1.0             MIDTOWN WEST   10 COOPS - ELEVATOR APARTMENTS   \n",
       "16062      1.0  UPPER WEST SIDE (79-96)  13 CONDOS - ELEVATOR APARTMENTS   \n",
       "\n",
       "      TAX CLASS AT PRESENT   BLOCK     LOT BUILDING CLASS AT PRESENT  \\\n",
       "8272                     2  1046.0    23.0                         D   \n",
       "16062                    2  1206.0  1007.0                         R   \n",
       "\n",
       "       ZIP CODE  RESIDENTIAL UNITS  COMMERCIAL UNITS  TOTAL UNITS  \\\n",
       "8272    10019.0                NaN               NaN          NaN   \n",
       "16062   10025.0                NaN               NaN          NaN   \n",
       "\n",
       "      LAND SQUARE FEET GROSS SQUARE FEET  YEAR BUILT  \\\n",
       "8272               NaN               NaN      1945.0   \n",
       "16062              NaN             1,790         0.0   \n",
       "\n",
       "       TAX CLASS AT TIME OF SALE BUILDING CLASS AT TIME OF SALE  SALE PRICE  \\\n",
       "8272                         2.0                             D4    510000.0   \n",
       "16062                        2.0                             R4         0.0   \n",
       "\n",
       "      SALE DATE  \n",
       "8272    8/12/19  \n",
       "16062    2/5/19  "
      ],
      "text/html": "<div>\n<style scoped>\n    .dataframe tbody tr th:only-of-type {\n        vertical-align: middle;\n    }\n\n    .dataframe tbody tr th {\n        vertical-align: top;\n    }\n\n    .dataframe thead th {\n        text-align: right;\n    }\n</style>\n<table border=\"1\" class=\"dataframe\">\n  <thead>\n    <tr style=\"text-align: right;\">\n      <th></th>\n      <th>BOROUGH</th>\n      <th>NEIGHBORHOOD</th>\n      <th>BUILDING CLASS CATEGORY</th>\n      <th>TAX CLASS AT PRESENT</th>\n      <th>BLOCK</th>\n      <th>LOT</th>\n      <th>BUILDING CLASS AT PRESENT</th>\n      <th>ZIP CODE</th>\n      <th>RESIDENTIAL UNITS</th>\n      <th>COMMERCIAL UNITS</th>\n      <th>TOTAL UNITS</th>\n      <th>LAND SQUARE FEET</th>\n      <th>GROSS SQUARE FEET</th>\n      <th>YEAR BUILT</th>\n      <th>TAX CLASS AT TIME OF SALE</th>\n      <th>BUILDING CLASS AT TIME OF SALE</th>\n      <th>SALE PRICE</th>\n      <th>SALE DATE</th>\n    </tr>\n  </thead>\n  <tbody>\n    <tr>\n      <th>8272</th>\n      <td>1.0</td>\n      <td>MIDTOWN WEST</td>\n      <td>10 COOPS - ELEVATOR APARTMENTS</td>\n      <td>2</td>\n      <td>1046.0</td>\n      <td>23.0</td>\n      <td>D</td>\n      <td>10019.0</td>\n      <td>NaN</td>\n      <td>NaN</td>\n      <td>NaN</td>\n      <td>NaN</td>\n      <td>NaN</td>\n      <td>1945.0</td>\n      <td>2.0</td>\n      <td>D4</td>\n      <td>510000.0</td>\n      <td>8/12/19</td>\n    </tr>\n    <tr>\n      <th>16062</th>\n      <td>1.0</td>\n      <td>UPPER WEST SIDE (79-96)</td>\n      <td>13 CONDOS - ELEVATOR APARTMENTS</td>\n      <td>2</td>\n      <td>1206.0</td>\n      <td>1007.0</td>\n      <td>R</td>\n      <td>10025.0</td>\n      <td>NaN</td>\n      <td>NaN</td>\n      <td>NaN</td>\n      <td>NaN</td>\n      <td>1,790</td>\n      <td>0.0</td>\n      <td>2.0</td>\n      <td>R4</td>\n      <td>0.0</td>\n      <td>2/5/19</td>\n    </tr>\n  </tbody>\n</table>\n</div>"
     },
     "metadata": {},
     "execution_count": 112
    }
   ],
   "source": [
    "#pick neighbours\n",
    "df_ran = df.sample(n=2)\n",
    "df_ran"
   ]
  },
  {
   "cell_type": "code",
   "execution_count": 118,
   "metadata": {},
   "outputs": [
    {
     "output_type": "execute_result",
     "data": {
      "text/plain": [
       "[6091642.48875, 710000.0, 0.0, 1750000.0, 442000000.0, 0.0]"
      ]
     },
     "metadata": {},
     "execution_count": 118
    }
   ],
   "source": [
    "df_n1 = df[df['NEIGHBORHOOD']=='MIDTOWN WEST']\n",
    "mean_n1 = df_n1[\"SALE PRICE\"].mean()\n",
    "median_n1 = df_n1[\"SALE PRICE\"].median()\n",
    "q1_n1 = df_n1[\"SALE PRICE\"].quantile(0.25)\n",
    "q3_n1 = df_n1[\"SALE PRICE\"].quantile(0.75)\n",
    "maxi_n1 = df_n1[\"SALE PRICE\"].max()\n",
    "mini_n1 = df_n1[\"SALE PRICE\"].min()\n",
    "[mean_n1,median_n1,q1_n1, q3_n1, maxi_n1, mini_n1]\n",
    "# df_n1[\"SALE PRICE\"].summary()"
   ]
  },
  {
   "cell_type": "code",
   "execution_count": 119,
   "metadata": {},
   "outputs": [
    {
     "output_type": "execute_result",
     "data": {
      "text/plain": [
       "[2271906.976190476, 952500.0, 446250.0, 2000000.0, 220500000.0, 0.0]"
      ]
     },
     "metadata": {},
     "execution_count": 119
    }
   ],
   "source": [
    "df_n2 = df[df['NEIGHBORHOOD']=='UPPER WEST SIDE (79-96)']\n",
    "mean_n2 = df_n2[\"SALE PRICE\"].mean()\n",
    "median_n2 = df_n2[\"SALE PRICE\"].median()\n",
    "q1_n2 = df_n2[\"SALE PRICE\"].quantile(0.25)\n",
    "q3_n2 = df_n2[\"SALE PRICE\"].quantile(0.75)\n",
    "maxi_n2 = df_n2[\"SALE PRICE\"].max()\n",
    "mini_n2 = df_n2[\"SALE PRICE\"].min()\n",
    "[mean_n2,median_n2,q1_n2, q3_n2, maxi_n2, mini_n2]"
   ]
  },
  {
   "cell_type": "code",
   "execution_count": 128,
   "metadata": {},
   "outputs": [],
   "source": [
    "#the midtown west average price is higher than upper west side 79-96 but the median is lower and maximum is way lower.\n",
    "#bin would be [0, 300000, 875000, 2000000, 2155000000]\n",
    "bins = [0, 300000, 875000, 2000000, 2155000000]\n",
    "labels = ['zero', 'q1', 'q3', 'high']"
   ]
  },
  {
   "cell_type": "code",
   "execution_count": 129,
   "metadata": {},
   "outputs": [],
   "source": [
    "cut_bin = pd.cut(df[\"SALE PRICE\"], bins, labels=labels)"
   ]
  },
  {
   "cell_type": "code",
   "execution_count": 134,
   "metadata": {},
   "outputs": [],
   "source": [
    "x = pd.value_counts(cut_bin)"
   ]
  },
  {
   "cell_type": "code",
   "execution_count": 135,
   "metadata": {},
   "outputs": [
    {
     "output_type": "execute_result",
     "data": {
      "text/plain": [
       "<matplotlib.axes._subplots.AxesSubplot at 0x7fac44b72f10>"
      ]
     },
     "metadata": {},
     "execution_count": 135
    },
    {
     "output_type": "display_data",
     "data": {
      "text/plain": "<Figure size 432x288 with 1 Axes>",
      "image/svg+xml": "<?xml version=\"1.0\" encoding=\"utf-8\" standalone=\"no\"?>\n<!DOCTYPE svg PUBLIC \"-//W3C//DTD SVG 1.1//EN\"\n  \"http://www.w3.org/Graphics/SVG/1.1/DTD/svg11.dtd\">\n<!-- Created with matplotlib (https://matplotlib.org/) -->\n<svg height=\"235.34pt\" version=\"1.1\" viewBox=\"0 0 381.65 235.34\" width=\"381.65pt\" xmlns=\"http://www.w3.org/2000/svg\" xmlns:xlink=\"http://www.w3.org/1999/xlink\">\n <defs>\n  <style type=\"text/css\">\n*{stroke-linecap:butt;stroke-linejoin:round;}\n  </style>\n </defs>\n <g id=\"figure_1\">\n  <g id=\"patch_1\">\n   <path d=\"M -0 235.34 \nL 381.65 235.34 \nL 381.65 0 \nL -0 0 \nz\n\" style=\"fill:none;\"/>\n  </g>\n  <g id=\"axes_1\">\n   <g id=\"patch_2\">\n    <path d=\"M 39.65 224.64 \nL 374.45 224.64 \nL 374.45 7.2 \nL 39.65 7.2 \nz\n\" style=\"fill:#ffffff;\"/>\n   </g>\n   <g id=\"matplotlib.axis_1\">\n    <g id=\"xtick_1\">\n     <g id=\"line2d_1\">\n      <defs>\n       <path d=\"M 0 0 \nL 0 3.5 \n\" id=\"m0c6c713928\" style=\"stroke:#000000;stroke-width:0.8;\"/>\n      </defs>\n      <g>\n       <use style=\"stroke:#000000;stroke-width:0.8;\" x=\"54.868182\" xlink:href=\"#m0c6c713928\" y=\"224.64\"/>\n      </g>\n     </g>\n    </g>\n    <g id=\"xtick_2\">\n     <g id=\"line2d_2\">\n      <g>\n       <use style=\"stroke:#000000;stroke-width:0.8;\" x=\"105.595455\" xlink:href=\"#m0c6c713928\" y=\"224.64\"/>\n      </g>\n     </g>\n    </g>\n    <g id=\"xtick_3\">\n     <g id=\"line2d_3\">\n      <g>\n       <use style=\"stroke:#000000;stroke-width:0.8;\" x=\"156.322727\" xlink:href=\"#m0c6c713928\" y=\"224.64\"/>\n      </g>\n     </g>\n    </g>\n    <g id=\"xtick_4\">\n     <g id=\"line2d_4\">\n      <g>\n       <use style=\"stroke:#000000;stroke-width:0.8;\" x=\"207.05\" xlink:href=\"#m0c6c713928\" y=\"224.64\"/>\n      </g>\n     </g>\n    </g>\n    <g id=\"xtick_5\">\n     <g id=\"line2d_5\">\n      <g>\n       <use style=\"stroke:#000000;stroke-width:0.8;\" x=\"257.777273\" xlink:href=\"#m0c6c713928\" y=\"224.64\"/>\n      </g>\n     </g>\n    </g>\n    <g id=\"xtick_6\">\n     <g id=\"line2d_6\">\n      <g>\n       <use style=\"stroke:#000000;stroke-width:0.8;\" x=\"308.504545\" xlink:href=\"#m0c6c713928\" y=\"224.64\"/>\n      </g>\n     </g>\n    </g>\n    <g id=\"xtick_7\">\n     <g id=\"line2d_7\">\n      <g>\n       <use style=\"stroke:#000000;stroke-width:0.8;\" x=\"359.231818\" xlink:href=\"#m0c6c713928\" y=\"224.64\"/>\n      </g>\n     </g>\n    </g>\n   </g>\n   <g id=\"matplotlib.axis_2\">\n    <g id=\"ytick_1\">\n     <g id=\"line2d_8\">\n      <defs>\n       <path d=\"M 0 0 \nL -3.5 0 \n\" id=\"m57781814d6\" style=\"stroke:#000000;stroke-width:0.8;\"/>\n      </defs>\n      <g>\n       <use style=\"stroke:#000000;stroke-width:0.8;\" x=\"39.65\" xlink:href=\"#m57781814d6\" y=\"222.025652\"/>\n      </g>\n     </g>\n     <g id=\"text_1\">\n      <!-- 500 -->\n      <defs>\n       <path d=\"M 10.796875 72.90625 \nL 49.515625 72.90625 \nL 49.515625 64.59375 \nL 19.828125 64.59375 \nL 19.828125 46.734375 \nQ 21.96875 47.46875 24.109375 47.828125 \nQ 26.265625 48.1875 28.421875 48.1875 \nQ 40.625 48.1875 47.75 41.5 \nQ 54.890625 34.8125 54.890625 23.390625 \nQ 54.890625 11.625 47.5625 5.09375 \nQ 40.234375 -1.421875 26.90625 -1.421875 \nQ 22.3125 -1.421875 17.546875 -0.640625 \nQ 12.796875 0.140625 7.71875 1.703125 \nL 7.71875 11.625 \nQ 12.109375 9.234375 16.796875 8.0625 \nQ 21.484375 6.890625 26.703125 6.890625 \nQ 35.15625 6.890625 40.078125 11.328125 \nQ 45.015625 15.765625 45.015625 23.390625 \nQ 45.015625 31 40.078125 35.4375 \nQ 35.15625 39.890625 26.703125 39.890625 \nQ 22.75 39.890625 18.8125 39.015625 \nQ 14.890625 38.140625 10.796875 36.28125 \nz\n\" id=\"DejaVuSans-53\"/>\n       <path d=\"M 31.78125 66.40625 \nQ 24.171875 66.40625 20.328125 58.90625 \nQ 16.5 51.421875 16.5 36.375 \nQ 16.5 21.390625 20.328125 13.890625 \nQ 24.171875 6.390625 31.78125 6.390625 \nQ 39.453125 6.390625 43.28125 13.890625 \nQ 47.125 21.390625 47.125 36.375 \nQ 47.125 51.421875 43.28125 58.90625 \nQ 39.453125 66.40625 31.78125 66.40625 \nz\nM 31.78125 74.21875 \nQ 44.046875 74.21875 50.515625 64.515625 \nQ 56.984375 54.828125 56.984375 36.375 \nQ 56.984375 17.96875 50.515625 8.265625 \nQ 44.046875 -1.421875 31.78125 -1.421875 \nQ 19.53125 -1.421875 13.0625 8.265625 \nQ 6.59375 17.96875 6.59375 36.375 \nQ 6.59375 54.828125 13.0625 64.515625 \nQ 19.53125 74.21875 31.78125 74.21875 \nz\n\" id=\"DejaVuSans-48\"/>\n      </defs>\n      <g transform=\"translate(13.5625 225.824871)scale(0.1 -0.1)\">\n       <use xlink:href=\"#DejaVuSans-53\"/>\n       <use x=\"63.623047\" xlink:href=\"#DejaVuSans-48\"/>\n       <use x=\"127.246094\" xlink:href=\"#DejaVuSans-48\"/>\n      </g>\n     </g>\n    </g>\n    <g id=\"ytick_2\">\n     <g id=\"line2d_9\">\n      <g>\n       <use style=\"stroke:#000000;stroke-width:0.8;\" x=\"39.65\" xlink:href=\"#m57781814d6\" y=\"196.063907\"/>\n      </g>\n     </g>\n     <g id=\"text_2\">\n      <!-- 1000 -->\n      <defs>\n       <path d=\"M 12.40625 8.296875 \nL 28.515625 8.296875 \nL 28.515625 63.921875 \nL 10.984375 60.40625 \nL 10.984375 69.390625 \nL 28.421875 72.90625 \nL 38.28125 72.90625 \nL 38.28125 8.296875 \nL 54.390625 8.296875 \nL 54.390625 0 \nL 12.40625 0 \nz\n\" id=\"DejaVuSans-49\"/>\n      </defs>\n      <g transform=\"translate(7.2 199.863126)scale(0.1 -0.1)\">\n       <use xlink:href=\"#DejaVuSans-49\"/>\n       <use x=\"63.623047\" xlink:href=\"#DejaVuSans-48\"/>\n       <use x=\"127.246094\" xlink:href=\"#DejaVuSans-48\"/>\n       <use x=\"190.869141\" xlink:href=\"#DejaVuSans-48\"/>\n      </g>\n     </g>\n    </g>\n    <g id=\"ytick_3\">\n     <g id=\"line2d_10\">\n      <g>\n       <use style=\"stroke:#000000;stroke-width:0.8;\" x=\"39.65\" xlink:href=\"#m57781814d6\" y=\"170.102162\"/>\n      </g>\n     </g>\n     <g id=\"text_3\">\n      <!-- 1500 -->\n      <g transform=\"translate(7.2 173.901381)scale(0.1 -0.1)\">\n       <use xlink:href=\"#DejaVuSans-49\"/>\n       <use x=\"63.623047\" xlink:href=\"#DejaVuSans-53\"/>\n       <use x=\"127.246094\" xlink:href=\"#DejaVuSans-48\"/>\n       <use x=\"190.869141\" xlink:href=\"#DejaVuSans-48\"/>\n      </g>\n     </g>\n    </g>\n    <g id=\"ytick_4\">\n     <g id=\"line2d_11\">\n      <g>\n       <use style=\"stroke:#000000;stroke-width:0.8;\" x=\"39.65\" xlink:href=\"#m57781814d6\" y=\"144.140417\"/>\n      </g>\n     </g>\n     <g id=\"text_4\">\n      <!-- 2000 -->\n      <defs>\n       <path d=\"M 19.1875 8.296875 \nL 53.609375 8.296875 \nL 53.609375 0 \nL 7.328125 0 \nL 7.328125 8.296875 \nQ 12.9375 14.109375 22.625 23.890625 \nQ 32.328125 33.6875 34.8125 36.53125 \nQ 39.546875 41.84375 41.421875 45.53125 \nQ 43.3125 49.21875 43.3125 52.78125 \nQ 43.3125 58.59375 39.234375 62.25 \nQ 35.15625 65.921875 28.609375 65.921875 \nQ 23.96875 65.921875 18.8125 64.3125 \nQ 13.671875 62.703125 7.8125 59.421875 \nL 7.8125 69.390625 \nQ 13.765625 71.78125 18.9375 73 \nQ 24.125 74.21875 28.421875 74.21875 \nQ 39.75 74.21875 46.484375 68.546875 \nQ 53.21875 62.890625 53.21875 53.421875 \nQ 53.21875 48.921875 51.53125 44.890625 \nQ 49.859375 40.875 45.40625 35.40625 \nQ 44.1875 33.984375 37.640625 27.21875 \nQ 31.109375 20.453125 19.1875 8.296875 \nz\n\" id=\"DejaVuSans-50\"/>\n      </defs>\n      <g transform=\"translate(7.2 147.939636)scale(0.1 -0.1)\">\n       <use xlink:href=\"#DejaVuSans-50\"/>\n       <use x=\"63.623047\" xlink:href=\"#DejaVuSans-48\"/>\n       <use x=\"127.246094\" xlink:href=\"#DejaVuSans-48\"/>\n       <use x=\"190.869141\" xlink:href=\"#DejaVuSans-48\"/>\n      </g>\n     </g>\n    </g>\n    <g id=\"ytick_5\">\n     <g id=\"line2d_12\">\n      <g>\n       <use style=\"stroke:#000000;stroke-width:0.8;\" x=\"39.65\" xlink:href=\"#m57781814d6\" y=\"118.178672\"/>\n      </g>\n     </g>\n     <g id=\"text_5\">\n      <!-- 2500 -->\n      <g transform=\"translate(7.2 121.977891)scale(0.1 -0.1)\">\n       <use xlink:href=\"#DejaVuSans-50\"/>\n       <use x=\"63.623047\" xlink:href=\"#DejaVuSans-53\"/>\n       <use x=\"127.246094\" xlink:href=\"#DejaVuSans-48\"/>\n       <use x=\"190.869141\" xlink:href=\"#DejaVuSans-48\"/>\n      </g>\n     </g>\n    </g>\n    <g id=\"ytick_6\">\n     <g id=\"line2d_13\">\n      <g>\n       <use style=\"stroke:#000000;stroke-width:0.8;\" x=\"39.65\" xlink:href=\"#m57781814d6\" y=\"92.216927\"/>\n      </g>\n     </g>\n     <g id=\"text_6\">\n      <!-- 3000 -->\n      <defs>\n       <path d=\"M 40.578125 39.3125 \nQ 47.65625 37.796875 51.625 33 \nQ 55.609375 28.21875 55.609375 21.1875 \nQ 55.609375 10.40625 48.1875 4.484375 \nQ 40.765625 -1.421875 27.09375 -1.421875 \nQ 22.515625 -1.421875 17.65625 -0.515625 \nQ 12.796875 0.390625 7.625 2.203125 \nL 7.625 11.71875 \nQ 11.71875 9.328125 16.59375 8.109375 \nQ 21.484375 6.890625 26.8125 6.890625 \nQ 36.078125 6.890625 40.9375 10.546875 \nQ 45.796875 14.203125 45.796875 21.1875 \nQ 45.796875 27.640625 41.28125 31.265625 \nQ 36.765625 34.90625 28.71875 34.90625 \nL 20.21875 34.90625 \nL 20.21875 43.015625 \nL 29.109375 43.015625 \nQ 36.375 43.015625 40.234375 45.921875 \nQ 44.09375 48.828125 44.09375 54.296875 \nQ 44.09375 59.90625 40.109375 62.90625 \nQ 36.140625 65.921875 28.71875 65.921875 \nQ 24.65625 65.921875 20.015625 65.03125 \nQ 15.375 64.15625 9.8125 62.3125 \nL 9.8125 71.09375 \nQ 15.4375 72.65625 20.34375 73.4375 \nQ 25.25 74.21875 29.59375 74.21875 \nQ 40.828125 74.21875 47.359375 69.109375 \nQ 53.90625 64.015625 53.90625 55.328125 \nQ 53.90625 49.265625 50.4375 45.09375 \nQ 46.96875 40.921875 40.578125 39.3125 \nz\n\" id=\"DejaVuSans-51\"/>\n      </defs>\n      <g transform=\"translate(7.2 96.016145)scale(0.1 -0.1)\">\n       <use xlink:href=\"#DejaVuSans-51\"/>\n       <use x=\"63.623047\" xlink:href=\"#DejaVuSans-48\"/>\n       <use x=\"127.246094\" xlink:href=\"#DejaVuSans-48\"/>\n       <use x=\"190.869141\" xlink:href=\"#DejaVuSans-48\"/>\n      </g>\n     </g>\n    </g>\n    <g id=\"ytick_7\">\n     <g id=\"line2d_14\">\n      <g>\n       <use style=\"stroke:#000000;stroke-width:0.8;\" x=\"39.65\" xlink:href=\"#m57781814d6\" y=\"66.255182\"/>\n      </g>\n     </g>\n     <g id=\"text_7\">\n      <!-- 3500 -->\n      <g transform=\"translate(7.2 70.0544)scale(0.1 -0.1)\">\n       <use xlink:href=\"#DejaVuSans-51\"/>\n       <use x=\"63.623047\" xlink:href=\"#DejaVuSans-53\"/>\n       <use x=\"127.246094\" xlink:href=\"#DejaVuSans-48\"/>\n       <use x=\"190.869141\" xlink:href=\"#DejaVuSans-48\"/>\n      </g>\n     </g>\n    </g>\n    <g id=\"ytick_8\">\n     <g id=\"line2d_15\">\n      <g>\n       <use style=\"stroke:#000000;stroke-width:0.8;\" x=\"39.65\" xlink:href=\"#m57781814d6\" y=\"40.293436\"/>\n      </g>\n     </g>\n     <g id=\"text_8\">\n      <!-- 4000 -->\n      <defs>\n       <path d=\"M 37.796875 64.3125 \nL 12.890625 25.390625 \nL 37.796875 25.390625 \nz\nM 35.203125 72.90625 \nL 47.609375 72.90625 \nL 47.609375 25.390625 \nL 58.015625 25.390625 \nL 58.015625 17.1875 \nL 47.609375 17.1875 \nL 47.609375 0 \nL 37.796875 0 \nL 37.796875 17.1875 \nL 4.890625 17.1875 \nL 4.890625 26.703125 \nz\n\" id=\"DejaVuSans-52\"/>\n      </defs>\n      <g transform=\"translate(7.2 44.092655)scale(0.1 -0.1)\">\n       <use xlink:href=\"#DejaVuSans-52\"/>\n       <use x=\"63.623047\" xlink:href=\"#DejaVuSans-48\"/>\n       <use x=\"127.246094\" xlink:href=\"#DejaVuSans-48\"/>\n       <use x=\"190.869141\" xlink:href=\"#DejaVuSans-48\"/>\n      </g>\n     </g>\n    </g>\n    <g id=\"ytick_9\">\n     <g id=\"line2d_16\">\n      <g>\n       <use style=\"stroke:#000000;stroke-width:0.8;\" x=\"39.65\" xlink:href=\"#m57781814d6\" y=\"14.331691\"/>\n      </g>\n     </g>\n     <g id=\"text_9\">\n      <!-- 4500 -->\n      <g transform=\"translate(7.2 18.13091)scale(0.1 -0.1)\">\n       <use xlink:href=\"#DejaVuSans-52\"/>\n       <use x=\"63.623047\" xlink:href=\"#DejaVuSans-53\"/>\n       <use x=\"127.246094\" xlink:href=\"#DejaVuSans-48\"/>\n       <use x=\"190.869141\" xlink:href=\"#DejaVuSans-48\"/>\n      </g>\n     </g>\n    </g>\n   </g>\n   <g id=\"line2d_17\">\n    <path clip-path=\"url(#p8fde65e6a3)\" d=\"M 54.868182 17.083636 \nL 156.322727 24.560619 \nL 257.777273 34.945317 \nL 359.231818 214.756364 \n\" style=\"fill:none;stroke:#1f77b4;stroke-linecap:square;stroke-width:1.5;\"/>\n   </g>\n   <g id=\"patch_3\">\n    <path d=\"M 39.65 224.64 \nL 39.65 7.2 \n\" style=\"fill:none;stroke:#000000;stroke-linecap:square;stroke-linejoin:miter;stroke-width:0.8;\"/>\n   </g>\n   <g id=\"patch_4\">\n    <path d=\"M 374.45 224.64 \nL 374.45 7.2 \n\" style=\"fill:none;stroke:#000000;stroke-linecap:square;stroke-linejoin:miter;stroke-width:0.8;\"/>\n   </g>\n   <g id=\"patch_5\">\n    <path d=\"M 39.65 224.64 \nL 374.45 224.64 \n\" style=\"fill:none;stroke:#000000;stroke-linecap:square;stroke-linejoin:miter;stroke-width:0.8;\"/>\n   </g>\n   <g id=\"patch_6\">\n    <path d=\"M 39.65 7.2 \nL 374.45 7.2 \n\" style=\"fill:none;stroke:#000000;stroke-linecap:square;stroke-linejoin:miter;stroke-width:0.8;\"/>\n   </g>\n  </g>\n </g>\n <defs>\n  <clipPath id=\"p8fde65e6a3\">\n   <rect height=\"217.44\" width=\"334.8\" x=\"39.65\" y=\"7.2\"/>\n  </clipPath>\n </defs>\n</svg>\n",
      "image/png": "[encoded data removed]"
     },
     "metadata": {
      "needs_background": "light"
     }
    }
   ],
   "source": [
    "x.plot()\n",
    "#unusual is that the range is very high and some of the price is zero hence we cannot know the true values\n",
    "#this would affect the property counts because the sale price cannot be zero if the property is actually sold\n",
    "#i think i would need to drop the zero values to 'fix' this"
   ]
  },
  {
   "cell_type": "code",
   "execution_count": 145,
   "metadata": {},
   "outputs": [
    {
     "output_type": "execute_result",
     "data": {
      "text/plain": [
       "<matplotlib.legend.Legend at 0x7fac458ad340>"
      ]
     },
     "metadata": {},
     "execution_count": 145
    },
    {
     "output_type": "display_data",
     "data": {
      "text/plain": "<Figure size 432x288 with 0 Axes>"
     },
     "metadata": {}
    },
    {
     "output_type": "display_data",
     "data": {
      "text/plain": "<Figure size 432x288 with 1 Axes>",
      "image/svg+xml": "<?xml version=\"1.0\" encoding=\"utf-8\" standalone=\"no\"?>\n<!DOCTYPE svg PUBLIC \"-//W3C//DTD SVG 1.1//EN\"\n  \"http://www.w3.org/Graphics/SVG/1.1/DTD/svg11.dtd\">\n<!-- Created with matplotlib (https://matplotlib.org/) -->\n<svg height=\"259.116562pt\" version=\"1.1\" viewBox=\"0 0 362.5625 259.116562\" width=\"362.5625pt\" xmlns=\"http://www.w3.org/2000/svg\" xmlns:xlink=\"http://www.w3.org/1999/xlink\">\n <defs>\n  <style type=\"text/css\">\n*{stroke-linecap:butt;stroke-linejoin:round;}\n  </style>\n </defs>\n <g id=\"figure_1\">\n  <g id=\"patch_1\">\n   <path d=\"M 0 259.116562 \nL 362.5625 259.116562 \nL 362.5625 0 \nL 0 0 \nz\n\" style=\"fill:none;\"/>\n  </g>\n  <g id=\"axes_1\">\n   <g id=\"patch_2\">\n    <path d=\"M 20.5625 235.238437 \nL 355.3625 235.238437 \nL 355.3625 17.798437 \nL 20.5625 17.798437 \nz\n\" style=\"fill:#ffffff;\"/>\n   </g>\n   <g id=\"matplotlib.axis_1\">\n    <g id=\"xtick_1\">\n     <g id=\"line2d_1\">\n      <defs>\n       <path d=\"M 0 0 \nL 0 3.5 \n\" id=\"m9e33b5691c\" style=\"stroke:#000000;stroke-width:0.8;\"/>\n      </defs>\n      <g>\n       <use style=\"stroke:#000000;stroke-width:0.8;\" x=\"35.780682\" xlink:href=\"#m9e33b5691c\" y=\"235.238437\"/>\n      </g>\n     </g>\n     <g id=\"text_1\">\n      <!-- 0 -->\n      <defs>\n       <path d=\"M 31.78125 66.40625 \nQ 24.171875 66.40625 20.328125 58.90625 \nQ 16.5 51.421875 16.5 36.375 \nQ 16.5 21.390625 20.328125 13.890625 \nQ 24.171875 6.390625 31.78125 6.390625 \nQ 39.453125 6.390625 43.28125 13.890625 \nQ 47.125 21.390625 47.125 36.375 \nQ 47.125 51.421875 43.28125 58.90625 \nQ 39.453125 66.40625 31.78125 66.40625 \nz\nM 31.78125 74.21875 \nQ 44.046875 74.21875 50.515625 64.515625 \nQ 56.984375 54.828125 56.984375 36.375 \nQ 56.984375 17.96875 50.515625 8.265625 \nQ 44.046875 -1.421875 31.78125 -1.421875 \nQ 19.53125 -1.421875 13.0625 8.265625 \nQ 6.59375 17.96875 6.59375 36.375 \nQ 6.59375 54.828125 13.0625 64.515625 \nQ 19.53125 74.21875 31.78125 74.21875 \nz\n\" id=\"DejaVuSans-48\"/>\n      </defs>\n      <g transform=\"translate(32.599432 249.836875)scale(0.1 -0.1)\">\n       <use xlink:href=\"#DejaVuSans-48\"/>\n      </g>\n     </g>\n    </g>\n    <g id=\"xtick_2\">\n     <g id=\"line2d_2\">\n      <g>\n       <use style=\"stroke:#000000;stroke-width:0.8;\" x=\"75.802199\" xlink:href=\"#m9e33b5691c\" y=\"235.238437\"/>\n      </g>\n     </g>\n     <g id=\"text_2\">\n      <!-- 200 -->\n      <defs>\n       <path d=\"M 19.1875 8.296875 \nL 53.609375 8.296875 \nL 53.609375 0 \nL 7.328125 0 \nL 7.328125 8.296875 \nQ 12.9375 14.109375 22.625 23.890625 \nQ 32.328125 33.6875 34.8125 36.53125 \nQ 39.546875 41.84375 41.421875 45.53125 \nQ 43.3125 49.21875 43.3125 52.78125 \nQ 43.3125 58.59375 39.234375 62.25 \nQ 35.15625 65.921875 28.609375 65.921875 \nQ 23.96875 65.921875 18.8125 64.3125 \nQ 13.671875 62.703125 7.8125 59.421875 \nL 7.8125 69.390625 \nQ 13.765625 71.78125 18.9375 73 \nQ 24.125 74.21875 28.421875 74.21875 \nQ 39.75 74.21875 46.484375 68.546875 \nQ 53.21875 62.890625 53.21875 53.421875 \nQ 53.21875 48.921875 51.53125 44.890625 \nQ 49.859375 40.875 45.40625 35.40625 \nQ 44.1875 33.984375 37.640625 27.21875 \nQ 31.109375 20.453125 19.1875 8.296875 \nz\n\" id=\"DejaVuSans-50\"/>\n      </defs>\n      <g transform=\"translate(66.258449 249.836875)scale(0.1 -0.1)\">\n       <use xlink:href=\"#DejaVuSans-50\"/>\n       <use x=\"63.623047\" xlink:href=\"#DejaVuSans-48\"/>\n       <use x=\"127.246094\" xlink:href=\"#DejaVuSans-48\"/>\n      </g>\n     </g>\n    </g>\n    <g id=\"xtick_3\">\n     <g id=\"line2d_3\">\n      <g>\n       <use style=\"stroke:#000000;stroke-width:0.8;\" x=\"115.823716\" xlink:href=\"#m9e33b5691c\" y=\"235.238437\"/>\n      </g>\n     </g>\n     <g id=\"text_3\">\n      <!-- 400 -->\n      <defs>\n       <path d=\"M 37.796875 64.3125 \nL 12.890625 25.390625 \nL 37.796875 25.390625 \nz\nM 35.203125 72.90625 \nL 47.609375 72.90625 \nL 47.609375 25.390625 \nL 58.015625 25.390625 \nL 58.015625 17.1875 \nL 47.609375 17.1875 \nL 47.609375 0 \nL 37.796875 0 \nL 37.796875 17.1875 \nL 4.890625 17.1875 \nL 4.890625 26.703125 \nz\n\" id=\"DejaVuSans-52\"/>\n      </defs>\n      <g transform=\"translate(106.279966 249.836875)scale(0.1 -0.1)\">\n       <use xlink:href=\"#DejaVuSans-52\"/>\n       <use x=\"63.623047\" xlink:href=\"#DejaVuSans-48\"/>\n       <use x=\"127.246094\" xlink:href=\"#DejaVuSans-48\"/>\n      </g>\n     </g>\n    </g>\n    <g id=\"xtick_4\">\n     <g id=\"line2d_4\">\n      <g>\n       <use style=\"stroke:#000000;stroke-width:0.8;\" x=\"155.845233\" xlink:href=\"#m9e33b5691c\" y=\"235.238437\"/>\n      </g>\n     </g>\n     <g id=\"text_4\">\n      <!-- 600 -->\n      <defs>\n       <path d=\"M 33.015625 40.375 \nQ 26.375 40.375 22.484375 35.828125 \nQ 18.609375 31.296875 18.609375 23.390625 \nQ 18.609375 15.53125 22.484375 10.953125 \nQ 26.375 6.390625 33.015625 6.390625 \nQ 39.65625 6.390625 43.53125 10.953125 \nQ 47.40625 15.53125 47.40625 23.390625 \nQ 47.40625 31.296875 43.53125 35.828125 \nQ 39.65625 40.375 33.015625 40.375 \nz\nM 52.59375 71.296875 \nL 52.59375 62.3125 \nQ 48.875 64.0625 45.09375 64.984375 \nQ 41.3125 65.921875 37.59375 65.921875 \nQ 27.828125 65.921875 22.671875 59.328125 \nQ 17.53125 52.734375 16.796875 39.40625 \nQ 19.671875 43.65625 24.015625 45.921875 \nQ 28.375 48.1875 33.59375 48.1875 \nQ 44.578125 48.1875 50.953125 41.515625 \nQ 57.328125 34.859375 57.328125 23.390625 \nQ 57.328125 12.15625 50.6875 5.359375 \nQ 44.046875 -1.421875 33.015625 -1.421875 \nQ 20.359375 -1.421875 13.671875 8.265625 \nQ 6.984375 17.96875 6.984375 36.375 \nQ 6.984375 53.65625 15.1875 63.9375 \nQ 23.390625 74.21875 37.203125 74.21875 \nQ 40.921875 74.21875 44.703125 73.484375 \nQ 48.484375 72.75 52.59375 71.296875 \nz\n\" id=\"DejaVuSans-54\"/>\n      </defs>\n      <g transform=\"translate(146.301483 249.836875)scale(0.1 -0.1)\">\n       <use xlink:href=\"#DejaVuSans-54\"/>\n       <use x=\"63.623047\" xlink:href=\"#DejaVuSans-48\"/>\n       <use x=\"127.246094\" xlink:href=\"#DejaVuSans-48\"/>\n      </g>\n     </g>\n    </g>\n    <g id=\"xtick_5\">\n     <g id=\"line2d_5\">\n      <g>\n       <use style=\"stroke:#000000;stroke-width:0.8;\" x=\"195.86675\" xlink:href=\"#m9e33b5691c\" y=\"235.238437\"/>\n      </g>\n     </g>\n     <g id=\"text_5\">\n      <!-- 800 -->\n      <defs>\n       <path d=\"M 31.78125 34.625 \nQ 24.75 34.625 20.71875 30.859375 \nQ 16.703125 27.09375 16.703125 20.515625 \nQ 16.703125 13.921875 20.71875 10.15625 \nQ 24.75 6.390625 31.78125 6.390625 \nQ 38.8125 6.390625 42.859375 10.171875 \nQ 46.921875 13.96875 46.921875 20.515625 \nQ 46.921875 27.09375 42.890625 30.859375 \nQ 38.875 34.625 31.78125 34.625 \nz\nM 21.921875 38.8125 \nQ 15.578125 40.375 12.03125 44.71875 \nQ 8.5 49.078125 8.5 55.328125 \nQ 8.5 64.0625 14.71875 69.140625 \nQ 20.953125 74.21875 31.78125 74.21875 \nQ 42.671875 74.21875 48.875 69.140625 \nQ 55.078125 64.0625 55.078125 55.328125 \nQ 55.078125 49.078125 51.53125 44.71875 \nQ 48 40.375 41.703125 38.8125 \nQ 48.828125 37.15625 52.796875 32.3125 \nQ 56.78125 27.484375 56.78125 20.515625 \nQ 56.78125 9.90625 50.3125 4.234375 \nQ 43.84375 -1.421875 31.78125 -1.421875 \nQ 19.734375 -1.421875 13.25 4.234375 \nQ 6.78125 9.90625 6.78125 20.515625 \nQ 6.78125 27.484375 10.78125 32.3125 \nQ 14.796875 37.15625 21.921875 38.8125 \nz\nM 18.3125 54.390625 \nQ 18.3125 48.734375 21.84375 45.5625 \nQ 25.390625 42.390625 31.78125 42.390625 \nQ 38.140625 42.390625 41.71875 45.5625 \nQ 45.3125 48.734375 45.3125 54.390625 \nQ 45.3125 60.0625 41.71875 63.234375 \nQ 38.140625 66.40625 31.78125 66.40625 \nQ 25.390625 66.40625 21.84375 63.234375 \nQ 18.3125 60.0625 18.3125 54.390625 \nz\n\" id=\"DejaVuSans-56\"/>\n      </defs>\n      <g transform=\"translate(186.323 249.836875)scale(0.1 -0.1)\">\n       <use xlink:href=\"#DejaVuSans-56\"/>\n       <use x=\"63.623047\" xlink:href=\"#DejaVuSans-48\"/>\n       <use x=\"127.246094\" xlink:href=\"#DejaVuSans-48\"/>\n      </g>\n     </g>\n    </g>\n    <g id=\"xtick_6\">\n     <g id=\"line2d_6\">\n      <g>\n       <use style=\"stroke:#000000;stroke-width:0.8;\" x=\"235.888267\" xlink:href=\"#m9e33b5691c\" y=\"235.238437\"/>\n      </g>\n     </g>\n     <g id=\"text_6\">\n      <!-- 1000 -->\n      <defs>\n       <path d=\"M 12.40625 8.296875 \nL 28.515625 8.296875 \nL 28.515625 63.921875 \nL 10.984375 60.40625 \nL 10.984375 69.390625 \nL 28.421875 72.90625 \nL 38.28125 72.90625 \nL 38.28125 8.296875 \nL 54.390625 8.296875 \nL 54.390625 0 \nL 12.40625 0 \nz\n\" id=\"DejaVuSans-49\"/>\n      </defs>\n      <g transform=\"translate(223.163267 249.836875)scale(0.1 -0.1)\">\n       <use xlink:href=\"#DejaVuSans-49\"/>\n       <use x=\"63.623047\" xlink:href=\"#DejaVuSans-48\"/>\n       <use x=\"127.246094\" xlink:href=\"#DejaVuSans-48\"/>\n       <use x=\"190.869141\" xlink:href=\"#DejaVuSans-48\"/>\n      </g>\n     </g>\n    </g>\n    <g id=\"xtick_7\">\n     <g id=\"line2d_7\">\n      <g>\n       <use style=\"stroke:#000000;stroke-width:0.8;\" x=\"275.909783\" xlink:href=\"#m9e33b5691c\" y=\"235.238437\"/>\n      </g>\n     </g>\n     <g id=\"text_7\">\n      <!-- 1200 -->\n      <g transform=\"translate(263.184783 249.836875)scale(0.1 -0.1)\">\n       <use xlink:href=\"#DejaVuSans-49\"/>\n       <use x=\"63.623047\" xlink:href=\"#DejaVuSans-50\"/>\n       <use x=\"127.246094\" xlink:href=\"#DejaVuSans-48\"/>\n       <use x=\"190.869141\" xlink:href=\"#DejaVuSans-48\"/>\n      </g>\n     </g>\n    </g>\n    <g id=\"xtick_8\">\n     <g id=\"line2d_8\">\n      <g>\n       <use style=\"stroke:#000000;stroke-width:0.8;\" x=\"315.9313\" xlink:href=\"#m9e33b5691c\" y=\"235.238437\"/>\n      </g>\n     </g>\n     <g id=\"text_8\">\n      <!-- 1400 -->\n      <g transform=\"translate(303.2063 249.836875)scale(0.1 -0.1)\">\n       <use xlink:href=\"#DejaVuSans-49\"/>\n       <use x=\"63.623047\" xlink:href=\"#DejaVuSans-52\"/>\n       <use x=\"127.246094\" xlink:href=\"#DejaVuSans-48\"/>\n       <use x=\"190.869141\" xlink:href=\"#DejaVuSans-48\"/>\n      </g>\n     </g>\n    </g>\n   </g>\n   <g id=\"matplotlib.axis_2\">\n    <g id=\"ytick_1\">\n     <g id=\"line2d_9\">\n      <defs>\n       <path d=\"M 0 0 \nL -3.5 0 \n\" id=\"me949a8b64b\" style=\"stroke:#000000;stroke-width:0.8;\"/>\n      </defs>\n      <g>\n       <use style=\"stroke:#000000;stroke-width:0.8;\" x=\"20.5625\" xlink:href=\"#me949a8b64b\" y=\"225.354801\"/>\n      </g>\n     </g>\n     <g id=\"text_9\">\n      <!-- 0 -->\n      <g transform=\"translate(7.2 229.15402)scale(0.1 -0.1)\">\n       <use xlink:href=\"#DejaVuSans-48\"/>\n      </g>\n     </g>\n    </g>\n    <g id=\"ytick_2\">\n     <g id=\"line2d_10\">\n      <g>\n       <use style=\"stroke:#000000;stroke-width:0.8;\" x=\"20.5625\" xlink:href=\"#me949a8b64b\" y=\"177.141941\"/>\n      </g>\n     </g>\n     <g id=\"text_10\">\n      <!-- 2 -->\n      <g transform=\"translate(7.2 180.94116)scale(0.1 -0.1)\">\n       <use xlink:href=\"#DejaVuSans-50\"/>\n      </g>\n     </g>\n    </g>\n    <g id=\"ytick_3\">\n     <g id=\"line2d_11\">\n      <g>\n       <use style=\"stroke:#000000;stroke-width:0.8;\" x=\"20.5625\" xlink:href=\"#me949a8b64b\" y=\"128.929081\"/>\n      </g>\n     </g>\n     <g id=\"text_11\">\n      <!-- 4 -->\n      <g transform=\"translate(7.2 132.728299)scale(0.1 -0.1)\">\n       <use xlink:href=\"#DejaVuSans-52\"/>\n      </g>\n     </g>\n    </g>\n    <g id=\"ytick_4\">\n     <g id=\"line2d_12\">\n      <g>\n       <use style=\"stroke:#000000;stroke-width:0.8;\" x=\"20.5625\" xlink:href=\"#me949a8b64b\" y=\"80.71622\"/>\n      </g>\n     </g>\n     <g id=\"text_12\">\n      <!-- 6 -->\n      <g transform=\"translate(7.2 84.515439)scale(0.1 -0.1)\">\n       <use xlink:href=\"#DejaVuSans-54\"/>\n      </g>\n     </g>\n    </g>\n    <g id=\"ytick_5\">\n     <g id=\"line2d_13\">\n      <g>\n       <use style=\"stroke:#000000;stroke-width:0.8;\" x=\"20.5625\" xlink:href=\"#me949a8b64b\" y=\"32.50336\"/>\n      </g>\n     </g>\n     <g id=\"text_13\">\n      <!-- 8 -->\n      <g transform=\"translate(7.2 36.302579)scale(0.1 -0.1)\">\n       <use xlink:href=\"#DejaVuSans-56\"/>\n      </g>\n     </g>\n    </g>\n    <g id=\"text_14\">\n     <!-- 1e7 -->\n     <defs>\n      <path d=\"M 56.203125 29.59375 \nL 56.203125 25.203125 \nL 14.890625 25.203125 \nQ 15.484375 15.921875 20.484375 11.0625 \nQ 25.484375 6.203125 34.421875 6.203125 \nQ 39.59375 6.203125 44.453125 7.46875 \nQ 49.3125 8.734375 54.109375 11.28125 \nL 54.109375 2.78125 \nQ 49.265625 0.734375 44.1875 -0.34375 \nQ 39.109375 -1.421875 33.890625 -1.421875 \nQ 20.796875 -1.421875 13.15625 6.1875 \nQ 5.515625 13.8125 5.515625 26.8125 \nQ 5.515625 40.234375 12.765625 48.109375 \nQ 20.015625 56 32.328125 56 \nQ 43.359375 56 49.78125 48.890625 \nQ 56.203125 41.796875 56.203125 29.59375 \nz\nM 47.21875 32.234375 \nQ 47.125 39.59375 43.09375 43.984375 \nQ 39.0625 48.390625 32.421875 48.390625 \nQ 24.90625 48.390625 20.390625 44.140625 \nQ 15.875 39.890625 15.1875 32.171875 \nz\n\" id=\"DejaVuSans-101\"/>\n      <path d=\"M 8.203125 72.90625 \nL 55.078125 72.90625 \nL 55.078125 68.703125 \nL 28.609375 0 \nL 18.3125 0 \nL 43.21875 64.59375 \nL 8.203125 64.59375 \nz\n\" id=\"DejaVuSans-55\"/>\n     </defs>\n     <g transform=\"translate(20.5625 14.798437)scale(0.1 -0.1)\">\n      <use xlink:href=\"#DejaVuSans-49\"/>\n      <use x=\"63.623047\" xlink:href=\"#DejaVuSans-101\"/>\n      <use x=\"125.146484\" xlink:href=\"#DejaVuSans-55\"/>\n     </g>\n    </g>\n   </g>\n   <g id=\"line2d_14\">\n    <path clip-path=\"url(#p92efa6ec3d)\" d=\"M 35.780682 217.640743 \nL 35.980789 210.649879 \nL 36.180897 225.354801 \nL 36.581112 225.354801 \nL 36.78122 210.16775 \nL 36.981327 220.654047 \nL 37.181435 191.605799 \nL 37.381542 222.522296 \nL 37.58165 223.251515 \nL 37.781758 221.618304 \nL 37.981865 205.346464 \nL 38.181973 225.354801 \nL 38.38208 200.404646 \nL 38.582188 224.418534 \nL 38.782296 213.301586 \nL 38.982403 225.354801 \nL 39.182511 225.354801 \nL 39.382618 183.771209 \nL 39.582726 225.307854 \nL 39.782834 225.307854 \nL 39.982941 219.126563 \nL 40.183049 225.354801 \nL 40.383156 212.819457 \nL 40.783371 202.212628 \nL 40.983479 212.698925 \nL 41.183587 197.632406 \nL 41.383694 225.348775 \nL 41.583802 225.348775 \nL 41.783909 225.108715 \nL 41.984017 225.354801 \nL 42.184125 219.126563 \nL 42.384232 225.354801 \nL 42.58434 223.004424 \nL 42.784447 27.682074 \nL 42.984555 195.405274 \nL 43.184662 195.038253 \nL 43.38477 225.354801 \nL 44.385308 225.354801 \nL 44.585416 223.016477 \nL 44.985631 224.004841 \nL 45.185738 223.147616 \nL 45.385846 223.691457 \nL 45.585953 223.185222 \nL 45.786061 224.392955 \nL 46.186276 223.426287 \nL 46.386384 224.643661 \nL 46.586491 224.198898 \nL 46.786599 225.078214 \nL 46.986707 223.910826 \nL 47.186814 220.352717 \nL 47.386922 224.243495 \nL 47.587029 223.766187 \nL 47.787137 223.669762 \nL 47.987244 222.956211 \nL 48.187352 224.368848 \nL 48.38746 223.727617 \nL 48.587567 225.354801 \nL 48.787675 224.499023 \nL 48.987782 224.511076 \nL 49.18789 224.737677 \nL 49.387998 224.150685 \nL 49.588105 224.438757 \nL 49.788213 224.462863 \nL 50.188428 223.40218 \nL 50.588643 224.332688 \nL 50.788751 224.33992 \nL 51.188966 223.679404 \nL 51.389073 222.582562 \nL 51.789289 225.354801 \nL 52.189504 222.703094 \nL 52.389611 222.76336 \nL 52.589719 224.511076 \nL 52.989934 223.366021 \nL 53.190042 225.354801 \nL 53.390149 224.257959 \nL 53.590257 224.667768 \nL 53.790364 224.45081 \nL 54.19058 223.088797 \nL 54.390687 225.27949 \nL 54.590795 222.46444 \nL 54.99101 223.944575 \nL 55.191118 223.81199 \nL 55.391225 222.343908 \nL 55.591333 225.354801 \nL 55.79144 225.354801 \nL 55.991548 223.312987 \nL 56.191655 222.715147 \nL 56.391763 223.643245 \nL 56.591871 225.354801 \nL 56.791978 222.905074 \nL 56.992086 225.354801 \nL 57.992624 225.354801 \nL 58.592946 222.944161 \nL 58.793054 225.274867 \nL 58.993162 222.100433 \nL 59.193269 222.293285 \nL 59.393377 223.703511 \nL 59.793592 221.883475 \nL 59.9937 225.354801 \nL 60.393915 221.620715 \nL 60.594022 225.354801 \nL 60.79413 223.540792 \nL 60.994237 225.354801 \nL 61.194345 225.354801 \nL 61.394453 220.159865 \nL 61.59456 218.122872 \nL 61.794668 221.738837 \nL 61.994775 222.305338 \nL 62.194883 225.354801 \nL 62.394991 224.728034 \nL 62.595098 186.181852 \nL 62.995313 225.354801 \nL 307.726889 207.516043 \nL 308.727427 225.354801 \nL 309.527858 225.354801 \nL 313.329902 195.533219 \nL 313.530009 195.533219 \nL 314.730655 223.81199 \nL 314.930763 223.607085 \nL 315.13087 224.139837 \nL 315.330978 223.323834 \nL 320.533775 221.736426 \nL 320.733882 223.882019 \nL 320.93399 223.257542 \nL 321.134098 223.308165 \nL 322.734958 222.945363 \nL 322.935066 225.354801 \nL 323.135173 221.256708 \nL 323.335281 221.979901 \nL 323.535389 217.095659 \nL 323.735496 219.867365 \nL 323.935604 211.388714 \nL 324.135711 221.015644 \nL 324.335819 220.567083 \nL 324.736034 223.695073 \nL 324.936142 223.727617 \nL 325.136249 222.946569 \nL 325.336357 222.79952 \nL 325.536464 225.354801 \nL 325.736572 223.246694 \nL 325.93668 223.209329 \nL 326.136787 222.498189 \nL 334.141091 225.354801 \nL 334.941521 225.354801 \nL 335.141629 221.991954 \nL 335.341736 223.366021 \nL 339.543995 148.877151 \nL 339.944211 225.207578 \nL 340.144318 224.743703 \nL 340.144318 224.743703 \n\" style=\"fill:none;stroke:#1f77b4;stroke-linecap:square;stroke-width:1.5;\"/>\n   </g>\n   <g id=\"patch_3\">\n    <path d=\"M 20.5625 235.238437 \nL 20.5625 17.798437 \n\" style=\"fill:none;stroke:#000000;stroke-linecap:square;stroke-linejoin:miter;stroke-width:0.8;\"/>\n   </g>\n   <g id=\"patch_4\">\n    <path d=\"M 355.3625 235.238437 \nL 355.3625 17.798437 \n\" style=\"fill:none;stroke:#000000;stroke-linecap:square;stroke-linejoin:miter;stroke-width:0.8;\"/>\n   </g>\n   <g id=\"patch_5\">\n    <path d=\"M 20.5625 235.238437 \nL 355.3625 235.238437 \n\" style=\"fill:none;stroke:#000000;stroke-linecap:square;stroke-linejoin:miter;stroke-width:0.8;\"/>\n   </g>\n   <g id=\"patch_6\">\n    <path d=\"M 20.5625 17.798437 \nL 355.3625 17.798437 \n\" style=\"fill:none;stroke:#000000;stroke-linecap:square;stroke-linejoin:miter;stroke-width:0.8;\"/>\n   </g>\n   <g id=\"legend_1\">\n    <g id=\"patch_7\">\n     <path d=\"M 258.6875 40.476562 \nL 348.3625 40.476562 \nQ 350.3625 40.476562 350.3625 38.476562 \nL 350.3625 24.798437 \nQ 350.3625 22.798437 348.3625 22.798437 \nL 258.6875 22.798437 \nQ 256.6875 22.798437 256.6875 24.798437 \nL 256.6875 38.476562 \nQ 256.6875 40.476562 258.6875 40.476562 \nz\n\" style=\"fill:#ffffff;opacity:0.8;stroke:#cccccc;stroke-linejoin:miter;\"/>\n    </g>\n    <g id=\"line2d_15\">\n     <path d=\"M 260.6875 30.896875 \nL 280.6875 30.896875 \n\" style=\"fill:none;stroke:#1f77b4;stroke-linecap:square;stroke-width:1.5;\"/>\n    </g>\n    <g id=\"line2d_16\"/>\n    <g id=\"text_15\">\n     <!-- SALE PRICE -->\n     <defs>\n      <path d=\"M 53.515625 70.515625 \nL 53.515625 60.890625 \nQ 47.90625 63.578125 42.921875 64.890625 \nQ 37.9375 66.21875 33.296875 66.21875 \nQ 25.25 66.21875 20.875 63.09375 \nQ 16.5 59.96875 16.5 54.203125 \nQ 16.5 49.359375 19.40625 46.890625 \nQ 22.3125 44.4375 30.421875 42.921875 \nL 36.375 41.703125 \nQ 47.40625 39.59375 52.65625 34.296875 \nQ 57.90625 29 57.90625 20.125 \nQ 57.90625 9.515625 50.796875 4.046875 \nQ 43.703125 -1.421875 29.984375 -1.421875 \nQ 24.8125 -1.421875 18.96875 -0.25 \nQ 13.140625 0.921875 6.890625 3.21875 \nL 6.890625 13.375 \nQ 12.890625 10.015625 18.65625 8.296875 \nQ 24.421875 6.59375 29.984375 6.59375 \nQ 38.421875 6.59375 43.015625 9.90625 \nQ 47.609375 13.234375 47.609375 19.390625 \nQ 47.609375 24.75 44.3125 27.78125 \nQ 41.015625 30.8125 33.5 32.328125 \nL 27.484375 33.5 \nQ 16.453125 35.6875 11.515625 40.375 \nQ 6.59375 45.0625 6.59375 53.421875 \nQ 6.59375 63.09375 13.40625 68.65625 \nQ 20.21875 74.21875 32.171875 74.21875 \nQ 37.3125 74.21875 42.625 73.28125 \nQ 47.953125 72.359375 53.515625 70.515625 \nz\n\" id=\"DejaVuSans-83\"/>\n      <path d=\"M 34.1875 63.1875 \nL 20.796875 26.90625 \nL 47.609375 26.90625 \nz\nM 28.609375 72.90625 \nL 39.796875 72.90625 \nL 67.578125 0 \nL 57.328125 0 \nL 50.6875 18.703125 \nL 17.828125 18.703125 \nL 11.1875 0 \nL 0.78125 0 \nz\n\" id=\"DejaVuSans-65\"/>\n      <path d=\"M 9.8125 72.90625 \nL 19.671875 72.90625 \nL 19.671875 8.296875 \nL 55.171875 8.296875 \nL 55.171875 0 \nL 9.8125 0 \nz\n\" id=\"DejaVuSans-76\"/>\n      <path d=\"M 9.8125 72.90625 \nL 55.90625 72.90625 \nL 55.90625 64.59375 \nL 19.671875 64.59375 \nL 19.671875 43.015625 \nL 54.390625 43.015625 \nL 54.390625 34.71875 \nL 19.671875 34.71875 \nL 19.671875 8.296875 \nL 56.78125 8.296875 \nL 56.78125 0 \nL 9.8125 0 \nz\n\" id=\"DejaVuSans-69\"/>\n      <path id=\"DejaVuSans-32\"/>\n      <path d=\"M 19.671875 64.796875 \nL 19.671875 37.40625 \nL 32.078125 37.40625 \nQ 38.96875 37.40625 42.71875 40.96875 \nQ 46.484375 44.53125 46.484375 51.125 \nQ 46.484375 57.671875 42.71875 61.234375 \nQ 38.96875 64.796875 32.078125 64.796875 \nz\nM 9.8125 72.90625 \nL 32.078125 72.90625 \nQ 44.34375 72.90625 50.609375 67.359375 \nQ 56.890625 61.8125 56.890625 51.125 \nQ 56.890625 40.328125 50.609375 34.8125 \nQ 44.34375 29.296875 32.078125 29.296875 \nL 19.671875 29.296875 \nL 19.671875 0 \nL 9.8125 0 \nz\n\" id=\"DejaVuSans-80\"/>\n      <path d=\"M 44.390625 34.1875 \nQ 47.5625 33.109375 50.5625 29.59375 \nQ 53.5625 26.078125 56.59375 19.921875 \nL 66.609375 0 \nL 56 0 \nL 46.6875 18.703125 \nQ 43.0625 26.03125 39.671875 28.421875 \nQ 36.28125 30.8125 30.421875 30.8125 \nL 19.671875 30.8125 \nL 19.671875 0 \nL 9.8125 0 \nL 9.8125 72.90625 \nL 32.078125 72.90625 \nQ 44.578125 72.90625 50.734375 67.671875 \nQ 56.890625 62.453125 56.890625 51.90625 \nQ 56.890625 45.015625 53.6875 40.46875 \nQ 50.484375 35.9375 44.390625 34.1875 \nz\nM 19.671875 64.796875 \nL 19.671875 38.921875 \nL 32.078125 38.921875 \nQ 39.203125 38.921875 42.84375 42.21875 \nQ 46.484375 45.515625 46.484375 51.90625 \nQ 46.484375 58.296875 42.84375 61.546875 \nQ 39.203125 64.796875 32.078125 64.796875 \nz\n\" id=\"DejaVuSans-82\"/>\n      <path d=\"M 9.8125 72.90625 \nL 19.671875 72.90625 \nL 19.671875 0 \nL 9.8125 0 \nz\n\" id=\"DejaVuSans-73\"/>\n      <path d=\"M 64.40625 67.28125 \nL 64.40625 56.890625 \nQ 59.421875 61.53125 53.78125 63.8125 \nQ 48.140625 66.109375 41.796875 66.109375 \nQ 29.296875 66.109375 22.65625 58.46875 \nQ 16.015625 50.828125 16.015625 36.375 \nQ 16.015625 21.96875 22.65625 14.328125 \nQ 29.296875 6.6875 41.796875 6.6875 \nQ 48.140625 6.6875 53.78125 8.984375 \nQ 59.421875 11.28125 64.40625 15.921875 \nL 64.40625 5.609375 \nQ 59.234375 2.09375 53.4375 0.328125 \nQ 47.65625 -1.421875 41.21875 -1.421875 \nQ 24.65625 -1.421875 15.125 8.703125 \nQ 5.609375 18.84375 5.609375 36.375 \nQ 5.609375 53.953125 15.125 64.078125 \nQ 24.65625 74.21875 41.21875 74.21875 \nQ 47.75 74.21875 53.53125 72.484375 \nQ 59.328125 70.75 64.40625 67.28125 \nz\n\" id=\"DejaVuSans-67\"/>\n     </defs>\n     <g transform=\"translate(288.6875 34.396875)scale(0.1 -0.1)\">\n      <use xlink:href=\"#DejaVuSans-83\"/>\n      <use x=\"65.351562\" xlink:href=\"#DejaVuSans-65\"/>\n      <use x=\"133.759766\" xlink:href=\"#DejaVuSans-76\"/>\n      <use x=\"189.472656\" xlink:href=\"#DejaVuSans-69\"/>\n      <use x=\"252.65625\" xlink:href=\"#DejaVuSans-32\"/>\n      <use x=\"284.443359\" xlink:href=\"#DejaVuSans-80\"/>\n      <use x=\"344.746094\" xlink:href=\"#DejaVuSans-82\"/>\n      <use x=\"414.228516\" xlink:href=\"#DejaVuSans-73\"/>\n      <use x=\"443.720703\" xlink:href=\"#DejaVuSans-67\"/>\n      <use x=\"513.544922\" xlink:href=\"#DejaVuSans-69\"/>\n     </g>\n    </g>\n   </g>\n  </g>\n </g>\n <defs>\n  <clipPath id=\"p92efa6ec3d\">\n   <rect height=\"217.44\" width=\"334.8\" x=\"20.5625\" y=\"17.798437\"/>\n  </clipPath>\n </defs>\n</svg>\n",
      "image/png": "[encoded data removed]"
     },
     "metadata": {
      "needs_background": "light"
     }
    }
   ],
   "source": [
    "new_df = df[df['ZIP CODE']== 10009.0] #same building\n",
    "new_df = new_df[['LAND SQUARE FEET','SALE PRICE']]\n",
    "plt.figure(); new_df.plot(); plt.legend(loc='best')\n",
    "# df['ZIP CODE']"
   ]
  },
  {
   "cell_type": "code",
   "execution_count": 149,
   "metadata": {},
   "outputs": [
    {
     "output_type": "execute_result",
     "data": {
      "text/plain": [
       "           BOROUGH  NEIGHBORHOOD  BUILDING CLASS CATEGORY  \\\n",
       "SALE DATE                                                   \n",
       "1             5783          5783                     5783   \n",
       "2             1215          1215                     1215   \n",
       "3             1327          1327                     1327   \n",
       "4             1463          1463                     1463   \n",
       "5             1667          1667                     1667   \n",
       "6             2059          2059                     2059   \n",
       "7             1343          1343                     1343   \n",
       "8              943           943                      943   \n",
       "9             1359          1359                     1359   \n",
       "\n",
       "           TAX CLASS AT PRESENT  BLOCK   LOT  BUILDING CLASS AT PRESENT  \\\n",
       "SALE DATE                                                                 \n",
       "1                          5783   5783  5783                       5783   \n",
       "2                          1215   1215  1215                       1215   \n",
       "3                          1327   1327  1327                       1327   \n",
       "4                          1463   1463  1463                       1463   \n",
       "5                          1663   1667  1667                       1663   \n",
       "6                          2029   2059  2059                       2029   \n",
       "7                          1336   1343  1343                       1336   \n",
       "8                           913    943   943                        913   \n",
       "9                          1359   1359  1359                       1359   \n",
       "\n",
       "           ZIP CODE  RESIDENTIAL UNITS  COMMERCIAL UNITS  TOTAL UNITS  \\\n",
       "SALE DATE                                                               \n",
       "1              5783                695               695          695   \n",
       "2              1215                110               110          110   \n",
       "3              1327                113               113          113   \n",
       "4              1463                171               171          171   \n",
       "5              1663                160               160          160   \n",
       "6              2029                231               231          231   \n",
       "7              1336                117               117          117   \n",
       "8               913                 63                63           63   \n",
       "9              1359                123               123          123   \n",
       "\n",
       "           LAND SQUARE FEET  GROSS SQUARE FEET  YEAR BUILT  \\\n",
       "SALE DATE                                                    \n",
       "1                       744               3385        5783   \n",
       "2                       118                694        1215   \n",
       "3                       118                789        1327   \n",
       "4                       184                912        1463   \n",
       "5                       162               1014        1663   \n",
       "6                       238               1313        2029   \n",
       "7                       131                687        1336   \n",
       "8                        70                452         913   \n",
       "9                       138                766        1359   \n",
       "\n",
       "           TAX CLASS AT TIME OF SALE  BUILDING CLASS AT TIME OF SALE  \\\n",
       "SALE DATE                                                              \n",
       "1                               5783                            5783   \n",
       "2                               1215                            1215   \n",
       "3                               1327                            1327   \n",
       "4                               1463                            1463   \n",
       "5                               1667                            1667   \n",
       "6                               2059                            2059   \n",
       "7                               1343                            1343   \n",
       "8                                943                             943   \n",
       "9                               1359                            1359   \n",
       "\n",
       "           SALE PRICE  \n",
       "SALE DATE              \n",
       "1                5783  \n",
       "2                1215  \n",
       "3                1327  \n",
       "4                1463  \n",
       "5                1667  \n",
       "6                2059  \n",
       "7                1343  \n",
       "8                 943  \n",
       "9                1359  "
      ],
      "text/html": "<div>\n<style scoped>\n    .dataframe tbody tr th:only-of-type {\n        vertical-align: middle;\n    }\n\n    .dataframe tbody tr th {\n        vertical-align: top;\n    }\n\n    .dataframe thead th {\n        text-align: right;\n    }\n</style>\n<table border=\"1\" class=\"dataframe\">\n  <thead>\n    <tr style=\"text-align: right;\">\n      <th></th>\n      <th>BOROUGH</th>\n      <th>NEIGHBORHOOD</th>\n      <th>BUILDING CLASS CATEGORY</th>\n      <th>TAX CLASS AT PRESENT</th>\n      <th>BLOCK</th>\n      <th>LOT</th>\n      <th>BUILDING CLASS AT PRESENT</th>\n      <th>ZIP CODE</th>\n      <th>RESIDENTIAL UNITS</th>\n      <th>COMMERCIAL UNITS</th>\n      <th>TOTAL UNITS</th>\n      <th>LAND SQUARE FEET</th>\n      <th>GROSS SQUARE FEET</th>\n      <th>YEAR BUILT</th>\n      <th>TAX CLASS AT TIME OF SALE</th>\n      <th>BUILDING CLASS AT TIME OF SALE</th>\n      <th>SALE PRICE</th>\n    </tr>\n    <tr>\n      <th>SALE DATE</th>\n      <th></th>\n      <th></th>\n      <th></th>\n      <th></th>\n      <th></th>\n      <th></th>\n      <th></th>\n      <th></th>\n      <th></th>\n      <th></th>\n      <th></th>\n      <th></th>\n      <th></th>\n      <th></th>\n      <th></th>\n      <th></th>\n      <th></th>\n    </tr>\n  </thead>\n  <tbody>\n    <tr>\n      <th>1</th>\n      <td>5783</td>\n      <td>5783</td>\n      <td>5783</td>\n      <td>5783</td>\n      <td>5783</td>\n      <td>5783</td>\n      <td>5783</td>\n      <td>5783</td>\n      <td>695</td>\n      <td>695</td>\n      <td>695</td>\n      <td>744</td>\n      <td>3385</td>\n      <td>5783</td>\n      <td>5783</td>\n      <td>5783</td>\n      <td>5783</td>\n    </tr>\n    <tr>\n      <th>2</th>\n      <td>1215</td>\n      <td>1215</td>\n      <td>1215</td>\n      <td>1215</td>\n      <td>1215</td>\n      <td>1215</td>\n      <td>1215</td>\n      <td>1215</td>\n      <td>110</td>\n      <td>110</td>\n      <td>110</td>\n      <td>118</td>\n      <td>694</td>\n      <td>1215</td>\n      <td>1215</td>\n      <td>1215</td>\n      <td>1215</td>\n    </tr>\n    <tr>\n      <th>3</th>\n      <td>1327</td>\n      <td>1327</td>\n      <td>1327</td>\n      <td>1327</td>\n      <td>1327</td>\n      <td>1327</td>\n      <td>1327</td>\n      <td>1327</td>\n      <td>113</td>\n      <td>113</td>\n      <td>113</td>\n      <td>118</td>\n      <td>789</td>\n      <td>1327</td>\n      <td>1327</td>\n      <td>1327</td>\n      <td>1327</td>\n    </tr>\n    <tr>\n      <th>4</th>\n      <td>1463</td>\n      <td>1463</td>\n      <td>1463</td>\n      <td>1463</td>\n      <td>1463</td>\n      <td>1463</td>\n      <td>1463</td>\n      <td>1463</td>\n      <td>171</td>\n      <td>171</td>\n      <td>171</td>\n      <td>184</td>\n      <td>912</td>\n      <td>1463</td>\n      <td>1463</td>\n      <td>1463</td>\n      <td>1463</td>\n    </tr>\n    <tr>\n      <th>5</th>\n      <td>1667</td>\n      <td>1667</td>\n      <td>1667</td>\n      <td>1663</td>\n      <td>1667</td>\n      <td>1667</td>\n      <td>1663</td>\n      <td>1663</td>\n      <td>160</td>\n      <td>160</td>\n      <td>160</td>\n      <td>162</td>\n      <td>1014</td>\n      <td>1663</td>\n      <td>1667</td>\n      <td>1667</td>\n      <td>1667</td>\n    </tr>\n    <tr>\n      <th>6</th>\n      <td>2059</td>\n      <td>2059</td>\n      <td>2059</td>\n      <td>2029</td>\n      <td>2059</td>\n      <td>2059</td>\n      <td>2029</td>\n      <td>2029</td>\n      <td>231</td>\n      <td>231</td>\n      <td>231</td>\n      <td>238</td>\n      <td>1313</td>\n      <td>2029</td>\n      <td>2059</td>\n      <td>2059</td>\n      <td>2059</td>\n    </tr>\n    <tr>\n      <th>7</th>\n      <td>1343</td>\n      <td>1343</td>\n      <td>1343</td>\n      <td>1336</td>\n      <td>1343</td>\n      <td>1343</td>\n      <td>1336</td>\n      <td>1336</td>\n      <td>117</td>\n      <td>117</td>\n      <td>117</td>\n      <td>131</td>\n      <td>687</td>\n      <td>1336</td>\n      <td>1343</td>\n      <td>1343</td>\n      <td>1343</td>\n    </tr>\n    <tr>\n      <th>8</th>\n      <td>943</td>\n      <td>943</td>\n      <td>943</td>\n      <td>913</td>\n      <td>943</td>\n      <td>943</td>\n      <td>913</td>\n      <td>913</td>\n      <td>63</td>\n      <td>63</td>\n      <td>63</td>\n      <td>70</td>\n      <td>452</td>\n      <td>913</td>\n      <td>943</td>\n      <td>943</td>\n      <td>943</td>\n    </tr>\n    <tr>\n      <th>9</th>\n      <td>1359</td>\n      <td>1359</td>\n      <td>1359</td>\n      <td>1359</td>\n      <td>1359</td>\n      <td>1359</td>\n      <td>1359</td>\n      <td>1359</td>\n      <td>123</td>\n      <td>123</td>\n      <td>123</td>\n      <td>138</td>\n      <td>766</td>\n      <td>1359</td>\n      <td>1359</td>\n      <td>1359</td>\n      <td>1359</td>\n    </tr>\n  </tbody>\n</table>\n</div>"
     },
     "metadata": {},
     "execution_count": 149
    }
   ],
   "source": [
    "df['SALE DATE'] = df['SALE DATE'].str.slice(stop=1)\n",
    "df.groupby(['SALE DATE']).count()\n",
    "#therefore August had the least sales\n",
    "#it maybe because of the summer season so that it is not very easy to sell. Winter season is easier to sell houses"
   ]
  },
  {
   "cell_type": "code",
   "execution_count": null,
   "metadata": {},
   "outputs": [],
   "source": []
  }
 ],
 "metadata": {
  "kernelspec": {
   "display_name": "Python 3",
   "language": "python",
   "name": "python3"
  },
  "language_info": {
   "codemirror_mode": {
    "name": "ipython",
    "version": 3
   },
   "file_extension": ".py",
   "mimetype": "text/x-python",
   "name": "python",
   "nbconvert_exporter": "python",
   "pygments_lexer": "ipython3",
   "version": "3.8.3-final"
  }
 },
 "nbformat": 4,
 "nbformat_minor": 4
}