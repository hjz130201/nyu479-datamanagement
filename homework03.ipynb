{
 "cells": [
  {
   "cell_type": "markdown",
   "id": "catholic-river",
   "metadata": {},
   "source": [
    "# Homework 03"
   ]
  },
  {
   "cell_type": "markdown",
   "id": "continuous-portable",
   "metadata": {},
   "source": [
    "\n",
    "## Part 1 - Questions\n",
    "\n",
    "### Question 1: \n",
    "\n",
    "what is the ratio of hate crimes like regarding of anti-homosexual purpose in NYC last year?\n",
    "\n",
    "* Who (population): hate crime suspects\n",
    "* What (subject, discipline): anti-homosexual purpose\n",
    "* Where (location): nyc\n",
    "* When (snapshot, longitudinal): 2020\n",
    "* How much data do you need to do the analysis/work: n/a\n",
    "\n",
    "### Question N: \n",
    "\n",
    "what kind of felony last year in nyc hate crimes is regarding of anti-racial matters last year?\n",
    "\n",
    "* Who (population): hate crime criminals\n",
    "* What (subject, discipline): anti-racial felonies\n",
    "* Where (location): nyc\n",
    "* When (snapshot, longitudinal): 2020\n",
    "* How much data do you need to do the analysis/work: n/a\n",
    "\n",
    "### Who Might Collect Relevant Data / What Articles or Publications Cite a Relevant Data Set?\n",
    "NYPD; News and the media press; LGBTQ groups; Black community; Asian community; Jewish community and etc.\n"
   ]
  },
  {
   "cell_type": "markdown",
   "id": "north-convert",
   "metadata": {},
   "source": [
    "## Part 2 - Selecting a Data Set, Adding Documentation\n",
    "\n",
    "\n",
    "\n",
    "1. Name / Title: NYPD Hate Crimes\n",
    "2. Link to Data: https://data.cityofnewyork.us/Public-Safety/NYPD-Hate-Crimes/bqiq-cu78 \n",
    "3. Source / Origin: \n",
    "\t* Author or Creator: Police Department (NYPD)\n",
    "\t* Publication Date: October 29, 2020\n",
    "\t* Publisher: NYC OpenData\n",
    "\t* Version or Data Accessed: February 22, 2021\n",
    "4. License: https://opendata.cityofnewyork.us/overview/ \n",
    "https://www1.nyc.gov/home/terms-of-use.page \n",
    "5. Can You Use this Data Set for Your Intended Use Case? Yes, it can. This dataset is very informative and I can use it to answer my questions previously made. "
   ]
  },
  {
   "cell_type": "markdown",
   "id": "charitable-wallet",
   "metadata": {},
   "source": [
    "## Format\n",
    "\n"
   ]
  },
  {
   "cell_type": "markdown",
   "id": "nuclear-breakfast",
   "metadata": {},
   "source": [
    "\n",
    "### Overview\n",
    "\n",
    "* Format: format is .csv file (TODO add what file format the data is in)\n",
    "* Size: 131KB (TODO how large is the file in KB, MB, GB, etc. ... use finder, windows explorer for this)\n",
    "* Number of Records: 728 rows, 15 columns \n",
    "\n"
   ]
  },
  {
   "cell_type": "markdown",
   "id": "special-textbook",
   "metadata": {},
   "source": [
    "### Sample of Data\n",
    "\n",
    "\n"
   ]
  },
  {
   "source": [
    "\n",
    "### Fields or Column Headers\n",
    "\n",
    "* Field/Column 1: Arrest Date           type: str  (TODO add field name and potential type using Python types)\n",
    "* Field/Column 2: Month Number          type: int  (TODO same as above)\n",
    "* Field/Column N: Offense Description   type: str  (TODO same as above)"
   ],
   "cell_type": "code",
   "metadata": {},
   "execution_count": 332,
   "outputs": [
    {
     "output_type": "error",
     "ename": "SyntaxError",
     "evalue": "invalid syntax (<ipython-input-332-145f30f3906e>, line 3)",
     "traceback": [
      "\u001b[0;36m  File \u001b[0;32m\"<ipython-input-332-145f30f3906e>\"\u001b[0;36m, line \u001b[0;32m3\u001b[0m\n\u001b[0;31m    * Field/Column 1: Arrest Date           type: str  (TODO add field name and potential type using Python types)\u001b[0m\n\u001b[0m                   ^\u001b[0m\n\u001b[0;31mSyntaxError\u001b[0m\u001b[0;31m:\u001b[0m invalid syntax\n"
     ]
    }
   ]
  },
  {
   "cell_type": "code",
   "execution_count": 333,
   "id": "willing-celtic",
   "metadata": {
    "tags": []
   },
   "outputs": [
    {
     "output_type": "stream",
     "name": "stdout",
     "text": [
      "['Full Complaint ID', 'Complaint Year Number', 'Month Number', 'Record Create Date', 'Complaint Precinct Code', 'Patrol Borough Name', 'County', 'Law Code Category Description', 'Offense Description', 'PD Code Description', 'Bias Motive Description', 'Offense Category', 'Other Motive Description', 'Arrest Date', 'Arrest Id\\n']\n202009000001199,2020,1,01/01/2020,90,PATROL BORO BKLYN NORTH,KINGS,FELONY,FELONY ASSAULT,\"ASSAULT 2,1,UNCLASSIFIED\",ANTI-JEWISH,Religion/Religious Practice,,01/01/2020,K20600175\n\n202007900074999,2020,1,01/29/2020,79,PATROL BORO BKLYN NORTH,KINGS,FELONY,FELONY ASSAULT,\"ASSAULT 2,1,UNCLASSIFIED\",OTHER,Other,ASIAN & SEX ORIENTATION,01/29/2020,K20604390\n\n202000500020499,2020,1,01/14/2020,5,PATROL BORO MAN SOUTH,NEW YORK,FELONY,MISCELLANEOUS PENAL LAW,AGGRAVATED HARASSMENT 1,ANTI-JEWISH,Religion/Religious Practice,,01/14/2020,M20601699\n\n202002000038899,2020,1,01/30/2020,20,PATROL BORO MAN NORTH,NEW YORK,FELONY,MISCELLANEOUS PENAL LAW,AGGRAVATED HARASSMENT 1,ANTI-JEWISH,Religion/Religious Practice,,,\n\n202002600021299,2020,1,01/20/2020,26,PATROL BORO MAN NORTH,NEW YORK,FELONY,MISCELLANEOUS PENAL LAW,AGGRAVATED HARASSMENT 1,ANTI-BLACK,Race/Color,,,\n\n202003400019899,2020,1,01/11/2020,34,PATROL BORO MAN NORTH,NEW YORK,FELONY,MISCELLANEOUS PENAL LAW,AGGRAVATED HARASSMENT 1,ANTI-CATHOLIC,Religion/Religious Practice,,,\n\n202007100063299,2020,1,02/04/2020,71,PATROL BORO BKLYN SOUTH,KINGS,FELONY,MISCELLANEOUS PENAL LAW,AGGRAVATED HARASSMENT 1,ANTI-MALE HOMOSEXUAL(GAY),Sexual Orientation,,,\n\n202007900074999,2020,1,01/29/2020,79,PATROL BORO BKLYN NORTH,KINGS,FELONY,FELONY ASSAULT,\"ASSAULT 2,1,UNCLASSIFIED\",OTHER,Other,ASIAN & SEX ORIENTATION,,\n\n202008800022199,2020,1,01/15/2020,88,PATROL BORO BKLYN NORTH,KINGS,FELONY,MISCELLANEOUS PENAL LAW,AGGRAVATED HARASSMENT 1,ANTI-BLACK,Race/Color,,,\n\n202010100031199,2020,1,01/19/2020,101,PATROL BORO QUEENS SOUTH,QUEENS,FELONY,MISCELLANEOUS PENAL LAW,AGGRAVATED HARASSMENT 1,ANTI-JEWISH,Religion/Religious Practice,,,\n\n202010700019899,2020,1,01/13/2020,107,PATROL BORO QUEENS SOUTH,QUEENS,FELONY,CRIMINAL MISCHIEF & RELATED OF,CRIMINAL MIS 2 & 3,ANTI-JEWISH,Religion/Religious Practice,,,\n\n202010700059299,2020,1,01/31/2020,107,PATROL BORO QUEENS SOUTH,QUEENS,FELONY,MISCELLANEOUS PENAL LAW,AGGRAVATED HARASSMENT 1,ANTI-JEWISH,Religion/Religious Practice,,,\n\n202011300087599,2020,1,01/31/2020,113,PATROL BORO QUEENS SOUTH,QUEENS,FELONY,MISCELLANEOUS PENAL LAW,AGGRAVATED HARASSMENT 1,ANTI-BLACK,Race/Color,,,\n\n202012000329599,2020,1,06/04/2020,120,PATROL BORO STATEN ISLAND,RICHMOND,FELONY,MISCELLANEOUS PENAL LAW,AGGRAVATED HARASSMENT 1,ANTI-JEWISH,Religion/Religious Practice,,,\n\n[288 289 333 285]\n"
     ]
    }
   ],
   "source": [
    "# TODO show a few lines of data from the actual file\n",
    "import csv\n",
    "# import pandas as pd\n",
    "# f = pd.read_csv('../data/raw/NYPD_Hate_Crimes.csv') \n",
    "# f.head(2)\n",
    "# file = \n",
    "with open('../data/raw/NYPD_Hate_Crimes.csv','r') as fh:\n",
    "    # all_lines = fh.readlines()\n",
    "    header = [h.lstrip() for h in next(fh).split(',')]\n",
    "    print(header)\n",
    "    # print(header[-4])\n",
    "    all_lines = fh.readlines()\n",
    "    # print(len(all_lines))\n",
    "    year_count = 0\n",
    "    for line in all_lines:\n",
    "        line_parts = line.split(',')\n",
    "        if int(line_parts[1]) ==2020:\n",
    "            count+=1\n",
    "        #all felony hate crimes in 2020 Feb\n",
    "        if line_parts[7] == 'FELONY' and int(line_parts[1]) ==2020 and int(line_parts[2])==1:\n",
    "            print(line)\n",
    "        # print(all_lines[0])\n",
    "    print(count)\n",
    "# Use \"regular\" Python to do this in this code block\n",
    "# Assume that jupyter-lab was started in your root directory\n",
    "# with open('./data/raw/example-data.csv', 'r'): "
   ]
  },
  {
   "source": [
    "\n",
    "## Part 3 - Extract / Transform\n",
    "\n",
    "* TODO describe your process for extracting, transforming, cleaning your incoming data:\n",
    "\n",
    "\n",
    "\n",
    "* what columns you will be using (extracting) from your dataset\n",
    "- ans: I will be using 'offense category', 'bias motive description' and 'offense description' and 'Law Code Category Description'\n",
    "\n",
    "* how you are planning to convert the data into analogous python types / how you will deal with type issues (for example, you may want a column that is numeric, but the data contains a label, such as 4 months) \n",
    "- ans: I'm not sure if I am going to transform data types, and if I need to transform, I will need to strip the data to reduce the unnecessary parts\n",
    "\n",
    "* any other kind of cleaning (_normalizing_ data, filling in missing values, etc.) that you will have to perform\n",
    "- ans: I would need to separate probably different type of offense category. For example, create new columns based on if the criminals commited the crime of anti-racial 'yes' - 1; 'no' - 0; \n",
    "\n",
    "* what you will use a generator for...\n",
    "- ans: I will need a generator to first remove other years data, I only need 2020. and then i need to separate the hate crime with different offense categories \n",
    "\n"
   ],
   "cell_type": "markdown",
   "metadata": {}
  },
  {
   "cell_type": "code",
   "execution_count": 334,
   "id": "upper-objective",
   "metadata": {},
   "outputs": [],
   "source": [
    "# TODO write code here!\n",
    "# need 1) offense sexual orientation 2) felony 3) anti-racial\n",
    "# def\n",
    "def generator_h_hc():\n",
    "    num = 1\n",
    "    with open('../data/raw/NYPD_Hate_Crimes.csv','r') as fh:\n",
    "        all_lines = fh.readlines()\n",
    "        for line in all_lines:\n",
    "            line_parts = line.split(',')\n",
    "            \n",
    "            if line_parts[-4] == 'Sexual Orientation' and int(line_parts[1]) ==2020 or 'orientation'.upper() in line_parts[-3]:\n",
    "    # while True:\n",
    "                \n",
    "                if 'misdemeanor'.upper() in line_parts[7]:\n",
    "                    line_parts.append(1)\n",
    "                elif ('violation'.upper()) in line_parts[7]:\n",
    "                    \n",
    "                    line_parts.append(2)\n",
    "                elif 'felony'.upper() in line_parts[7]:\n",
    "                    line_parts.append(3)\n",
    "                else:\n",
    "                    line_parts.append(0)\n",
    "                yield [num, int(line_parts[2]), line_parts[-6], line_parts[7], line_parts[-1]]\n",
    "                # yield \n",
    "                num += 1\n",
    "            # elif 'Race' in line_parts[-4] and int(line_parts[1]) ==2020 and line_parts[7] == 'FELONY':\n",
    "            #     line_parts.append(4)\n",
    "            else:\n",
    "                line_parts.append(0)\n"
   ]
  },
  {
   "cell_type": "code",
   "execution_count": 335,
   "metadata": {},
   "outputs": [],
   "source": [
    "a = generator_h_hc()\n",
    "# next(a)"
   ]
  },
  {
   "cell_type": "code",
   "execution_count": 336,
   "metadata": {},
   "outputs": [
    {
     "output_type": "stream",
     "name": "stdout",
     "text": [
      "[1, 2, 'ANTI-MALE HOMOSEXUAL(GAY)', 'MISDEMEANOR', 1]\n[2, 7, 'ANTI-MALE HOMOSEXUAL(GAY)', 'FELONY', 3]\n[3, 7, 'ANTI-MALE HOMOSEXUAL(GAY)', 'FELONY', 3]\n[4, 10, 'ANTI-MALE HOMOSEXUAL(GAY)', 'MISDEMEANOR', 1]\n[5, 12, 'ANTI-FEMALE HOMOSEXUAL(GAY)', 'FELONY', 3]\n[6, 1, 'OTHER', 'FELONY', 3]\n[7, 8, 'ANTI-MALE HOMOSEXUAL(GAY)', 'FELONY', 3]\n[8, 1, 'ANTI-LGBT(MIXED GROUP)', 'MISDEMEANOR', 1]\n[9, 1, 'ANTI-LGBT(MIXED GROUP)', 'MISDEMEANOR', 1]\n[10, 6, 'ANTI-MALE HOMOSEXUAL(GAY)', 'FELONY', 3]\n[11, 5, 'ANTI-MALE HOMOSEXUAL(GAY)', 'FELONY', 3]\n[12, 10, 'ANTI-MALE HOMOSEXUAL(GAY)', 'MISDEMEANOR', 1]\n[13, 12, 'ANTI-MALE HOMOSEXUAL(GAY)', 'FELONY', 3]\n[14, 11, 'ANTI-MALE HOMOSEXUAL(GAY)', 'MISDEMEANOR', 1]\n[15, 5, 'ANTI-MALE HOMOSEXUAL(GAY)', 'MISDEMEANOR', 1]\n[16, 9, 'ANTI-MALE HOMOSEXUAL(GAY)', 'FELONY', 3]\n[17, 10, 'ANTI-MALE HOMOSEXUAL(GAY)', 'MISDEMEANOR', 1]\n[18, 7, 'ANTI-MALE HOMOSEXUAL(GAY)', 'VIOLATION', 2]\n[19, 8, 'ANTI-MALE HOMOSEXUAL(GAY)', 'VIOLATION', 2]\n[20, 8, 'ANTI-MALE HOMOSEXUAL(GAY)', 'MISDEMEANOR', 1]\n[21, 8, 'ANTI-MALE HOMOSEXUAL(GAY)', 'MISDEMEANOR', 1]\n[22, 9, 'ANTI-MALE HOMOSEXUAL(GAY)', 'MISDEMEANOR', 1]\n[23, 10, 'ANTI-MALE HOMOSEXUAL(GAY)', 'FELONY', 3]\n[24, 5, 'ANTI-FEMALE HOMOSEXUAL(GAY)', 'FELONY', 3]\n[25, 4, 'ANTI-FEMALE HOMOSEXUAL(GAY)', 'FELONY', 3]\n[26, 12, 'ANTI-MALE HOMOSEXUAL(GAY)', 'FELONY', 3]\n[27, 2, 'ANTI-MALE HOMOSEXUAL(GAY)', 'MISDEMEANOR', 1]\n[28, 10, 'OTHER', 'MISDEMEANOR', 1]\n[29, 3, 'ANTI-FEMALE HOMOSEXUAL(GAY)', 'MISDEMEANOR', 1]\n[30, 12, 'ANTI-FEMALE HOMOSEXUAL(GAY)', 'FELONY', 3]\n[31, 2, 'ANTI-MALE HOMOSEXUAL(GAY)', 'MISDEMEANOR', 1]\n[32, 9, 'ANTI-LGBT(MIXED GROUP)', 'MISDEMEANOR', 1]\n[33, 8, 'ANTI-MALE HOMOSEXUAL(GAY)', 'FELONY', 3]\n[34, 10, 'ANTI-MALE HOMOSEXUAL(GAY)', 'MISDEMEANOR', 1]\n[35, 1, 'ANTI-MALE HOMOSEXUAL(GAY)', 'FELONY', 3]\n[36, 1, 'OTHER', 'FELONY', 3]\n[37, 3, 'ANTI-MALE HOMOSEXUAL(GAY)', 'FELONY', 3]\n[38, 6, 'ANTI-MALE HOMOSEXUAL(GAY)', 'FELONY', 3]\n"
     ]
    }
   ],
   "source": [
    "# next(a)\n",
    "lissy = [n for n in a]\n",
    "# print(lissy)\n",
    "for n in lissy:\n",
    "    print(n)"
   ]
  },
  {
   "cell_type": "code",
   "execution_count": 337,
   "metadata": {},
   "outputs": [],
   "source": [
    "def generator_r_hc():\n",
    "    num = 1\n",
    "    with open('../data/raw/NYPD_Hate_Crimes.csv','r') as fh:\n",
    "        all_lines = fh.readlines()\n",
    "        for line in all_lines:\n",
    "            line_parts = line.split(',')\n",
    "            \n",
    "            if 'Race' in line_parts[-4] and int(line_parts[1]) ==2020 and line_parts[7] == 'FELONY':\n",
    "                if 'UNCLASSIFIED' in line_parts[-6]:\n",
    "                    line_parts.append(-1)\n",
    "                elif 'pulic'.upper() in line_parts[-6]:\n",
    "                    line_parts.append(1)\n",
    "                elif 'ELECTRONIC' in line_parts[-6]:\n",
    "                    line_parts.append(2)\n",
    "                elif 'HARASSMENT' in line_parts[-6]:\n",
    "                    line_parts.append(3)\n",
    "                elif 'TERRORISTIC' in line_parts[-6]:\n",
    "                    line_parts.append(4)\n",
    "                elif 'MENACING' in line_parts[-6]:\n",
    "                    line_parts.append(5)\n",
    "                else:\n",
    "                    line_parts.append(6)\n",
    "                yield [num, int(line_parts[2]), line_parts[-6], line_parts[-7],line_parts[-1]]\n",
    "\n",
    "\n",
    "                num += 1\n",
    "            else:\n",
    "                line_parts.append(0)"
   ]
  },
  {
   "cell_type": "code",
   "execution_count": 338,
   "metadata": {},
   "outputs": [],
   "source": [
    "b = generator_r_hc()"
   ]
  },
  {
   "cell_type": "code",
   "execution_count": 339,
   "metadata": {},
   "outputs": [
    {
     "output_type": "stream",
     "name": "stdout",
     "text": [
      "[1, 3, 'ANTI-ASIAN', 'UNCLASSIFIED\"', -1]\n[2, 3, 'ANTI-ASIAN', 'UNCLASSIFIED\"', -1]\n[3, 3, 'ANTI-ASIAN', 'UNCLASSIFIED\"', -1]\n[4, 7, 'ANTI-ASIAN', 'AGGRAVATED HARASSMENT 1', 3]\n[5, 3, 'ANTI-ASIAN', 'UNCLASSIFIED\"', -1]\n[6, 3, 'ANTI-ASIAN', 'PERSONAL ELECTRONIC DEVICE(SNATCH)\"', 2]\n[7, 3, 'ANTI-ASIAN', 'UNCLASSIFIED\"', -1]\n[8, 6, 'ANTI-WHITE', 'UNCLASSIFIED\"', -1]\n[9, 3, 'ANTI-ASIAN', 'AGGRAVATED HARASSMENT 1', 3]\n[10, 5, 'ANTI-ASIAN', 'MENACING 1ST DEGREE (VICT NOT', 5]\n[11, 8, 'ANTI-WHITE', 'OPEN AREA UNCLASSIFIED\"', -1]\n[12, 12, 'ANTI-BLACK', 'UNCLASSIFIED\"', -1]\n[13, 12, 'ANTI-ASIAN', 'PUBLIC PLACE INSIDE\"', 6]\n[14, 3, 'ANTI-ASIAN', 'AGGRAVATED HARASSMENT 1', 3]\n[15, 6, 'ANTI-BLACK', 'UNCLASSIFIED\"', -1]\n[16, 4, 'ANTI-ASIAN', '    UNCL 2ND\"', 6]\n[17, 8, 'ANTI-BLACK', 'UNCLASSIFIED\"', -1]\n[18, 9, 'ANTI-MULTI RACIAL GROUPS', 'AGGRAVATED HARASSMENT 1', 3]\n[19, 6, 'ANTI-BLACK', 'AGGRAVATED HARASSMENT 1', 3]\n[20, 8, 'ANTI-BLACK', 'AGGRAVATED HARASSMENT 1', 3]\n[21, 9, 'ANTI-ASIAN', 'UNCLASSIFIED\"', -1]\n[22, 7, 'ANTI-ASIAN', 'UNCLASSIFIED\"', -1]\n[23, 7, 'ANTI-MULTI RACIAL GROUPS', 'CRIMINAL MIS 2 & 3', 6]\n[24, 1, 'ANTI-BLACK', 'AGGRAVATED HARASSMENT 1', 3]\n[25, 1, 'ANTI-BLACK', 'AGGRAVATED HARASSMENT 1', 3]\n[26, 2, 'ANTI-WHITE', 'UNCLASSIFIED\"', -1]\n[27, 6, 'ANTI-BLACK', 'MAKING TERRORISTIC THREAT', 4]\n[28, 1, 'ANTI-BLACK', 'AGGRAVATED HARASSMENT 1', 3]\n[29, 3, 'ANTI-BLACK', 'AGGRAVATED HARASSMENT 1', 3]\n"
     ]
    }
   ],
   "source": [
    "li = [i for i in b]\n",
    "for i in li:\n",
    "    print(i)"
   ]
  },
  {
   "cell_type": "markdown",
   "id": "jewish-programming",
   "metadata": {},
   "source": [
    "## Part 4 - Descriptive Statistics\n",
    "\n",
    "### Analysis on Numeric Data\n",
    "\n",
    "#### Central Tendency\n",
    "\n"
   ]
  },
  {
   "cell_type": "code",
   "execution_count": 340,
   "id": "sunset-press",
   "metadata": {},
   "outputs": [
    {
     "output_type": "stream",
     "name": "stdout",
     "text": [
      "[10]\n"
     ]
    }
   ],
   "source": [
    "import numpy as np\n",
    "from scipy import stats\n",
    "#mode of month in anti-sexual orientation hate crimes in 2020\n",
    "new_lissy = [i[1] for i in lissy]\n",
    "mde = stats.mode(new_lissy)\n",
    "print(mde[0])\n"
   ]
  },
  {
   "cell_type": "code",
   "execution_count": 341,
   "metadata": {},
   "outputs": [
    {
     "output_type": "stream",
     "name": "stdout",
     "text": [
      "[3]\n"
     ]
    }
   ],
   "source": [
    "#mode of month in felony for anti-race hate crimes in 2020\n",
    "new_li = [i[1] for i in li]\n",
    "mode = stats.mode(new_li)\n",
    "print(mode[0])\n",
    "# TODO: copy and paste your results here"
   ]
  },
  {
   "cell_type": "markdown",
   "id": "given-killer",
   "metadata": {},
   "source": [
    "#### Dispersion"
   ]
  },
  {
   "cell_type": "code",
   "execution_count": 342,
   "id": "composite-kinase",
   "metadata": {},
   "outputs": [
    {
     "output_type": "execute_result",
     "data": {
      "text/plain": [
       "0.9719044901378625"
      ]
     },
     "metadata": {},
     "execution_count": 342
    }
   ],
   "source": [
    "#standard deviation of offense category anti-sexual orientation hate crimes in 2020\n",
    "lissy_2nd = [i[-1] for i in lissy]\n",
    "std_1 = np.std(lissy_2nd) \n",
    "std_1\n",
    "\n",
    "# TODO: copy and paste your results here"
   ]
  },
  {
   "cell_type": "code",
   "execution_count": 343,
   "metadata": {},
   "outputs": [
    {
     "output_type": "execute_result",
     "data": {
      "text/plain": [
       "2.512276634494756"
      ]
     },
     "metadata": {},
     "execution_count": 343
    }
   ],
   "source": [
    "#standard deviation in felony for anti-race hate crimes in 2020\n",
    "li_2nd = [i[-1] for i in li]\n",
    "std_2 = np.std(li_2nd) \n",
    "std_2"
   ]
  },
  {
   "cell_type": "markdown",
   "id": "optimum-profession",
   "metadata": {},
   "source": [
    "#### Outliers\n"
   ]
  },
  {
   "cell_type": "code",
   "execution_count": 344,
   "id": "invalid-newton",
   "metadata": {},
   "outputs": [
    {
     "output_type": "execute_result",
     "data": {
      "text/plain": [
       "[]"
      ]
     },
     "metadata": {},
     "execution_count": 344
    }
   ],
   "source": [
    "#using z-score\n",
    "outliers = []\n",
    "def outlier(lisy):\n",
    "    \n",
    "    threshold=3\n",
    "    me = np.mean(lisy)\n",
    "    std =np.std(lisy)\n",
    "    for x in lisy:\n",
    "        z_score= (x - me)/std\n",
    "        if np.abs(z_score) > threshold:\n",
    "            outliers.append(x)\n",
    "    return outliers\n",
    "res = outlier(lissy_2nd)\n",
    "res_li = outlier(li_2nd)\n",
    "res\n",
    "res_li\n",
    "# TODO: copy and paste your results here"
   ]
  },
  {
   "cell_type": "markdown",
   "id": "opposed-geology",
   "metadata": {},
   "source": [
    "#### Other\n"
   ]
  },
  {
   "cell_type": "code",
   "execution_count": 345,
   "id": "perceived-prototype",
   "metadata": {},
   "outputs": [
    {
     "output_type": "execute_result",
     "data": {
      "text/plain": [
       "3.0"
      ]
     },
     "metadata": {},
     "execution_count": 345
    }
   ],
   "source": [
    "#median of the offense category\n",
    "med_2 = np.median(li_2nd) \n",
    "med_2\n",
    "\n",
    "\n",
    "# TODO: copy and paste your results here"
   ]
  },
  {
   "cell_type": "code",
   "execution_count": 346,
   "metadata": {},
   "outputs": [
    {
     "output_type": "execute_result",
     "data": {
      "text/plain": [
       "2.5"
      ]
     },
     "metadata": {},
     "execution_count": 346
    }
   ],
   "source": [
    "#median of in felony category for anti-race hate crimes in 2020\n",
    "median_2 = np.median(lissy_2nd) \n",
    "median_2"
   ]
  },
  {
   "cell_type": "markdown",
   "id": "heavy-equilibrium",
   "metadata": {},
   "source": [
    "###  Analysis on Categorical Data"
   ]
  },
  {
   "cell_type": "markdown",
   "id": "arbitrary-identification",
   "metadata": {},
   "source": [
    "#### Frequency"
   ]
  },
  {
   "cell_type": "code",
   "execution_count": 347,
   "id": "marked-longer",
   "metadata": {},
   "outputs": [
    {
     "output_type": "stream",
     "name": "stdout",
     "text": [
      "[['    UNCL 2ND\"' '1']\n ['AGGRAVATED HARASSMENT 1' '10']\n ['CRIMINAL MIS 2 & 3' '1']\n ['MAKING TERRORISTIC THREAT' '1']\n ['MENACING 1ST DEGREE (VICT NOT' '1']\n ['OPEN AREA UNCLASSIFIED\"' '1']\n ['PERSONAL ELECTRONIC DEVICE(SNATCH)\"' '1']\n ['PUBLIC PLACE INSIDE\"' '1']\n ['UNCLASSIFIED\"' '12']]\n['    UNCL 2ND\"' 'AGGRAVATED HARASSMENT 1' 'CRIMINAL MIS 2 & 3'\n 'MAKING TERRORISTIC THREAT' 'MENACING 1ST DEGREE (VICT NOT'\n 'OPEN AREA UNCLASSIFIED\"' 'PERSONAL ELECTRONIC DEVICE(SNATCH)\"'\n 'PUBLIC PLACE INSIDE\"' 'UNCLASSIFIED\"'] [ 1 10  1  1  1  1  1  1 12]\n"
     ]
    }
   ],
   "source": [
    "#frequency of unique crimes \n",
    "li_crime = [i[-2] for i in li]\n",
    "(unique, counts) = np.unique(li_crime, return_counts=True)\n",
    "frequencies = np.asarray((unique, counts)).T\n",
    "print(frequencies)\n",
    "print(unique,counts)\n",
    "# TODO: copy and paste your results here"
   ]
  },
  {
   "cell_type": "code",
   "execution_count": 348,
   "metadata": {},
   "outputs": [],
   "source": [
    "##li_crime = [i[-2] for i in lissy]\n",
    "##(unique, counts) = np.unique(li_crime, return_counts=True)\n",
    "#frequencies = np.asarray((unique, counts)).T\n",
    "#print(frequencies)"
   ]
  },
  {
   "cell_type": "markdown",
   "id": "pharmaceutical-pixel",
   "metadata": {},
   "source": [
    "#### Unique Values"
   ]
  },
  {
   "cell_type": "code",
   "execution_count": 349,
   "id": "incident-garage",
   "metadata": {},
   "outputs": [
    {
     "output_type": "stream",
     "name": "stdout",
     "text": [
      "the unique hate crime types are\n['    UNCL 2ND\"' 'AGGRAVATED HARASSMENT 1' 'CRIMINAL MIS 2 & 3'\n 'MAKING TERRORISTIC THREAT' 'MENACING 1ST DEGREE (VICT NOT'\n 'OPEN AREA UNCLASSIFIED\"' 'PERSONAL ELECTRONIC DEVICE(SNATCH)\"'\n 'PUBLIC PLACE INSIDE\"' 'UNCLASSIFIED\"']\n"
     ]
    }
   ],
   "source": [
    "#unique values of anti-racial felony crimes name \n",
    "# li_crime = [i[-2] for i in li]\n",
    "uni = np.unique(li_crime)\n",
    "print('the unique hate crime types are')\n",
    "print(uni)\n",
    "# TODO: copy and paste your results here"
   ]
  },
  {
   "cell_type": "markdown",
   "id": "quick-florida",
   "metadata": {},
   "source": [
    "## Part 5 - Visualizations\n",
    "\n"
   ]
  },
  {
   "cell_type": "code",
   "execution_count": 350,
   "id": "according-nature",
   "metadata": {},
   "outputs": [],
   "source": [
    "#the \n",
    "def generator_h2019_hc():\n",
    "    num = 1\n",
    "    with open('../data/raw/NYPD_Hate_Crimes.csv','r') as fh:\n",
    "        all_lines = fh.readlines()\n",
    "        for line in all_lines:\n",
    "            line_parts = line.split(',')\n",
    "            \n",
    "            if line_parts[-4] == 'Sexual Orientation' and int(line_parts[1]) ==2019 or 'orientation'.upper() in line_parts[-3]:\n",
    "    # while True:\n",
    "                \n",
    "                if 'misdemeanor'.upper() in line_parts[7]:\n",
    "                    line_parts.append(1)\n",
    "                elif ('violation'.upper()) in line_parts[7]:\n",
    "                    \n",
    "                    line_parts.append(2)\n",
    "                elif 'felony'.upper() in line_parts[7]:\n",
    "                    line_parts.append(3)\n",
    "                else:\n",
    "                    line_parts.append(0)\n",
    "                yield [num, int(line_parts[2]), line_parts[-6], line_parts[7], line_parts[-1]]\n",
    "                # yield \n",
    "                num += 1\n",
    "            # elif 'Race' in line_parts[-4] and int(line_parts[1]) ==2020 and line_parts[7] == 'FELONY':\n",
    "            #     line_parts.append(4)\n",
    "            else:\n",
    "                line_parts.append(0)\n",
    "# TODO: add visualizations here"
   ]
  },
  {
   "cell_type": "markdown",
   "id": "fabulous-shooting",
   "metadata": {},
   "source": [
    "TODO Describe the visualizations in the previous cell\n"
   ]
  },
  {
   "cell_type": "code",
   "execution_count": 351,
   "metadata": {},
   "outputs": [
    {
     "output_type": "stream",
     "name": "stdout",
     "text": [
      "[1, 2, 'ANTI-MALE HOMOSEXUAL(GAY)', 'FELONY', 3]\n[2, 3, 'ANTI-MALE HOMOSEXUAL(GAY)', 'MISDEMEANOR', 1]\n[3, 4, 'ANTI-FEMALE HOMOSEXUAL(GAY)', 'FELONY', 3]\n[4, 6, 'ANTI-MALE HOMOSEXUAL(GAY)', 'MISDEMEANOR', 1]\n[5, 5, 'ANTI-MALE HOMOSEXUAL(GAY)', 'FELONY', 3]\n[6, 7, 'ANTI-MALE HOMOSEXUAL(GAY)', 'FELONY', 3]\n[7, 7, 'ANTI-MALE HOMOSEXUAL(GAY)', 'FELONY', 3]\n[8, 7, 'ANTI-MALE HOMOSEXUAL(GAY)', 'FELONY', 3]\n[9, 7, 'ANTI-MALE HOMOSEXUAL(GAY)', 'FELONY', 3]\n[10, 8, 'ANTI-MALE HOMOSEXUAL(GAY)', 'FELONY', 3]\n[11, 9, 'ANTI-MALE HOMOSEXUAL(GAY)', 'MISDEMEANOR', 1]\n[12, 10, 'ANTI-MALE HOMOSEXUAL(GAY)', 'MISDEMEANOR', 1]\n[13, 10, 'ANTI-MALE HOMOSEXUAL(GAY)', 'FELONY', 3]\n[14, 11, 'ANTI-MALE HOMOSEXUAL(GAY)', 'FELONY', 3]\n[15, 1, 'OTHER', 'FELONY', 3]\n[16, 3, 'ANTI-MALE HOMOSEXUAL(GAY)', 'FELONY', 3]\n[17, 3, 'ANTI-MALE HOMOSEXUAL(GAY)', 'MISDEMEANOR', 1]\n[18, 5, 'ANTI-LGBT(MIXED GROUP)', 'MISDEMEANOR', 1]\n[19, 7, 'ANTI-MALE HOMOSEXUAL(GAY)', 'MISDEMEANOR', 1]\n[20, 9, 'ANTI-FEMALE HOMOSEXUAL(GAY)', 'FELONY', 3]\n[21, 9, 'ANTI-FEMALE HOMOSEXUAL(GAY)', 'FELONY', 3]\n[22, 9, 'ANTI-FEMALE HOMOSEXUAL(GAY)', 'FELONY', 3]\n[23, 10, 'ANTI-MALE HOMOSEXUAL(GAY)', 'MISDEMEANOR', 1]\n[24, 11, 'ANTI-FEMALE HOMOSEXUAL(GAY)', 'FELONY', 3]\n[25, 4, 'ANTI-MALE HOMOSEXUAL(GAY)', 'MISDEMEANOR', 1]\n[26, 4, 'ANTI-MALE HOMOSEXUAL(GAY)', 'MISDEMEANOR', 1]\n[27, 9, 'ANTI-MALE HOMOSEXUAL(GAY)', 'FELONY', 3]\n[28, 9, 'ANTI-MALE HOMOSEXUAL(GAY)', 'MISDEMEANOR', 1]\n[29, 9, 'ANTI-MALE HOMOSEXUAL(GAY)', 'FELONY', 3]\n[30, 9, 'ANTI-MALE HOMOSEXUAL(GAY)', 'FELONY', 3]\n[31, 9, 'ANTI-MALE HOMOSEXUAL(GAY)', 'MISDEMEANOR', 1]\n[32, 9, 'ANTI-MALE HOMOSEXUAL(GAY)', 'MISDEMEANOR', 1]\n[33, 6, 'ANTI-FEMALE HOMOSEXUAL(GAY)', 'MISDEMEANOR', 1]\n[34, 1, 'ANTI-MALE HOMOSEXUAL(GAY)', 'MISDEMEANOR', 1]\n[35, 6, 'ANTI-MALE HOMOSEXUAL(GAY)', 'FELONY', 3]\n[36, 3, 'ANTI-MALE HOMOSEXUAL(GAY)', 'MISDEMEANOR', 1]\n[37, 1, 'ANTI-MALE HOMOSEXUAL(GAY)', 'MISDEMEANOR', 1]\n[38, 6, 'ANTI-MALE HOMOSEXUAL(GAY)', 'MISDEMEANOR', 1]\n[39, 7, 'ANTI-MALE HOMOSEXUAL(GAY)', 'MISDEMEANOR', 1]\n[40, 10, 'ANTI-MALE HOMOSEXUAL(GAY)', 'MISDEMEANOR', 1]\n[41, 11, 'ANTI-MALE HOMOSEXUAL(GAY)', 'FELONY', 3]\n[42, 5, 'ANTI-LGBT(MIXED GROUP)', 'MISDEMEANOR', 1]\n[43, 7, 'ANTI-LGBT(MIXED GROUP)', 'MISDEMEANOR', 1]\n[44, 7, 'ANTI-LGBT(MIXED GROUP)', 'MISDEMEANOR', 1]\n[45, 11, 'ANTI-MALE HOMOSEXUAL(GAY)', 'MISDEMEANOR', 1]\n[46, 4, 'ANTI-MALE HOMOSEXUAL(GAY)', 'FELONY', 3]\n[47, 11, 'ANTI-MALE HOMOSEXUAL(GAY)', 'MISDEMEANOR', 1]\n[48, 2, 'ANTI-MALE HOMOSEXUAL(GAY)', 'MISDEMEANOR', 1]\n[49, 2, 'ANTI-MALE HOMOSEXUAL(GAY)', 'MISDEMEANOR', 1]\n[50, 4, 'ANTI-MALE HOMOSEXUAL(GAY)', 'MISDEMEANOR', 1]\n[51, 11, 'ANTI-MALE HOMOSEXUAL(GAY)', 'FELONY', 3]\n[52, 10, 'ANTI-MALE HOMOSEXUAL(GAY)', 'MISDEMEANOR', 1]\n[53, 4, 'ANTI-MALE HOMOSEXUAL(GAY)', 'MISDEMEANOR', 1]\n[54, 7, 'ANTI-MALE HOMOSEXUAL(GAY)', 'MISDEMEANOR', 1]\n[55, 6, 'ANTI-MALE HOMOSEXUAL(GAY)', 'FELONY', 3]\n[56, 7, 'ANTI-MALE HOMOSEXUAL(GAY)', 'FELONY', 3]\n[57, 11, 'ANTI-LGBT(MIXED GROUP)', 'MISDEMEANOR', 1]\n[58, 2, 'ANTI-LGBT(MIXED GROUP)', 'MISDEMEANOR', 1]\n[59, 9, 'ANTI-MALE HOMOSEXUAL(GAY)', 'MISDEMEANOR', 1]\n[60, 12, 'ANTI-MALE HOMOSEXUAL(GAY)', 'MISDEMEANOR', 1]\n[61, 5, 'ANTI-MALE HOMOSEXUAL(GAY)', 'MISDEMEANOR', 1]\n[62, 7, 'ANTI-LGBT(MIXED GROUP)', 'FELONY', 3]\n[63, 4, 'ANTI-MALE HOMOSEXUAL(GAY)', 'MISDEMEANOR', 1]\n[64, 12, 'ANTI-MALE HOMOSEXUAL(GAY)', 'MISDEMEANOR', 1]\n[65, 9, 'ANTI-MALE HOMOSEXUAL(GAY)', 'MISDEMEANOR', 1]\n[66, 10, 'OTHER', 'MISDEMEANOR', 1]\n[67, 1, 'OTHER', 'FELONY', 3]\n"
     ]
    }
   ],
   "source": [
    "c = generator_h2019_hc()\n",
    "lissy_2019 = [n for n in c]\n",
    "# print(lissy)\n",
    "for n in lissy_2019:\n",
    "    print(n)"
   ]
  },
  {
   "cell_type": "code",
   "execution_count": 352,
   "metadata": {},
   "outputs": [
    {
     "output_type": "stream",
     "name": "stdout",
     "text": [
      "[['ANTI-FEMALE HOMOSEXUAL(GAY)' '6']\n ['ANTI-LGBT(MIXED GROUP)' '7']\n ['ANTI-MALE HOMOSEXUAL(GAY)' '51']\n ['OTHER' '3']]\n['ANTI-FEMALE HOMOSEXUAL(GAY)' 'ANTI-LGBT(MIXED GROUP)'\n 'ANTI-MALE HOMOSEXUAL(GAY)' 'OTHER'] [ 6  7 51  3]\n"
     ]
    }
   ],
   "source": [
    "li2019 = [i[-3] for i in lissy_2019]\n",
    "(un, count) = np.unique(li2019, return_counts=True)\n",
    "frequency = np.asarray((un, count)).T\n",
    "print(frequency)\n",
    "print(un,count)"
   ]
  },
  {
   "cell_type": "code",
   "execution_count": 353,
   "metadata": {},
   "outputs": [
    {
     "output_type": "stream",
     "name": "stdout",
     "text": [
      "[['ANTI-FEMALE HOMOSEXUAL(GAY)' '5']\n ['ANTI-LGBT(MIXED GROUP)' '3']\n ['ANTI-MALE HOMOSEXUAL(GAY)' '27']\n ['OTHER' '3']]\n['ANTI-FEMALE HOMOSEXUAL(GAY)' 'ANTI-LGBT(MIXED GROUP)'\n 'ANTI-MALE HOMOSEXUAL(GAY)' 'OTHER'] [ 5  3 27  3]\n"
     ]
    }
   ],
   "source": [
    "li2020 = [i[-3] for i in lissy]\n",
    "(uni, count2020) = np.unique(li2020, return_counts=True)\n",
    "freq = np.asarray((uni, count2020)).T\n",
    "print(freq)\n",
    "print(uni,count2020)"
   ]
  },
  {
   "cell_type": "code",
   "execution_count": 330,
   "metadata": {},
   "outputs": [
    {
     "output_type": "display_data",
     "data": {
      "text/plain": "<Figure size 864x576 with 1 Axes>",
      "image/svg+xml": "<?xml version=\"1.0\" encoding=\"utf-8\" standalone=\"no\"?>\n<!DOCTYPE svg PUBLIC \"-//W3C//DTD SVG 1.1//EN\"\n  \"http://www.w3.org/Graphics/SVG/1.1/DTD/svg11.dtd\">\n<!-- Created with matplotlib (https://matplotlib.org/) -->\n<svg height=\"481.07625pt\" version=\"1.1\" viewBox=\"0 0 717.403125 481.07625\" width=\"717.403125pt\" xmlns=\"http://www.w3.org/2000/svg\" xmlns:xlink=\"http://www.w3.org/1999/xlink\">\n <defs>\n  <style type=\"text/css\">\n*{stroke-linecap:butt;stroke-linejoin:round;}\n  </style>\n </defs>\n <g id=\"figure_1\">\n  <g id=\"patch_1\">\n   <path d=\"M 0 481.07625 \nL 717.403125 481.07625 \nL 717.403125 0 \nL 0 0 \nz\n\" style=\"fill:none;\"/>\n  </g>\n  <g id=\"axes_1\">\n   <g id=\"patch_2\">\n    <path d=\"M 40.603125 457.198125 \nL 710.203125 457.198125 \nL 710.203125 22.318125 \nL 40.603125 22.318125 \nz\n\" style=\"fill:#ffffff;\"/>\n   </g>\n   <g id=\"patch_3\">\n    <path clip-path=\"url(#p2ff1af572b)\" d=\"M 40.603125 457.198125 \nL 103.943666 457.198125 \nL 103.943666 406.035772 \nL 40.603125 406.035772 \nz\n\" style=\"fill:#1f77b4;\"/>\n   </g>\n   <g id=\"patch_4\">\n    <path clip-path=\"url(#p2ff1af572b)\" d=\"M 221.576098 457.198125 \nL 284.916639 457.198125 \nL 284.916639 397.508713 \nL 221.576098 397.508713 \nz\n\" style=\"fill:#1f77b4;\"/>\n   </g>\n   <g id=\"patch_5\">\n    <path clip-path=\"url(#p2ff1af572b)\" d=\"M 402.549071 457.198125 \nL 465.889611 457.198125 \nL 465.889611 22.318125 \nL 402.549071 22.318125 \nz\n\" style=\"fill:#1f77b4;\"/>\n   </g>\n   <g id=\"patch_6\">\n    <path clip-path=\"url(#p2ff1af572b)\" d=\"M 583.522044 457.198125 \nL 646.862584 457.198125 \nL 646.862584 431.616949 \nL 583.522044 431.616949 \nz\n\" style=\"fill:#1f77b4;\"/>\n   </g>\n   <g id=\"patch_7\">\n    <path clip-path=\"url(#p2ff1af572b)\" d=\"M 103.943666 457.198125 \nL 167.284206 457.198125 \nL 167.284206 414.562831 \nL 103.943666 414.562831 \nz\n\" style=\"fill:#ff7f0e;\"/>\n   </g>\n   <g id=\"patch_8\">\n    <path clip-path=\"url(#p2ff1af572b)\" d=\"M 284.916639 457.198125 \nL 348.257179 457.198125 \nL 348.257179 431.616949 \nL 284.916639 431.616949 \nz\n\" style=\"fill:#ff7f0e;\"/>\n   </g>\n   <g id=\"patch_9\">\n    <path clip-path=\"url(#p2ff1af572b)\" d=\"M 465.889611 457.198125 \nL 529.230152 457.198125 \nL 529.230152 226.967537 \nL 465.889611 226.967537 \nz\n\" style=\"fill:#ff7f0e;\"/>\n   </g>\n   <g id=\"patch_10\">\n    <path clip-path=\"url(#p2ff1af572b)\" d=\"M 646.862584 457.198125 \nL 710.203125 457.198125 \nL 710.203125 431.616949 \nL 646.862584 431.616949 \nz\n\" style=\"fill:#ff7f0e;\"/>\n   </g>\n   <g id=\"matplotlib.axis_1\">\n    <g id=\"xtick_1\">\n     <g id=\"line2d_1\">\n      <defs>\n       <path d=\"M 0 0 \nL 0 3.5 \n\" id=\"m9e5c8b670d\" style=\"stroke:#000000;stroke-width:0.8;\"/>\n      </defs>\n      <g>\n       <use style=\"stroke:#000000;stroke-width:0.8;\" x=\"103.943666\" xlink:href=\"#m9e5c8b670d\" y=\"457.198125\"/>\n      </g>\n     </g>\n     <g id=\"text_1\">\n      <!-- ANTI-FEMALE HOMOSEXUAL(GAY) -->\n      <defs>\n       <path d=\"M 34.1875 63.1875 \nL 20.796875 26.90625 \nL 47.609375 26.90625 \nz\nM 28.609375 72.90625 \nL 39.796875 72.90625 \nL 67.578125 0 \nL 57.328125 0 \nL 50.6875 18.703125 \nL 17.828125 18.703125 \nL 11.1875 0 \nL 0.78125 0 \nz\n\" id=\"DejaVuSans-65\"/>\n       <path d=\"M 9.8125 72.90625 \nL 23.09375 72.90625 \nL 55.421875 11.921875 \nL 55.421875 72.90625 \nL 64.984375 72.90625 \nL 64.984375 0 \nL 51.703125 0 \nL 19.390625 60.984375 \nL 19.390625 0 \nL 9.8125 0 \nz\n\" id=\"DejaVuSans-78\"/>\n       <path d=\"M -0.296875 72.90625 \nL 61.375 72.90625 \nL 61.375 64.59375 \nL 35.5 64.59375 \nL 35.5 0 \nL 25.59375 0 \nL 25.59375 64.59375 \nL -0.296875 64.59375 \nz\n\" id=\"DejaVuSans-84\"/>\n       <path d=\"M 9.8125 72.90625 \nL 19.671875 72.90625 \nL 19.671875 0 \nL 9.8125 0 \nz\n\" id=\"DejaVuSans-73\"/>\n       <path d=\"M 4.890625 31.390625 \nL 31.203125 31.390625 \nL 31.203125 23.390625 \nL 4.890625 23.390625 \nz\n\" id=\"DejaVuSans-45\"/>\n       <path d=\"M 9.8125 72.90625 \nL 51.703125 72.90625 \nL 51.703125 64.59375 \nL 19.671875 64.59375 \nL 19.671875 43.109375 \nL 48.578125 43.109375 \nL 48.578125 34.8125 \nL 19.671875 34.8125 \nL 19.671875 0 \nL 9.8125 0 \nz\n\" id=\"DejaVuSans-70\"/>\n       <path d=\"M 9.8125 72.90625 \nL 55.90625 72.90625 \nL 55.90625 64.59375 \nL 19.671875 64.59375 \nL 19.671875 43.015625 \nL 54.390625 43.015625 \nL 54.390625 34.71875 \nL 19.671875 34.71875 \nL 19.671875 8.296875 \nL 56.78125 8.296875 \nL 56.78125 0 \nL 9.8125 0 \nz\n\" id=\"DejaVuSans-69\"/>\n       <path d=\"M 9.8125 72.90625 \nL 24.515625 72.90625 \nL 43.109375 23.296875 \nL 61.8125 72.90625 \nL 76.515625 72.90625 \nL 76.515625 0 \nL 66.890625 0 \nL 66.890625 64.015625 \nL 48.09375 14.015625 \nL 38.1875 14.015625 \nL 19.390625 64.015625 \nL 19.390625 0 \nL 9.8125 0 \nz\n\" id=\"DejaVuSans-77\"/>\n       <path d=\"M 9.8125 72.90625 \nL 19.671875 72.90625 \nL 19.671875 8.296875 \nL 55.171875 8.296875 \nL 55.171875 0 \nL 9.8125 0 \nz\n\" id=\"DejaVuSans-76\"/>\n       <path id=\"DejaVuSans-32\"/>\n       <path d=\"M 9.8125 72.90625 \nL 19.671875 72.90625 \nL 19.671875 43.015625 \nL 55.515625 43.015625 \nL 55.515625 72.90625 \nL 65.375 72.90625 \nL 65.375 0 \nL 55.515625 0 \nL 55.515625 34.71875 \nL 19.671875 34.71875 \nL 19.671875 0 \nL 9.8125 0 \nz\n\" id=\"DejaVuSans-72\"/>\n       <path d=\"M 39.40625 66.21875 \nQ 28.65625 66.21875 22.328125 58.203125 \nQ 16.015625 50.203125 16.015625 36.375 \nQ 16.015625 22.609375 22.328125 14.59375 \nQ 28.65625 6.59375 39.40625 6.59375 \nQ 50.140625 6.59375 56.421875 14.59375 \nQ 62.703125 22.609375 62.703125 36.375 \nQ 62.703125 50.203125 56.421875 58.203125 \nQ 50.140625 66.21875 39.40625 66.21875 \nz\nM 39.40625 74.21875 \nQ 54.734375 74.21875 63.90625 63.9375 \nQ 73.09375 53.65625 73.09375 36.375 \nQ 73.09375 19.140625 63.90625 8.859375 \nQ 54.734375 -1.421875 39.40625 -1.421875 \nQ 24.03125 -1.421875 14.8125 8.828125 \nQ 5.609375 19.09375 5.609375 36.375 \nQ 5.609375 53.65625 14.8125 63.9375 \nQ 24.03125 74.21875 39.40625 74.21875 \nz\n\" id=\"DejaVuSans-79\"/>\n       <path d=\"M 53.515625 70.515625 \nL 53.515625 60.890625 \nQ 47.90625 63.578125 42.921875 64.890625 \nQ 37.9375 66.21875 33.296875 66.21875 \nQ 25.25 66.21875 20.875 63.09375 \nQ 16.5 59.96875 16.5 54.203125 \nQ 16.5 49.359375 19.40625 46.890625 \nQ 22.3125 44.4375 30.421875 42.921875 \nL 36.375 41.703125 \nQ 47.40625 39.59375 52.65625 34.296875 \nQ 57.90625 29 57.90625 20.125 \nQ 57.90625 9.515625 50.796875 4.046875 \nQ 43.703125 -1.421875 29.984375 -1.421875 \nQ 24.8125 -1.421875 18.96875 -0.25 \nQ 13.140625 0.921875 6.890625 3.21875 \nL 6.890625 13.375 \nQ 12.890625 10.015625 18.65625 8.296875 \nQ 24.421875 6.59375 29.984375 6.59375 \nQ 38.421875 6.59375 43.015625 9.90625 \nQ 47.609375 13.234375 47.609375 19.390625 \nQ 47.609375 24.75 44.3125 27.78125 \nQ 41.015625 30.8125 33.5 32.328125 \nL 27.484375 33.5 \nQ 16.453125 35.6875 11.515625 40.375 \nQ 6.59375 45.0625 6.59375 53.421875 \nQ 6.59375 63.09375 13.40625 68.65625 \nQ 20.21875 74.21875 32.171875 74.21875 \nQ 37.3125 74.21875 42.625 73.28125 \nQ 47.953125 72.359375 53.515625 70.515625 \nz\n\" id=\"DejaVuSans-83\"/>\n       <path d=\"M 6.296875 72.90625 \nL 16.890625 72.90625 \nL 35.015625 45.796875 \nL 53.21875 72.90625 \nL 63.8125 72.90625 \nL 40.375 37.890625 \nL 65.375 0 \nL 54.78125 0 \nL 34.28125 31 \nL 13.625 0 \nL 2.984375 0 \nL 29 38.921875 \nz\n\" id=\"DejaVuSans-88\"/>\n       <path d=\"M 8.6875 72.90625 \nL 18.609375 72.90625 \nL 18.609375 28.609375 \nQ 18.609375 16.890625 22.84375 11.734375 \nQ 27.09375 6.59375 36.625 6.59375 \nQ 46.09375 6.59375 50.34375 11.734375 \nQ 54.59375 16.890625 54.59375 28.609375 \nL 54.59375 72.90625 \nL 64.5 72.90625 \nL 64.5 27.390625 \nQ 64.5 13.140625 57.4375 5.859375 \nQ 50.390625 -1.421875 36.625 -1.421875 \nQ 22.796875 -1.421875 15.734375 5.859375 \nQ 8.6875 13.140625 8.6875 27.390625 \nz\n\" id=\"DejaVuSans-85\"/>\n       <path d=\"M 31 75.875 \nQ 24.46875 64.65625 21.28125 53.65625 \nQ 18.109375 42.671875 18.109375 31.390625 \nQ 18.109375 20.125 21.3125 9.0625 \nQ 24.515625 -2 31 -13.1875 \nL 23.1875 -13.1875 \nQ 15.875 -1.703125 12.234375 9.375 \nQ 8.59375 20.453125 8.59375 31.390625 \nQ 8.59375 42.28125 12.203125 53.3125 \nQ 15.828125 64.359375 23.1875 75.875 \nz\n\" id=\"DejaVuSans-40\"/>\n       <path d=\"M 59.515625 10.40625 \nL 59.515625 29.984375 \nL 43.40625 29.984375 \nL 43.40625 38.09375 \nL 69.28125 38.09375 \nL 69.28125 6.78125 \nQ 63.578125 2.734375 56.6875 0.65625 \nQ 49.8125 -1.421875 42 -1.421875 \nQ 24.90625 -1.421875 15.25 8.5625 \nQ 5.609375 18.5625 5.609375 36.375 \nQ 5.609375 54.25 15.25 64.234375 \nQ 24.90625 74.21875 42 74.21875 \nQ 49.125 74.21875 55.546875 72.453125 \nQ 61.96875 70.703125 67.390625 67.28125 \nL 67.390625 56.78125 \nQ 61.921875 61.421875 55.765625 63.765625 \nQ 49.609375 66.109375 42.828125 66.109375 \nQ 29.4375 66.109375 22.71875 58.640625 \nQ 16.015625 51.171875 16.015625 36.375 \nQ 16.015625 21.625 22.71875 14.15625 \nQ 29.4375 6.6875 42.828125 6.6875 \nQ 48.046875 6.6875 52.140625 7.59375 \nQ 56.25 8.5 59.515625 10.40625 \nz\n\" id=\"DejaVuSans-71\"/>\n       <path d=\"M -0.203125 72.90625 \nL 10.40625 72.90625 \nL 30.609375 42.921875 \nL 50.6875 72.90625 \nL 61.28125 72.90625 \nL 35.5 34.71875 \nL 35.5 0 \nL 25.59375 0 \nL 25.59375 34.71875 \nz\n\" id=\"DejaVuSans-89\"/>\n       <path d=\"M 8.015625 75.875 \nL 15.828125 75.875 \nQ 23.140625 64.359375 26.78125 53.3125 \nQ 30.421875 42.28125 30.421875 31.390625 \nQ 30.421875 20.453125 26.78125 9.375 \nQ 23.140625 -1.703125 15.828125 -13.1875 \nL 8.015625 -13.1875 \nQ 14.5 -2 17.703125 9.0625 \nQ 20.90625 20.125 20.90625 31.390625 \nQ 20.90625 42.671875 17.703125 53.65625 \nQ 14.5 64.65625 8.015625 75.875 \nz\n\" id=\"DejaVuSans-41\"/>\n      </defs>\n      <g transform=\"translate(19.713197 471.796562)scale(0.1 -0.1)\">\n       <use xlink:href=\"#DejaVuSans-65\"/>\n       <use x=\"68.408203\" xlink:href=\"#DejaVuSans-78\"/>\n       <use x=\"143.212891\" xlink:href=\"#DejaVuSans-84\"/>\n       <use x=\"204.296875\" xlink:href=\"#DejaVuSans-73\"/>\n       <use x=\"233.789062\" xlink:href=\"#DejaVuSans-45\"/>\n       <use x=\"269.873047\" xlink:href=\"#DejaVuSans-70\"/>\n       <use x=\"327.392578\" xlink:href=\"#DejaVuSans-69\"/>\n       <use x=\"390.576172\" xlink:href=\"#DejaVuSans-77\"/>\n       <use x=\"476.855469\" xlink:href=\"#DejaVuSans-65\"/>\n       <use x=\"545.263672\" xlink:href=\"#DejaVuSans-76\"/>\n       <use x=\"600.976562\" xlink:href=\"#DejaVuSans-69\"/>\n       <use x=\"664.160156\" xlink:href=\"#DejaVuSans-32\"/>\n       <use x=\"695.947266\" xlink:href=\"#DejaVuSans-72\"/>\n       <use x=\"771.142578\" xlink:href=\"#DejaVuSans-79\"/>\n       <use x=\"849.853516\" xlink:href=\"#DejaVuSans-77\"/>\n       <use x=\"936.132812\" xlink:href=\"#DejaVuSans-79\"/>\n       <use x=\"1014.84375\" xlink:href=\"#DejaVuSans-83\"/>\n       <use x=\"1078.320312\" xlink:href=\"#DejaVuSans-69\"/>\n       <use x=\"1141.503906\" xlink:href=\"#DejaVuSans-88\"/>\n       <use x=\"1210.009766\" xlink:href=\"#DejaVuSans-85\"/>\n       <use x=\"1283.203125\" xlink:href=\"#DejaVuSans-65\"/>\n       <use x=\"1351.611328\" xlink:href=\"#DejaVuSans-76\"/>\n       <use x=\"1407.324219\" xlink:href=\"#DejaVuSans-40\"/>\n       <use x=\"1446.337891\" xlink:href=\"#DejaVuSans-71\"/>\n       <use x=\"1523.828125\" xlink:href=\"#DejaVuSans-65\"/>\n       <use x=\"1584.486328\" xlink:href=\"#DejaVuSans-89\"/>\n       <use x=\"1645.570312\" xlink:href=\"#DejaVuSans-41\"/>\n      </g>\n     </g>\n    </g>\n    <g id=\"xtick_2\">\n     <g id=\"line2d_2\">\n      <g>\n       <use style=\"stroke:#000000;stroke-width:0.8;\" x=\"284.916639\" xlink:href=\"#m9e5c8b670d\" y=\"457.198125\"/>\n      </g>\n     </g>\n     <g id=\"text_2\">\n      <!-- ANTI-LGBT(MIXED GROUP) -->\n      <defs>\n       <path d=\"M 19.671875 34.8125 \nL 19.671875 8.109375 \nL 35.5 8.109375 \nQ 43.453125 8.109375 47.28125 11.40625 \nQ 51.125 14.703125 51.125 21.484375 \nQ 51.125 28.328125 47.28125 31.5625 \nQ 43.453125 34.8125 35.5 34.8125 \nz\nM 19.671875 64.796875 \nL 19.671875 42.828125 \nL 34.28125 42.828125 \nQ 41.5 42.828125 45.03125 45.53125 \nQ 48.578125 48.25 48.578125 53.8125 \nQ 48.578125 59.328125 45.03125 62.0625 \nQ 41.5 64.796875 34.28125 64.796875 \nz\nM 9.8125 72.90625 \nL 35.015625 72.90625 \nQ 46.296875 72.90625 52.390625 68.21875 \nQ 58.5 63.53125 58.5 54.890625 \nQ 58.5 48.1875 55.375 44.234375 \nQ 52.25 40.28125 46.1875 39.3125 \nQ 53.46875 37.75 57.5 32.78125 \nQ 61.53125 27.828125 61.53125 20.40625 \nQ 61.53125 10.640625 54.890625 5.3125 \nQ 48.25 0 35.984375 0 \nL 9.8125 0 \nz\n\" id=\"DejaVuSans-66\"/>\n       <path d=\"M 19.671875 64.796875 \nL 19.671875 8.109375 \nL 31.59375 8.109375 \nQ 46.6875 8.109375 53.6875 14.9375 \nQ 60.6875 21.78125 60.6875 36.53125 \nQ 60.6875 51.171875 53.6875 57.984375 \nQ 46.6875 64.796875 31.59375 64.796875 \nz\nM 9.8125 72.90625 \nL 30.078125 72.90625 \nQ 51.265625 72.90625 61.171875 64.09375 \nQ 71.09375 55.28125 71.09375 36.53125 \nQ 71.09375 17.671875 61.125 8.828125 \nQ 51.171875 0 30.078125 0 \nL 9.8125 0 \nz\n\" id=\"DejaVuSans-68\"/>\n       <path d=\"M 44.390625 34.1875 \nQ 47.5625 33.109375 50.5625 29.59375 \nQ 53.5625 26.078125 56.59375 19.921875 \nL 66.609375 0 \nL 56 0 \nL 46.6875 18.703125 \nQ 43.0625 26.03125 39.671875 28.421875 \nQ 36.28125 30.8125 30.421875 30.8125 \nL 19.671875 30.8125 \nL 19.671875 0 \nL 9.8125 0 \nL 9.8125 72.90625 \nL 32.078125 72.90625 \nQ 44.578125 72.90625 50.734375 67.671875 \nQ 56.890625 62.453125 56.890625 51.90625 \nQ 56.890625 45.015625 53.6875 40.46875 \nQ 50.484375 35.9375 44.390625 34.1875 \nz\nM 19.671875 64.796875 \nL 19.671875 38.921875 \nL 32.078125 38.921875 \nQ 39.203125 38.921875 42.84375 42.21875 \nQ 46.484375 45.515625 46.484375 51.90625 \nQ 46.484375 58.296875 42.84375 61.546875 \nQ 39.203125 64.796875 32.078125 64.796875 \nz\n\" id=\"DejaVuSans-82\"/>\n       <path d=\"M 19.671875 64.796875 \nL 19.671875 37.40625 \nL 32.078125 37.40625 \nQ 38.96875 37.40625 42.71875 40.96875 \nQ 46.484375 44.53125 46.484375 51.125 \nQ 46.484375 57.671875 42.71875 61.234375 \nQ 38.96875 64.796875 32.078125 64.796875 \nz\nM 9.8125 72.90625 \nL 32.078125 72.90625 \nQ 44.34375 72.90625 50.609375 67.359375 \nQ 56.890625 61.8125 56.890625 51.125 \nQ 56.890625 40.328125 50.609375 34.8125 \nQ 44.34375 29.296875 32.078125 29.296875 \nL 19.671875 29.296875 \nL 19.671875 0 \nL 9.8125 0 \nz\n\" id=\"DejaVuSans-80\"/>\n      </defs>\n      <g transform=\"translate(218.605701 471.796562)scale(0.1 -0.1)\">\n       <use xlink:href=\"#DejaVuSans-65\"/>\n       <use x=\"68.408203\" xlink:href=\"#DejaVuSans-78\"/>\n       <use x=\"143.212891\" xlink:href=\"#DejaVuSans-84\"/>\n       <use x=\"204.296875\" xlink:href=\"#DejaVuSans-73\"/>\n       <use x=\"233.789062\" xlink:href=\"#DejaVuSans-45\"/>\n       <use x=\"269.873047\" xlink:href=\"#DejaVuSans-76\"/>\n       <use x=\"325.585938\" xlink:href=\"#DejaVuSans-71\"/>\n       <use x=\"403.076172\" xlink:href=\"#DejaVuSans-66\"/>\n       <use x=\"471.679688\" xlink:href=\"#DejaVuSans-84\"/>\n       <use x=\"532.763672\" xlink:href=\"#DejaVuSans-40\"/>\n       <use x=\"571.777344\" xlink:href=\"#DejaVuSans-77\"/>\n       <use x=\"658.056641\" xlink:href=\"#DejaVuSans-73\"/>\n       <use x=\"687.548828\" xlink:href=\"#DejaVuSans-88\"/>\n       <use x=\"756.054688\" xlink:href=\"#DejaVuSans-69\"/>\n       <use x=\"819.238281\" xlink:href=\"#DejaVuSans-68\"/>\n       <use x=\"896.240234\" xlink:href=\"#DejaVuSans-32\"/>\n       <use x=\"928.027344\" xlink:href=\"#DejaVuSans-71\"/>\n       <use x=\"1005.517578\" xlink:href=\"#DejaVuSans-82\"/>\n       <use x=\"1075\" xlink:href=\"#DejaVuSans-79\"/>\n       <use x=\"1153.710938\" xlink:href=\"#DejaVuSans-85\"/>\n       <use x=\"1226.904297\" xlink:href=\"#DejaVuSans-80\"/>\n       <use x=\"1287.207031\" xlink:href=\"#DejaVuSans-41\"/>\n      </g>\n     </g>\n    </g>\n    <g id=\"xtick_3\">\n     <g id=\"line2d_3\">\n      <g>\n       <use style=\"stroke:#000000;stroke-width:0.8;\" x=\"465.889611\" xlink:href=\"#m9e5c8b670d\" y=\"457.198125\"/>\n      </g>\n     </g>\n     <g id=\"text_3\">\n      <!-- ANTI-MALE HOMOSEXUAL(GAY) -->\n      <g transform=\"translate(387.694299 471.796562)scale(0.1 -0.1)\">\n       <use xlink:href=\"#DejaVuSans-65\"/>\n       <use x=\"68.408203\" xlink:href=\"#DejaVuSans-78\"/>\n       <use x=\"143.212891\" xlink:href=\"#DejaVuSans-84\"/>\n       <use x=\"204.296875\" xlink:href=\"#DejaVuSans-73\"/>\n       <use x=\"233.789062\" xlink:href=\"#DejaVuSans-45\"/>\n       <use x=\"269.873047\" xlink:href=\"#DejaVuSans-77\"/>\n       <use x=\"356.152344\" xlink:href=\"#DejaVuSans-65\"/>\n       <use x=\"424.560547\" xlink:href=\"#DejaVuSans-76\"/>\n       <use x=\"480.273438\" xlink:href=\"#DejaVuSans-69\"/>\n       <use x=\"543.457031\" xlink:href=\"#DejaVuSans-32\"/>\n       <use x=\"575.244141\" xlink:href=\"#DejaVuSans-72\"/>\n       <use x=\"650.439453\" xlink:href=\"#DejaVuSans-79\"/>\n       <use x=\"729.150391\" xlink:href=\"#DejaVuSans-77\"/>\n       <use x=\"815.429688\" xlink:href=\"#DejaVuSans-79\"/>\n       <use x=\"894.140625\" xlink:href=\"#DejaVuSans-83\"/>\n       <use x=\"957.617188\" xlink:href=\"#DejaVuSans-69\"/>\n       <use x=\"1020.800781\" xlink:href=\"#DejaVuSans-88\"/>\n       <use x=\"1089.306641\" xlink:href=\"#DejaVuSans-85\"/>\n       <use x=\"1162.5\" xlink:href=\"#DejaVuSans-65\"/>\n       <use x=\"1230.908203\" xlink:href=\"#DejaVuSans-76\"/>\n       <use x=\"1286.621094\" xlink:href=\"#DejaVuSans-40\"/>\n       <use x=\"1325.634766\" xlink:href=\"#DejaVuSans-71\"/>\n       <use x=\"1403.125\" xlink:href=\"#DejaVuSans-65\"/>\n       <use x=\"1463.783203\" xlink:href=\"#DejaVuSans-89\"/>\n       <use x=\"1524.867188\" xlink:href=\"#DejaVuSans-41\"/>\n      </g>\n     </g>\n    </g>\n    <g id=\"xtick_4\">\n     <g id=\"line2d_4\">\n      <g>\n       <use style=\"stroke:#000000;stroke-width:0.8;\" x=\"646.862584\" xlink:href=\"#m9e5c8b670d\" y=\"457.198125\"/>\n      </g>\n     </g>\n     <g id=\"text_4\">\n      <!-- OTHER -->\n      <g transform=\"translate(629.478991 471.796562)scale(0.1 -0.1)\">\n       <use xlink:href=\"#DejaVuSans-79\"/>\n       <use x=\"78.710938\" xlink:href=\"#DejaVuSans-84\"/>\n       <use x=\"139.794922\" xlink:href=\"#DejaVuSans-72\"/>\n       <use x=\"214.990234\" xlink:href=\"#DejaVuSans-69\"/>\n       <use x=\"278.173828\" xlink:href=\"#DejaVuSans-82\"/>\n      </g>\n     </g>\n    </g>\n   </g>\n   <g id=\"matplotlib.axis_2\">\n    <g id=\"ytick_1\">\n     <g id=\"line2d_5\">\n      <defs>\n       <path d=\"M 0 0 \nL -3.5 0 \n\" id=\"m4984ae11c8\" style=\"stroke:#000000;stroke-width:0.8;\"/>\n      </defs>\n      <g>\n       <use style=\"stroke:#000000;stroke-width:0.8;\" x=\"40.603125\" xlink:href=\"#m4984ae11c8\" y=\"457.198125\"/>\n      </g>\n     </g>\n     <g id=\"text_5\">\n      <!-- 0 -->\n      <defs>\n       <path d=\"M 31.78125 66.40625 \nQ 24.171875 66.40625 20.328125 58.90625 \nQ 16.5 51.421875 16.5 36.375 \nQ 16.5 21.390625 20.328125 13.890625 \nQ 24.171875 6.390625 31.78125 6.390625 \nQ 39.453125 6.390625 43.28125 13.890625 \nQ 47.125 21.390625 47.125 36.375 \nQ 47.125 51.421875 43.28125 58.90625 \nQ 39.453125 66.40625 31.78125 66.40625 \nz\nM 31.78125 74.21875 \nQ 44.046875 74.21875 50.515625 64.515625 \nQ 56.984375 54.828125 56.984375 36.375 \nQ 56.984375 17.96875 50.515625 8.265625 \nQ 44.046875 -1.421875 31.78125 -1.421875 \nQ 19.53125 -1.421875 13.0625 8.265625 \nQ 6.59375 17.96875 6.59375 36.375 \nQ 6.59375 54.828125 13.0625 64.515625 \nQ 19.53125 74.21875 31.78125 74.21875 \nz\n\" id=\"DejaVuSans-48\"/>\n      </defs>\n      <g transform=\"translate(27.240625 460.997344)scale(0.1 -0.1)\">\n       <use xlink:href=\"#DejaVuSans-48\"/>\n      </g>\n     </g>\n    </g>\n    <g id=\"ytick_2\">\n     <g id=\"line2d_6\">\n      <g>\n       <use style=\"stroke:#000000;stroke-width:0.8;\" x=\"40.603125\" xlink:href=\"#m4984ae11c8\" y=\"371.927537\"/>\n      </g>\n     </g>\n     <g id=\"text_6\">\n      <!-- 10 -->\n      <defs>\n       <path d=\"M 12.40625 8.296875 \nL 28.515625 8.296875 \nL 28.515625 63.921875 \nL 10.984375 60.40625 \nL 10.984375 69.390625 \nL 28.421875 72.90625 \nL 38.28125 72.90625 \nL 38.28125 8.296875 \nL 54.390625 8.296875 \nL 54.390625 0 \nL 12.40625 0 \nz\n\" id=\"DejaVuSans-49\"/>\n      </defs>\n      <g transform=\"translate(20.878125 375.726756)scale(0.1 -0.1)\">\n       <use xlink:href=\"#DejaVuSans-49\"/>\n       <use x=\"63.623047\" xlink:href=\"#DejaVuSans-48\"/>\n      </g>\n     </g>\n    </g>\n    <g id=\"ytick_3\">\n     <g id=\"line2d_7\">\n      <g>\n       <use style=\"stroke:#000000;stroke-width:0.8;\" x=\"40.603125\" xlink:href=\"#m4984ae11c8\" y=\"286.656949\"/>\n      </g>\n     </g>\n     <g id=\"text_7\">\n      <!-- 20 -->\n      <defs>\n       <path d=\"M 19.1875 8.296875 \nL 53.609375 8.296875 \nL 53.609375 0 \nL 7.328125 0 \nL 7.328125 8.296875 \nQ 12.9375 14.109375 22.625 23.890625 \nQ 32.328125 33.6875 34.8125 36.53125 \nQ 39.546875 41.84375 41.421875 45.53125 \nQ 43.3125 49.21875 43.3125 52.78125 \nQ 43.3125 58.59375 39.234375 62.25 \nQ 35.15625 65.921875 28.609375 65.921875 \nQ 23.96875 65.921875 18.8125 64.3125 \nQ 13.671875 62.703125 7.8125 59.421875 \nL 7.8125 69.390625 \nQ 13.765625 71.78125 18.9375 73 \nQ 24.125 74.21875 28.421875 74.21875 \nQ 39.75 74.21875 46.484375 68.546875 \nQ 53.21875 62.890625 53.21875 53.421875 \nQ 53.21875 48.921875 51.53125 44.890625 \nQ 49.859375 40.875 45.40625 35.40625 \nQ 44.1875 33.984375 37.640625 27.21875 \nQ 31.109375 20.453125 19.1875 8.296875 \nz\n\" id=\"DejaVuSans-50\"/>\n      </defs>\n      <g transform=\"translate(20.878125 290.456167)scale(0.1 -0.1)\">\n       <use xlink:href=\"#DejaVuSans-50\"/>\n       <use x=\"63.623047\" xlink:href=\"#DejaVuSans-48\"/>\n      </g>\n     </g>\n    </g>\n    <g id=\"ytick_4\">\n     <g id=\"line2d_8\">\n      <g>\n       <use style=\"stroke:#000000;stroke-width:0.8;\" x=\"40.603125\" xlink:href=\"#m4984ae11c8\" y=\"201.38636\"/>\n      </g>\n     </g>\n     <g id=\"text_8\">\n      <!-- 30 -->\n      <defs>\n       <path d=\"M 40.578125 39.3125 \nQ 47.65625 37.796875 51.625 33 \nQ 55.609375 28.21875 55.609375 21.1875 \nQ 55.609375 10.40625 48.1875 4.484375 \nQ 40.765625 -1.421875 27.09375 -1.421875 \nQ 22.515625 -1.421875 17.65625 -0.515625 \nQ 12.796875 0.390625 7.625 2.203125 \nL 7.625 11.71875 \nQ 11.71875 9.328125 16.59375 8.109375 \nQ 21.484375 6.890625 26.8125 6.890625 \nQ 36.078125 6.890625 40.9375 10.546875 \nQ 45.796875 14.203125 45.796875 21.1875 \nQ 45.796875 27.640625 41.28125 31.265625 \nQ 36.765625 34.90625 28.71875 34.90625 \nL 20.21875 34.90625 \nL 20.21875 43.015625 \nL 29.109375 43.015625 \nQ 36.375 43.015625 40.234375 45.921875 \nQ 44.09375 48.828125 44.09375 54.296875 \nQ 44.09375 59.90625 40.109375 62.90625 \nQ 36.140625 65.921875 28.71875 65.921875 \nQ 24.65625 65.921875 20.015625 65.03125 \nQ 15.375 64.15625 9.8125 62.3125 \nL 9.8125 71.09375 \nQ 15.4375 72.65625 20.34375 73.4375 \nQ 25.25 74.21875 29.59375 74.21875 \nQ 40.828125 74.21875 47.359375 69.109375 \nQ 53.90625 64.015625 53.90625 55.328125 \nQ 53.90625 49.265625 50.4375 45.09375 \nQ 46.96875 40.921875 40.578125 39.3125 \nz\n\" id=\"DejaVuSans-51\"/>\n      </defs>\n      <g transform=\"translate(20.878125 205.185579)scale(0.1 -0.1)\">\n       <use xlink:href=\"#DejaVuSans-51\"/>\n       <use x=\"63.623047\" xlink:href=\"#DejaVuSans-48\"/>\n      </g>\n     </g>\n    </g>\n    <g id=\"ytick_5\">\n     <g id=\"line2d_9\">\n      <g>\n       <use style=\"stroke:#000000;stroke-width:0.8;\" x=\"40.603125\" xlink:href=\"#m4984ae11c8\" y=\"116.115772\"/>\n      </g>\n     </g>\n     <g id=\"text_9\">\n      <!-- 40 -->\n      <defs>\n       <path d=\"M 37.796875 64.3125 \nL 12.890625 25.390625 \nL 37.796875 25.390625 \nz\nM 35.203125 72.90625 \nL 47.609375 72.90625 \nL 47.609375 25.390625 \nL 58.015625 25.390625 \nL 58.015625 17.1875 \nL 47.609375 17.1875 \nL 47.609375 0 \nL 37.796875 0 \nL 37.796875 17.1875 \nL 4.890625 17.1875 \nL 4.890625 26.703125 \nz\n\" id=\"DejaVuSans-52\"/>\n      </defs>\n      <g transform=\"translate(20.878125 119.914991)scale(0.1 -0.1)\">\n       <use xlink:href=\"#DejaVuSans-52\"/>\n       <use x=\"63.623047\" xlink:href=\"#DejaVuSans-48\"/>\n      </g>\n     </g>\n    </g>\n    <g id=\"ytick_6\">\n     <g id=\"line2d_10\">\n      <g>\n       <use style=\"stroke:#000000;stroke-width:0.8;\" x=\"40.603125\" xlink:href=\"#m4984ae11c8\" y=\"30.845184\"/>\n      </g>\n     </g>\n     <g id=\"text_10\">\n      <!-- 50 -->\n      <defs>\n       <path d=\"M 10.796875 72.90625 \nL 49.515625 72.90625 \nL 49.515625 64.59375 \nL 19.828125 64.59375 \nL 19.828125 46.734375 \nQ 21.96875 47.46875 24.109375 47.828125 \nQ 26.265625 48.1875 28.421875 48.1875 \nQ 40.625 48.1875 47.75 41.5 \nQ 54.890625 34.8125 54.890625 23.390625 \nQ 54.890625 11.625 47.5625 5.09375 \nQ 40.234375 -1.421875 26.90625 -1.421875 \nQ 22.3125 -1.421875 17.546875 -0.640625 \nQ 12.796875 0.140625 7.71875 1.703125 \nL 7.71875 11.625 \nQ 12.109375 9.234375 16.796875 8.0625 \nQ 21.484375 6.890625 26.703125 6.890625 \nQ 35.15625 6.890625 40.078125 11.328125 \nQ 45.015625 15.765625 45.015625 23.390625 \nQ 45.015625 31 40.078125 35.4375 \nQ 35.15625 39.890625 26.703125 39.890625 \nQ 22.75 39.890625 18.8125 39.015625 \nQ 14.890625 38.140625 10.796875 36.28125 \nz\n\" id=\"DejaVuSans-53\"/>\n      </defs>\n      <g transform=\"translate(20.878125 34.644403)scale(0.1 -0.1)\">\n       <use xlink:href=\"#DejaVuSans-53\"/>\n       <use x=\"63.623047\" xlink:href=\"#DejaVuSans-48\"/>\n      </g>\n     </g>\n    </g>\n    <g id=\"text_11\">\n     <!-- frequency -->\n     <defs>\n      <path d=\"M 37.109375 75.984375 \nL 37.109375 68.5 \nL 28.515625 68.5 \nQ 23.6875 68.5 21.796875 66.546875 \nQ 19.921875 64.59375 19.921875 59.515625 \nL 19.921875 54.6875 \nL 34.71875 54.6875 \nL 34.71875 47.703125 \nL 19.921875 47.703125 \nL 19.921875 0 \nL 10.890625 0 \nL 10.890625 47.703125 \nL 2.296875 47.703125 \nL 2.296875 54.6875 \nL 10.890625 54.6875 \nL 10.890625 58.5 \nQ 10.890625 67.625 15.140625 71.796875 \nQ 19.390625 75.984375 28.609375 75.984375 \nz\n\" id=\"DejaVuSans-102\"/>\n      <path d=\"M 41.109375 46.296875 \nQ 39.59375 47.171875 37.8125 47.578125 \nQ 36.03125 48 33.890625 48 \nQ 26.265625 48 22.1875 43.046875 \nQ 18.109375 38.09375 18.109375 28.8125 \nL 18.109375 0 \nL 9.078125 0 \nL 9.078125 54.6875 \nL 18.109375 54.6875 \nL 18.109375 46.1875 \nQ 20.953125 51.171875 25.484375 53.578125 \nQ 30.03125 56 36.53125 56 \nQ 37.453125 56 38.578125 55.875 \nQ 39.703125 55.765625 41.0625 55.515625 \nz\n\" id=\"DejaVuSans-114\"/>\n      <path d=\"M 56.203125 29.59375 \nL 56.203125 25.203125 \nL 14.890625 25.203125 \nQ 15.484375 15.921875 20.484375 11.0625 \nQ 25.484375 6.203125 34.421875 6.203125 \nQ 39.59375 6.203125 44.453125 7.46875 \nQ 49.3125 8.734375 54.109375 11.28125 \nL 54.109375 2.78125 \nQ 49.265625 0.734375 44.1875 -0.34375 \nQ 39.109375 -1.421875 33.890625 -1.421875 \nQ 20.796875 -1.421875 13.15625 6.1875 \nQ 5.515625 13.8125 5.515625 26.8125 \nQ 5.515625 40.234375 12.765625 48.109375 \nQ 20.015625 56 32.328125 56 \nQ 43.359375 56 49.78125 48.890625 \nQ 56.203125 41.796875 56.203125 29.59375 \nz\nM 47.21875 32.234375 \nQ 47.125 39.59375 43.09375 43.984375 \nQ 39.0625 48.390625 32.421875 48.390625 \nQ 24.90625 48.390625 20.390625 44.140625 \nQ 15.875 39.890625 15.1875 32.171875 \nz\n\" id=\"DejaVuSans-101\"/>\n      <path d=\"M 14.796875 27.296875 \nQ 14.796875 17.390625 18.875 11.75 \nQ 22.953125 6.109375 30.078125 6.109375 \nQ 37.203125 6.109375 41.296875 11.75 \nQ 45.40625 17.390625 45.40625 27.296875 \nQ 45.40625 37.203125 41.296875 42.84375 \nQ 37.203125 48.484375 30.078125 48.484375 \nQ 22.953125 48.484375 18.875 42.84375 \nQ 14.796875 37.203125 14.796875 27.296875 \nz\nM 45.40625 8.203125 \nQ 42.578125 3.328125 38.25 0.953125 \nQ 33.9375 -1.421875 27.875 -1.421875 \nQ 17.96875 -1.421875 11.734375 6.484375 \nQ 5.515625 14.40625 5.515625 27.296875 \nQ 5.515625 40.1875 11.734375 48.09375 \nQ 17.96875 56 27.875 56 \nQ 33.9375 56 38.25 53.625 \nQ 42.578125 51.265625 45.40625 46.390625 \nL 45.40625 54.6875 \nL 54.390625 54.6875 \nL 54.390625 -20.796875 \nL 45.40625 -20.796875 \nz\n\" id=\"DejaVuSans-113\"/>\n      <path d=\"M 8.5 21.578125 \nL 8.5 54.6875 \nL 17.484375 54.6875 \nL 17.484375 21.921875 \nQ 17.484375 14.15625 20.5 10.265625 \nQ 23.53125 6.390625 29.59375 6.390625 \nQ 36.859375 6.390625 41.078125 11.03125 \nQ 45.3125 15.671875 45.3125 23.6875 \nL 45.3125 54.6875 \nL 54.296875 54.6875 \nL 54.296875 0 \nL 45.3125 0 \nL 45.3125 8.40625 \nQ 42.046875 3.421875 37.71875 1 \nQ 33.40625 -1.421875 27.6875 -1.421875 \nQ 18.265625 -1.421875 13.375 4.4375 \nQ 8.5 10.296875 8.5 21.578125 \nz\nM 31.109375 56 \nz\n\" id=\"DejaVuSans-117\"/>\n      <path d=\"M 54.890625 33.015625 \nL 54.890625 0 \nL 45.90625 0 \nL 45.90625 32.71875 \nQ 45.90625 40.484375 42.875 44.328125 \nQ 39.84375 48.1875 33.796875 48.1875 \nQ 26.515625 48.1875 22.3125 43.546875 \nQ 18.109375 38.921875 18.109375 30.90625 \nL 18.109375 0 \nL 9.078125 0 \nL 9.078125 54.6875 \nL 18.109375 54.6875 \nL 18.109375 46.1875 \nQ 21.34375 51.125 25.703125 53.5625 \nQ 30.078125 56 35.796875 56 \nQ 45.21875 56 50.046875 50.171875 \nQ 54.890625 44.34375 54.890625 33.015625 \nz\n\" id=\"DejaVuSans-110\"/>\n      <path d=\"M 48.78125 52.59375 \nL 48.78125 44.1875 \nQ 44.96875 46.296875 41.140625 47.34375 \nQ 37.3125 48.390625 33.40625 48.390625 \nQ 24.65625 48.390625 19.8125 42.84375 \nQ 14.984375 37.3125 14.984375 27.296875 \nQ 14.984375 17.28125 19.8125 11.734375 \nQ 24.65625 6.203125 33.40625 6.203125 \nQ 37.3125 6.203125 41.140625 7.25 \nQ 44.96875 8.296875 48.78125 10.40625 \nL 48.78125 2.09375 \nQ 45.015625 0.34375 40.984375 -0.53125 \nQ 36.96875 -1.421875 32.421875 -1.421875 \nQ 20.0625 -1.421875 12.78125 6.34375 \nQ 5.515625 14.109375 5.515625 27.296875 \nQ 5.515625 40.671875 12.859375 48.328125 \nQ 20.21875 56 33.015625 56 \nQ 37.15625 56 41.109375 55.140625 \nQ 45.0625 54.296875 48.78125 52.59375 \nz\n\" id=\"DejaVuSans-99\"/>\n      <path d=\"M 32.171875 -5.078125 \nQ 28.375 -14.84375 24.75 -17.8125 \nQ 21.140625 -20.796875 15.09375 -20.796875 \nL 7.90625 -20.796875 \nL 7.90625 -13.28125 \nL 13.1875 -13.28125 \nQ 16.890625 -13.28125 18.9375 -11.515625 \nQ 21 -9.765625 23.484375 -3.21875 \nL 25.09375 0.875 \nL 2.984375 54.6875 \nL 12.5 54.6875 \nL 29.59375 11.921875 \nL 46.6875 54.6875 \nL 56.203125 54.6875 \nz\n\" id=\"DejaVuSans-121\"/>\n     </defs>\n     <g transform=\"translate(14.798438 264.834687)rotate(-90)scale(0.1 -0.1)\">\n      <use xlink:href=\"#DejaVuSans-102\"/>\n      <use x=\"35.205078\" xlink:href=\"#DejaVuSans-114\"/>\n      <use x=\"74.068359\" xlink:href=\"#DejaVuSans-101\"/>\n      <use x=\"135.591797\" xlink:href=\"#DejaVuSans-113\"/>\n      <use x=\"199.068359\" xlink:href=\"#DejaVuSans-117\"/>\n      <use x=\"262.447266\" xlink:href=\"#DejaVuSans-101\"/>\n      <use x=\"323.970703\" xlink:href=\"#DejaVuSans-110\"/>\n      <use x=\"387.349609\" xlink:href=\"#DejaVuSans-99\"/>\n      <use x=\"442.330078\" xlink:href=\"#DejaVuSans-121\"/>\n     </g>\n    </g>\n   </g>\n   <g id=\"patch_11\">\n    <path d=\"M 40.603125 457.198125 \nL 40.603125 22.318125 \n\" style=\"fill:none;stroke:#000000;stroke-linecap:square;stroke-linejoin:miter;stroke-width:0.8;\"/>\n   </g>\n   <g id=\"patch_12\">\n    <path d=\"M 710.203125 457.198125 \nL 710.203125 22.318125 \n\" style=\"fill:none;stroke:#000000;stroke-linecap:square;stroke-linejoin:miter;stroke-width:0.8;\"/>\n   </g>\n   <g id=\"patch_13\">\n    <path d=\"M 40.603125 457.198125 \nL 710.203125 457.198125 \n\" style=\"fill:none;stroke:#000000;stroke-linecap:square;stroke-linejoin:miter;stroke-width:0.8;\"/>\n   </g>\n   <g id=\"patch_14\">\n    <path d=\"M 40.603125 22.318125 \nL 710.203125 22.318125 \n\" style=\"fill:none;stroke:#000000;stroke-linecap:square;stroke-linejoin:miter;stroke-width:0.8;\"/>\n   </g>\n   <g id=\"text_12\">\n    <!-- NYC Anti-LGBTQ Hate Crimes -->\n    <defs>\n     <path d=\"M 64.40625 67.28125 \nL 64.40625 56.890625 \nQ 59.421875 61.53125 53.78125 63.8125 \nQ 48.140625 66.109375 41.796875 66.109375 \nQ 29.296875 66.109375 22.65625 58.46875 \nQ 16.015625 50.828125 16.015625 36.375 \nQ 16.015625 21.96875 22.65625 14.328125 \nQ 29.296875 6.6875 41.796875 6.6875 \nQ 48.140625 6.6875 53.78125 8.984375 \nQ 59.421875 11.28125 64.40625 15.921875 \nL 64.40625 5.609375 \nQ 59.234375 2.09375 53.4375 0.328125 \nQ 47.65625 -1.421875 41.21875 -1.421875 \nQ 24.65625 -1.421875 15.125 8.703125 \nQ 5.609375 18.84375 5.609375 36.375 \nQ 5.609375 53.953125 15.125 64.078125 \nQ 24.65625 74.21875 41.21875 74.21875 \nQ 47.75 74.21875 53.53125 72.484375 \nQ 59.328125 70.75 64.40625 67.28125 \nz\n\" id=\"DejaVuSans-67\"/>\n     <path d=\"M 18.3125 70.21875 \nL 18.3125 54.6875 \nL 36.8125 54.6875 \nL 36.8125 47.703125 \nL 18.3125 47.703125 \nL 18.3125 18.015625 \nQ 18.3125 11.328125 20.140625 9.421875 \nQ 21.96875 7.515625 27.59375 7.515625 \nL 36.8125 7.515625 \nL 36.8125 0 \nL 27.59375 0 \nQ 17.1875 0 13.234375 3.875 \nQ 9.28125 7.765625 9.28125 18.015625 \nL 9.28125 47.703125 \nL 2.6875 47.703125 \nL 2.6875 54.6875 \nL 9.28125 54.6875 \nL 9.28125 70.21875 \nz\n\" id=\"DejaVuSans-116\"/>\n     <path d=\"M 9.421875 54.6875 \nL 18.40625 54.6875 \nL 18.40625 0 \nL 9.421875 0 \nz\nM 9.421875 75.984375 \nL 18.40625 75.984375 \nL 18.40625 64.59375 \nL 9.421875 64.59375 \nz\n\" id=\"DejaVuSans-105\"/>\n     <path d=\"M 39.40625 66.21875 \nQ 28.65625 66.21875 22.328125 58.203125 \nQ 16.015625 50.203125 16.015625 36.375 \nQ 16.015625 22.609375 22.328125 14.59375 \nQ 28.65625 6.59375 39.40625 6.59375 \nQ 50.140625 6.59375 56.421875 14.59375 \nQ 62.703125 22.609375 62.703125 36.375 \nQ 62.703125 50.203125 56.421875 58.203125 \nQ 50.140625 66.21875 39.40625 66.21875 \nz\nM 53.21875 1.3125 \nL 66.21875 -12.890625 \nL 54.296875 -12.890625 \nL 43.5 -1.21875 \nQ 41.890625 -1.3125 41.03125 -1.359375 \nQ 40.1875 -1.421875 39.40625 -1.421875 \nQ 24.03125 -1.421875 14.8125 8.859375 \nQ 5.609375 19.140625 5.609375 36.375 \nQ 5.609375 53.65625 14.8125 63.9375 \nQ 24.03125 74.21875 39.40625 74.21875 \nQ 54.734375 74.21875 63.90625 63.9375 \nQ 73.09375 53.65625 73.09375 36.375 \nQ 73.09375 23.6875 67.984375 14.640625 \nQ 62.890625 5.609375 53.21875 1.3125 \nz\n\" id=\"DejaVuSans-81\"/>\n     <path d=\"M 34.28125 27.484375 \nQ 23.390625 27.484375 19.1875 25 \nQ 14.984375 22.515625 14.984375 16.5 \nQ 14.984375 11.71875 18.140625 8.90625 \nQ 21.296875 6.109375 26.703125 6.109375 \nQ 34.1875 6.109375 38.703125 11.40625 \nQ 43.21875 16.703125 43.21875 25.484375 \nL 43.21875 27.484375 \nz\nM 52.203125 31.203125 \nL 52.203125 0 \nL 43.21875 0 \nL 43.21875 8.296875 \nQ 40.140625 3.328125 35.546875 0.953125 \nQ 30.953125 -1.421875 24.3125 -1.421875 \nQ 15.921875 -1.421875 10.953125 3.296875 \nQ 6 8.015625 6 15.921875 \nQ 6 25.140625 12.171875 29.828125 \nQ 18.359375 34.515625 30.609375 34.515625 \nL 43.21875 34.515625 \nL 43.21875 35.40625 \nQ 43.21875 41.609375 39.140625 45 \nQ 35.0625 48.390625 27.6875 48.390625 \nQ 23 48.390625 18.546875 47.265625 \nQ 14.109375 46.140625 10.015625 43.890625 \nL 10.015625 52.203125 \nQ 14.9375 54.109375 19.578125 55.046875 \nQ 24.21875 56 28.609375 56 \nQ 40.484375 56 46.34375 49.84375 \nQ 52.203125 43.703125 52.203125 31.203125 \nz\n\" id=\"DejaVuSans-97\"/>\n     <path d=\"M 52 44.1875 \nQ 55.375 50.25 60.0625 53.125 \nQ 64.75 56 71.09375 56 \nQ 79.640625 56 84.28125 50.015625 \nQ 88.921875 44.046875 88.921875 33.015625 \nL 88.921875 0 \nL 79.890625 0 \nL 79.890625 32.71875 \nQ 79.890625 40.578125 77.09375 44.375 \nQ 74.3125 48.1875 68.609375 48.1875 \nQ 61.625 48.1875 57.5625 43.546875 \nQ 53.515625 38.921875 53.515625 30.90625 \nL 53.515625 0 \nL 44.484375 0 \nL 44.484375 32.71875 \nQ 44.484375 40.625 41.703125 44.40625 \nQ 38.921875 48.1875 33.109375 48.1875 \nQ 26.21875 48.1875 22.15625 43.53125 \nQ 18.109375 38.875 18.109375 30.90625 \nL 18.109375 0 \nL 9.078125 0 \nL 9.078125 54.6875 \nL 18.109375 54.6875 \nL 18.109375 46.1875 \nQ 21.1875 51.21875 25.484375 53.609375 \nQ 29.78125 56 35.6875 56 \nQ 41.65625 56 45.828125 52.96875 \nQ 50 49.953125 52 44.1875 \nz\n\" id=\"DejaVuSans-109\"/>\n     <path d=\"M 44.28125 53.078125 \nL 44.28125 44.578125 \nQ 40.484375 46.53125 36.375 47.5 \nQ 32.28125 48.484375 27.875 48.484375 \nQ 21.1875 48.484375 17.84375 46.4375 \nQ 14.5 44.390625 14.5 40.28125 \nQ 14.5 37.15625 16.890625 35.375 \nQ 19.28125 33.59375 26.515625 31.984375 \nL 29.59375 31.296875 \nQ 39.15625 29.25 43.1875 25.515625 \nQ 47.21875 21.78125 47.21875 15.09375 \nQ 47.21875 7.46875 41.1875 3.015625 \nQ 35.15625 -1.421875 24.609375 -1.421875 \nQ 20.21875 -1.421875 15.453125 -0.5625 \nQ 10.6875 0.296875 5.421875 2 \nL 5.421875 11.28125 \nQ 10.40625 8.6875 15.234375 7.390625 \nQ 20.0625 6.109375 24.8125 6.109375 \nQ 31.15625 6.109375 34.5625 8.28125 \nQ 37.984375 10.453125 37.984375 14.40625 \nQ 37.984375 18.0625 35.515625 20.015625 \nQ 33.0625 21.96875 24.703125 23.78125 \nL 21.578125 24.515625 \nQ 13.234375 26.265625 9.515625 29.90625 \nQ 5.8125 33.546875 5.8125 39.890625 \nQ 5.8125 47.609375 11.28125 51.796875 \nQ 16.75 56 26.8125 56 \nQ 31.78125 56 36.171875 55.265625 \nQ 40.578125 54.546875 44.28125 53.078125 \nz\n\" id=\"DejaVuSans-115\"/>\n    </defs>\n    <g transform=\"translate(287.864063 16.318125)scale(0.12 -0.12)\">\n     <use xlink:href=\"#DejaVuSans-78\"/>\n     <use x=\"74.804688\" xlink:href=\"#DejaVuSans-89\"/>\n     <use x=\"130.388672\" xlink:href=\"#DejaVuSans-67\"/>\n     <use x=\"200.212891\" xlink:href=\"#DejaVuSans-32\"/>\n     <use x=\"232\" xlink:href=\"#DejaVuSans-65\"/>\n     <use x=\"300.408203\" xlink:href=\"#DejaVuSans-110\"/>\n     <use x=\"363.787109\" xlink:href=\"#DejaVuSans-116\"/>\n     <use x=\"402.996094\" xlink:href=\"#DejaVuSans-105\"/>\n     <use x=\"430.779297\" xlink:href=\"#DejaVuSans-45\"/>\n     <use x=\"466.863281\" xlink:href=\"#DejaVuSans-76\"/>\n     <use x=\"522.576172\" xlink:href=\"#DejaVuSans-71\"/>\n     <use x=\"600.066406\" xlink:href=\"#DejaVuSans-66\"/>\n     <use x=\"668.669922\" xlink:href=\"#DejaVuSans-84\"/>\n     <use x=\"729.753906\" xlink:href=\"#DejaVuSans-81\"/>\n     <use x=\"808.464844\" xlink:href=\"#DejaVuSans-32\"/>\n     <use x=\"840.251953\" xlink:href=\"#DejaVuSans-72\"/>\n     <use x=\"915.447266\" xlink:href=\"#DejaVuSans-97\"/>\n     <use x=\"976.726562\" xlink:href=\"#DejaVuSans-116\"/>\n     <use x=\"1015.935547\" xlink:href=\"#DejaVuSans-101\"/>\n     <use x=\"1077.458984\" xlink:href=\"#DejaVuSans-32\"/>\n     <use x=\"1109.246094\" xlink:href=\"#DejaVuSans-67\"/>\n     <use x=\"1179.070312\" xlink:href=\"#DejaVuSans-114\"/>\n     <use x=\"1220.183594\" xlink:href=\"#DejaVuSans-105\"/>\n     <use x=\"1247.966797\" xlink:href=\"#DejaVuSans-109\"/>\n     <use x=\"1345.378906\" xlink:href=\"#DejaVuSans-101\"/>\n     <use x=\"1406.902344\" xlink:href=\"#DejaVuSans-115\"/>\n    </g>\n   </g>\n   <g id=\"legend_1\">\n    <g id=\"patch_15\">\n     <path d=\"M 519.876562 59.674375 \nL 703.203125 59.674375 \nQ 705.203125 59.674375 705.203125 57.674375 \nL 705.203125 29.318125 \nQ 705.203125 27.318125 703.203125 27.318125 \nL 519.876562 27.318125 \nQ 517.876562 27.318125 517.876562 29.318125 \nL 517.876562 57.674375 \nQ 517.876562 59.674375 519.876562 59.674375 \nz\n\" style=\"fill:#ffffff;opacity:0.8;stroke:#cccccc;stroke-linejoin:miter;\"/>\n    </g>\n    <g id=\"patch_16\">\n     <path d=\"M 521.876562 38.916562 \nL 541.876562 38.916562 \nL 541.876562 31.916562 \nL 521.876562 31.916562 \nz\n\" style=\"fill:#1f77b4;\"/>\n    </g>\n    <g id=\"text_13\">\n     <!-- 2019 Anti-LGBTQ Hate Crimes -->\n     <defs>\n      <path d=\"M 10.984375 1.515625 \nL 10.984375 10.5 \nQ 14.703125 8.734375 18.5 7.8125 \nQ 22.3125 6.890625 25.984375 6.890625 \nQ 35.75 6.890625 40.890625 13.453125 \nQ 46.046875 20.015625 46.78125 33.40625 \nQ 43.953125 29.203125 39.59375 26.953125 \nQ 35.25 24.703125 29.984375 24.703125 \nQ 19.046875 24.703125 12.671875 31.3125 \nQ 6.296875 37.9375 6.296875 49.421875 \nQ 6.296875 60.640625 12.9375 67.421875 \nQ 19.578125 74.21875 30.609375 74.21875 \nQ 43.265625 74.21875 49.921875 64.515625 \nQ 56.59375 54.828125 56.59375 36.375 \nQ 56.59375 19.140625 48.40625 8.859375 \nQ 40.234375 -1.421875 26.421875 -1.421875 \nQ 22.703125 -1.421875 18.890625 -0.6875 \nQ 15.09375 0.046875 10.984375 1.515625 \nz\nM 30.609375 32.421875 \nQ 37.25 32.421875 41.125 36.953125 \nQ 45.015625 41.5 45.015625 49.421875 \nQ 45.015625 57.28125 41.125 61.84375 \nQ 37.25 66.40625 30.609375 66.40625 \nQ 23.96875 66.40625 20.09375 61.84375 \nQ 16.21875 57.28125 16.21875 49.421875 \nQ 16.21875 41.5 20.09375 36.953125 \nQ 23.96875 32.421875 30.609375 32.421875 \nz\n\" id=\"DejaVuSans-57\"/>\n     </defs>\n     <g transform=\"translate(549.876562 38.916562)scale(0.1 -0.1)\">\n      <use xlink:href=\"#DejaVuSans-50\"/>\n      <use x=\"63.623047\" xlink:href=\"#DejaVuSans-48\"/>\n      <use x=\"127.246094\" xlink:href=\"#DejaVuSans-49\"/>\n      <use x=\"190.869141\" xlink:href=\"#DejaVuSans-57\"/>\n      <use x=\"254.492188\" xlink:href=\"#DejaVuSans-32\"/>\n      <use x=\"286.279297\" xlink:href=\"#DejaVuSans-65\"/>\n      <use x=\"354.6875\" xlink:href=\"#DejaVuSans-110\"/>\n      <use x=\"418.066406\" xlink:href=\"#DejaVuSans-116\"/>\n      <use x=\"457.275391\" xlink:href=\"#DejaVuSans-105\"/>\n      <use x=\"485.058594\" xlink:href=\"#DejaVuSans-45\"/>\n      <use x=\"521.142578\" xlink:href=\"#DejaVuSans-76\"/>\n      <use x=\"576.855469\" xlink:href=\"#DejaVuSans-71\"/>\n      <use x=\"654.345703\" xlink:href=\"#DejaVuSans-66\"/>\n      <use x=\"722.949219\" xlink:href=\"#DejaVuSans-84\"/>\n      <use x=\"784.033203\" xlink:href=\"#DejaVuSans-81\"/>\n      <use x=\"862.744141\" xlink:href=\"#DejaVuSans-32\"/>\n      <use x=\"894.53125\" xlink:href=\"#DejaVuSans-72\"/>\n      <use x=\"969.726562\" xlink:href=\"#DejaVuSans-97\"/>\n      <use x=\"1031.005859\" xlink:href=\"#DejaVuSans-116\"/>\n      <use x=\"1070.214844\" xlink:href=\"#DejaVuSans-101\"/>\n      <use x=\"1131.738281\" xlink:href=\"#DejaVuSans-32\"/>\n      <use x=\"1163.525391\" xlink:href=\"#DejaVuSans-67\"/>\n      <use x=\"1233.349609\" xlink:href=\"#DejaVuSans-114\"/>\n      <use x=\"1274.462891\" xlink:href=\"#DejaVuSans-105\"/>\n      <use x=\"1302.246094\" xlink:href=\"#DejaVuSans-109\"/>\n      <use x=\"1399.658203\" xlink:href=\"#DejaVuSans-101\"/>\n      <use x=\"1461.181641\" xlink:href=\"#DejaVuSans-115\"/>\n     </g>\n    </g>\n    <g id=\"patch_17\">\n     <path d=\"M 521.876562 53.594687 \nL 541.876562 53.594687 \nL 541.876562 46.594687 \nL 521.876562 46.594687 \nz\n\" style=\"fill:#ff7f0e;\"/>\n    </g>\n    <g id=\"text_14\">\n     <!-- 2020 Anti-LGBTQ Hate Crimes -->\n     <g transform=\"translate(549.876562 53.594687)scale(0.1 -0.1)\">\n      <use xlink:href=\"#DejaVuSans-50\"/>\n      <use x=\"63.623047\" xlink:href=\"#DejaVuSans-48\"/>\n      <use x=\"127.246094\" xlink:href=\"#DejaVuSans-50\"/>\n      <use x=\"190.869141\" xlink:href=\"#DejaVuSans-48\"/>\n      <use x=\"254.492188\" xlink:href=\"#DejaVuSans-32\"/>\n      <use x=\"286.279297\" xlink:href=\"#DejaVuSans-65\"/>\n      <use x=\"354.6875\" xlink:href=\"#DejaVuSans-110\"/>\n      <use x=\"418.066406\" xlink:href=\"#DejaVuSans-116\"/>\n      <use x=\"457.275391\" xlink:href=\"#DejaVuSans-105\"/>\n      <use x=\"485.058594\" xlink:href=\"#DejaVuSans-45\"/>\n      <use x=\"521.142578\" xlink:href=\"#DejaVuSans-76\"/>\n      <use x=\"576.855469\" xlink:href=\"#DejaVuSans-71\"/>\n      <use x=\"654.345703\" xlink:href=\"#DejaVuSans-66\"/>\n      <use x=\"722.949219\" xlink:href=\"#DejaVuSans-84\"/>\n      <use x=\"784.033203\" xlink:href=\"#DejaVuSans-81\"/>\n      <use x=\"862.744141\" xlink:href=\"#DejaVuSans-32\"/>\n      <use x=\"894.53125\" xlink:href=\"#DejaVuSans-72\"/>\n      <use x=\"969.726562\" xlink:href=\"#DejaVuSans-97\"/>\n      <use x=\"1031.005859\" xlink:href=\"#DejaVuSans-116\"/>\n      <use x=\"1070.214844\" xlink:href=\"#DejaVuSans-101\"/>\n      <use x=\"1131.738281\" xlink:href=\"#DejaVuSans-32\"/>\n      <use x=\"1163.525391\" xlink:href=\"#DejaVuSans-67\"/>\n      <use x=\"1233.349609\" xlink:href=\"#DejaVuSans-114\"/>\n      <use x=\"1274.462891\" xlink:href=\"#DejaVuSans-105\"/>\n      <use x=\"1302.246094\" xlink:href=\"#DejaVuSans-109\"/>\n      <use x=\"1399.658203\" xlink:href=\"#DejaVuSans-101\"/>\n      <use x=\"1461.181641\" xlink:href=\"#DejaVuSans-115\"/>\n     </g>\n    </g>\n   </g>\n  </g>\n </g>\n <defs>\n  <clipPath id=\"p2ff1af572b\">\n   <rect height=\"434.88\" width=\"669.6\" x=\"40.603125\" y=\"22.318125\"/>\n  </clipPath>\n </defs>\n</svg>\n",
      "image/png": "[encoded data removed]"
     },
     "metadata": {
      "needs_background": "light"
     }
    }
   ],
   "source": [
    "\n",
    "import matplotlib.pyplot as plt\n",
    "labels = uni\n",
    "c2019 = count\n",
    "c2020 = count2020\n",
    "\n",
    "x = np.arange(len(labels))  # the label locations\n",
    "width = 0.35  # the width of the bars\n",
    "\n",
    "fig, ax = plt.subplots(figsize=(12,8))\n",
    "# plt.figure(figsize=(20, 6))\n",
    "rects1 = ax.bar(x - width/2, c2019, width, label='2019 Anti-LGBTQ Hate Crimes')\n",
    "rects2 = ax.bar(x + width/2, c2020, width, label='2020 Anti-LGBTQ Hate Crimes')\n",
    "\n",
    "# Add some text for labels, title and custom x-axis tick labels, etc.\n",
    "ax.set_ylabel('frequency')\n",
    "ax.set_title('NYC Anti-LGBTQ Hate Crimes')\n",
    "ax.set_xticks(x)\n",
    "ax.set_xticklabels(labels)\n",
    "ax.legend()\n",
    "ax.autoscale(tight=True)\n",
    "# figure = plt.figure()\n",
    "# figure.set_size_inches(10, 5)\n",
    "# fig.set_figheight(25)\n",
    "# fig.set_figwidth(10)\n",
    "# ax.figure(figsize=(20, 6))"
   ]
  },
  {
   "cell_type": "markdown",
   "id": "excessive-trade",
   "metadata": {},
   "source": [
    "## Part 6 - Conclusion\n",
    "\n",
    "I can draw the conclusion that comparing these two years of data, anti-male homosexual hate crimes were still the most among all the other groups. Even though I did not put the crime severe degree of the hate crimes for these people, we can see from the count that most of the crimes are misdemeanor and some are felonies. This is very serious because the hate crimes are of no major reasons and the LGBTQ groups suffered from these a lot, especially for gays. We can see that female victims ratio is getting higher than 2019 in 2020. \n",
    "With the anti-race felonies brief analysis, I can find out that there are a lot of unclassified crimes which is concerning to me. 'Unclassified' is the major category of the hate crimes felony for anti-race crimes in NYC. Other than that, the most felonies are harassment. Overall, it is quite concerning to me that there are more anti-asian hate crimes than anti-black hate crimes in NYC.  \n"
   ]
  }
 ],
 "metadata": {
  "kernelspec": {
   "display_name": "Python 3",
   "language": "python",
   "name": "python3"
  },
  "language_info": {
   "codemirror_mode": {
    "name": "ipython",
    "version": 3
   },
   "file_extension": ".py",
   "mimetype": "text/x-python",
   "name": "python",
   "nbconvert_exporter": "python",
   "pygments_lexer": "ipython3",
   "version": "3.8.3-final"
  }
 },
 "nbformat": 4,
 "nbformat_minor": 5
}